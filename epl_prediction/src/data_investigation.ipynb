{
 "cells": [
  {
   "cell_type": "code",
   "execution_count": 1,
   "metadata": {},
   "outputs": [],
   "source": [
    "import numpy as np\n",
    "import pandas as pd\n",
    "\n",
    "import plotly.graph_objects as go\n",
    "import plotly.express as px\n",
    "from plotly.subplots import make_subplots"
   ]
  },
  {
   "cell_type": "code",
   "execution_count": 132,
   "metadata": {},
   "outputs": [],
   "source": [
    "results = pd.read_csv(\"/Users/eden/Desktop/Uni/Side projects/EPL_prediction/epl_prediction/data/results.csv\", encoding='ISO-8859-1')"
   ]
  },
  {
   "cell_type": "code",
   "execution_count": null,
   "metadata": {},
   "outputs": [],
   "source": [
    "epl_results = results.copy().dropna()\n",
    "epl_results.info()"
   ]
  },
  {
   "cell_type": "markdown",
   "metadata": {},
   "source": [
    "### Lets inspect the data and whether it is consisiten throughout the dataset"
   ]
  },
  {
   "cell_type": "code",
   "execution_count": null,
   "metadata": {},
   "outputs": [],
   "source": [
    "# Full time goals\n",
    "# Goals conceded\n",
    "# Shots\n",
    "# Shots on target\n",
    "# Corners\n",
    "# Fouls\n",
    "# Yellow cards\n",
    "# Red cards\n",
    "\n",
    "ftg_by_season = epl_results.groupby(\"Season\")[[\"FTHG\", \"FTAG\"]].sum().sum(axis=1) / epl_results.groupby(\"Season\").size()\n",
    "ftgc_by_season = epl_results.groupby(\"Season\")[[\"FTHG\", \"FTAG\"]].sum().sum(axis=1) / epl_results.groupby(\"Season\").size()\n",
    "fts_by_season = epl_results.groupby(\"Season\")[[\"HS\", \"AS\"]].sum().sum(axis=1) / epl_results.groupby(\"Season\").size()\n",
    "ftst_by_season = epl_results.groupby(\"Season\")[[\"HST\", \"AST\"]].sum().sum(axis=1) / epl_results.groupby(\"Season\").size()\n",
    "fc_by_season = epl_results.groupby(\"Season\")[[\"HC\", \"AC\"]].sum().sum(axis=1) / epl_results.groupby(\"Season\").size()\n",
    "ff_by_season = epl_results.groupby(\"Season\")[[\"HF\", \"AF\"]].sum().sum(axis=1) / epl_results.groupby(\"Season\").size()\n",
    "fhy_by_season = epl_results.groupby(\"Season\")[[\"HY\", \"AY\"]].sum().sum(axis=1) / epl_results.groupby(\"Season\").size()\n",
    "fhr_by_season = epl_results.groupby(\"Season\")[[\"HR\", \"AR\"]].sum().sum(axis=1) / epl_results.groupby(\"Season\").size()\n",
    "\n",
    "\n",
    "fig = make_subplots(rows = 4, cols = 2, shared_xaxes=True)\n",
    "fig.add_trace(go.Scatter(x = ftg_by_season.index.astype(str), y = ftg_by_season.values, name = \"Full time goals\"), row = 1, col = 1)\n",
    "fig.add_trace(go.Scatter(x = ftgc_by_season.index.astype(str), y = ftgc_by_season.values, name = \"Full time goals conceded\"), row = 1, col = 2)\n",
    "fig.add_trace(go.Scatter(x = fts_by_season.index.astype(str), y = fts_by_season.values, name = \"Full time shots\"), row = 2, col = 1)\n",
    "fig.add_trace(go.Scatter(x = ftst_by_season.index.astype(str), y = ftst_by_season.values, name = \"Full time shots on target\"), row = 2, col = 2)\n",
    "fig.add_trace(go.Scatter(x = fc_by_season.index.astype(str), y = fc_by_season.values, name = \"Full time corners\"), row = 3, col = 1)\n",
    "fig.add_trace(go.Scatter(x = ff_by_season.index.astype(str), y = ff_by_season.values, name = \"Full time fouls\"), row = 3, col = 2)\n",
    "fig.add_trace(go.Scatter(x = fhy_by_season.index.astype(str), y = fhy_by_season.values, name = \"Full time yellow cards\"), row = 4, col = 1)\n",
    "fig.add_trace(go.Scatter(x = fhr_by_season.index.astype(str), y = fhr_by_season.values, name = \"Full time red cards\"), row = 4, col = 2)\n",
    "\n",
    "fig.update_layout(title = \"Season-long stats by season\", xaxis_title = \"Season\", yaxis_title = \"Average stats\")\n",
    "fig.update_xaxes(type = \"category\")\n",
    "fig.show()\n",
    "\n"
   ]
  },
  {
   "cell_type": "markdown",
   "metadata": {},
   "source": [
    "All follow a rough consistent trend barring shots on target which sees a significant drop between the 2012-13 and 2013-14 seasons. It is likely that the way in which shots on target are counted has changed, so I won't use this feature, but apart from that it's probably fine."
   ]
  },
  {
   "cell_type": "code",
   "execution_count": null,
   "metadata": {},
   "outputs": [],
   "source": [
    "ftr_h_count = epl_results[epl_results[\"FTR\"] == \"H\"].shape[0]\n",
    "ftr_a_count = epl_results[epl_results[\"FTR\"] == \"A\"].shape[0]\n",
    "ftr_d_count = epl_results[epl_results[\"FTR\"] == \"D\"].shape[0]\n",
    "\n",
    "fig = go.Figure()\n",
    "fig.add_trace(go.Bar(x = [\"Home wins\", \"Away wins\", \"Draws\"], y = [ftr_h_count, ftr_a_count, ftr_d_count], name = \"Full time results\"))\n",
    "fig.update_layout(title = \"Full time results\", xaxis_title = \"Result\", yaxis_title = \"Count\")\n",
    "fig.show()"
   ]
  },
  {
   "cell_type": "markdown",
   "metadata": {},
   "source": [
    "It's clear being h/a makes a significant difference, so we will seperate the data into home and away stats, as well as overall stats."
   ]
  },
  {
   "cell_type": "markdown",
   "metadata": {},
   "source": [
    "- 'Season' - needed for season-long stats, but probably not useful for individual game prediction?\n",
    "- 'DateTime' - not useful\n",
    "- 'HomeTeam' - needed \n",
    "- 'AwayTeam' - needed\n",
    "- 'FTHG' - probably useful\n",
    "- 'FTAG' - probably useful\n",
    "- 'FTR' - result of the game, target variable\n",
    "- 'HTHG' - probably not useful\n",
    "- 'HTAG' - probably not useful\n",
    "- 'HTR' - probably not useful\n",
    "- 'Referee' - Probaly useful, but referees are not consistent throughout the years, \n",
    "            so we probably could not reliably use this feature.\n",
    "- 'HS' - probably useful\n",
    "- 'AS' - probably useful\n",
    "- 'HST' - not useful, as mentioned previously\n",
    "- 'AST' - not useful, as mentioned previously\n",
    "- 'HC' - maybe useful\n",
    "- 'AC' - maybe useful\n",
    "- 'HF' - maybe useful\n",
    "- 'AF' - maybe useful\n",
    "- 'HY' - maybe useful\n",
    "- 'AY' - maybe useful\n",
    "- 'HR' - maybe useful\n",
    "- 'AR' - maybe useful"
   ]
  },
  {
   "cell_type": "markdown",
   "metadata": {},
   "source": [
    "# Feature selection\n",
    "\n",
    "Unfortunately, we will be unable to predict any results based on the stats for a single game, as we will only have previous data.\n",
    "Therefore, we will need to aggregate data to a season level. I'm going to try and predict the outcome of a game based on a team's historical performances. Specific information against the opponent may also be useful.\n",
    "\n",
    "I'm goint to start by just picking a ton of different stats, and then we will evaluate their significance later, and trim down the number of features."
   ]
  },
  {
   "cell_type": "markdown",
   "metadata": {},
   "source": [
    "Features:\n",
    "- Per season stats:\n",
    "    - Points per game (home, away, total)\n",
    "    - Goals scored per game (home, away, total)\n",
    "    - Goals conceded per game (home, away, total)\n",
    "    - Goal difference per game (home, away, total)\n",
    "    - Shots per game (home, away, total)\n",
    "    - Fouls per game (home, away, total)\n",
    "    - Corners per game (home, away, total)\n",
    "    - Yellow cards per game (home, away, total)\n",
    "    - Red cards per game (home, away, total)\n",
    "    - Finishing position\n",
    "\n",
    "- Per last 5 games against opponent:\n",
    "    - Points against opponent per game (home, away, total)\n",
    "    - Goals scored against opponent per game (home, away, total)\n",
    "    - Shots against opponent per game (home, away, total)\n",
    "    - Fouls against opponent per game (home, away, total)\n",
    "    - Corners against opponent per game (home, away, total)\n",
    "    - Yellow cards against opponent per game (home, away, total)\n",
    "    - Red cards against opponent per game (home, away, total)"
   ]
  },
  {
   "cell_type": "markdown",
   "metadata": {},
   "source": [
    "# Per-Season stats"
   ]
  },
  {
   "cell_type": "code",
   "execution_count": 4,
   "metadata": {},
   "outputs": [],
   "source": [
    "season_2019_20 = epl_results[epl_results[\"Season\"] == \"2019-20\"].copy()"
   ]
  },
  {
   "cell_type": "code",
   "execution_count": 5,
   "metadata": {},
   "outputs": [],
   "source": [
    "\"\"\"\n",
    "Calculate points per game for each team\n",
    "- Home team points per game at home\n",
    "- Away team points per game on away\n",
    "- Overall points per game for both teams\n",
    "\"\"\"\n",
    "\n",
    "def calculate_points_for_season(season):\n",
    "    def calculate_points(results):\n",
    "        return ((results == \"W\").sum() * 3 + (results == \"D\").sum() * 1) / len(results)\n",
    "\n",
    "    home_points = season.groupby(\"HomeTeam\").apply(\n",
    "        lambda x: calculate_points(x[\"FTR\"].map({\"H\": \"W\", \"D\": \"D\", \"A\": \"L\"}))\n",
    "    )\n",
    "    away_points = season.groupby(\"AwayTeam\").apply(\n",
    "        lambda x: calculate_points(x[\"FTR\"].map({\"A\": \"W\", \"D\": \"D\", \"H\": \"L\"}))\n",
    "    )\n",
    "\n",
    "    all_points = pd.concat([home_points, away_points], axis=1)\n",
    "    all_points.columns = [\"PointsPGAtHome\", \"PointsPGOnAway\"]\n",
    "    all_points[\"PointsPGOverall\"] = (all_points[\"PointsPGAtHome\"] + all_points[\"PointsPGOnAway\"]) / 2\n",
    "\n",
    "    # Add to main dataset\n",
    "    season = season.merge(all_points, left_on=\"HomeTeam\", right_index=True, how=\"left\")\n",
    "    season = season.merge(all_points, left_on=\"AwayTeam\", right_index=True, \n",
    "                                        how=\"left\", suffixes=('_HomeTeam', '_AwayTeam'))\n",
    "\n",
    "    season = season.drop(columns = [\"PointsPGAtHome_AwayTeam\", \"PointsPGOnAway_HomeTeam\"]\n",
    "                                        ).rename(columns = {\"PointsPGAtHome_HomeTeam\" : \"HomeTeamPointsPGAtHome\",\n",
    "                                                            \"PointsPGOnAway_AwayTeam\" : \"AwayTeamPointsPGOnAway\",\n",
    "                                                            \"PointsPGOverall_HomeTeam\" : \"HomeTeamPointsPGOverall\",\n",
    "                                                            \"PointsPGOverall_AwayTeam\" : \"AwayTeamPointsPGOverall\"})\n",
    "    return season\n"
   ]
  },
  {
   "cell_type": "code",
   "execution_count": 6,
   "metadata": {},
   "outputs": [],
   "source": [
    "\"\"\"\n",
    "Goals scored per game for each team\n",
    "- Home team goals scored per game at home\n",
    "- Away team goals scored per game on away\n",
    "- Overall goals scored per game for both teams\n",
    "\"\"\"\n",
    "def calculate_goals_scored_for_season(season):\n",
    "    home_goals_scored = season.groupby(\"HomeTeam\").apply(\n",
    "        lambda x: x[\"FTHG\"].mean()\n",
    "    )\n",
    "    away_goals_scored = season.groupby(\"AwayTeam\").apply(\n",
    "        lambda x: x[\"FTAG\"].mean()\n",
    "    )\n",
    "\n",
    "    all_goals_scored = pd.concat([home_goals_scored, away_goals_scored], axis=1)\n",
    "    all_goals_scored.columns = [\"HomeTeamGoalsScoredPG\", \"AwayTeamGoalsScoredPG\"]\n",
    "    all_goals_scored[\"OverallGoalsScoredPG\"] = (all_goals_scored[\"HomeTeamGoalsScoredPG\"] + all_goals_scored[\"AwayTeamGoalsScoredPG\"]) / 2\n",
    "\n",
    "    # Add to main dataset\n",
    "    season = season.merge(all_goals_scored, left_on=\"HomeTeam\", right_index=True, how=\"left\")\n",
    "    season = season.merge(all_goals_scored, left_on=\"AwayTeam\", right_index=True, \n",
    "                                      how=\"left\", suffixes=('_HomeTeam', '_AwayTeam'))\n",
    "    season = season.drop(columns = [\"HomeTeamGoalsScoredPG_AwayTeam\", \"AwayTeamGoalsScoredPG_HomeTeam\"]\n",
    "                                     ).rename(columns = {\"HomeTeamGoalsScoredPG_HomeTeam\" : \"HomeTeamGoalsScoredPGAtHome\",\n",
    "                                                        \"AwayTeamGoalsScoredPG_AwayTeam\" : \"AwayTeamGoalsScoredPGOnAway\",\n",
    "                                                        \"OverallGoalsScoredPG_HomeTeam\" : \"HomeTeamGoalsScoredPGOverall\",\n",
    "                                                        \"OverallGoalsScoredPG_AwayTeam\" : \"AwayTeamGoalsScoredPGOverall\"})  \n",
    "    return season"
   ]
  },
  {
   "cell_type": "code",
   "execution_count": 7,
   "metadata": {},
   "outputs": [],
   "source": [
    "\"\"\"\n",
    "Goals conceded per game for each team\n",
    "- Home team goals conceded per game at home\n",
    "- Away team goals conceded per game on away\n",
    "- Overall goals conceded per game for both teams\n",
    "\"\"\"\n",
    "def calculate_goals_conceded_for_season(season):\n",
    "    home_goals_conceded = season.groupby(\"HomeTeam\").apply(\n",
    "        lambda x: x[\"FTAG\"].mean()\n",
    "    )\n",
    "    away_goals_conceded = season.groupby(\"AwayTeam\").apply(\n",
    "        lambda x: x[\"FTHG\"].mean()\n",
    "    )\n",
    "\n",
    "    all_goals_conceded = pd.concat([home_goals_conceded, away_goals_conceded], axis=1)  \n",
    "    all_goals_conceded.columns = [\"HomeTeamGoalsConcededPG\", \"AwayTeamGoalsConcededPG\"]\n",
    "    all_goals_conceded[\"OverallGoalsConcededPG\"] = (all_goals_conceded[\"HomeTeamGoalsConcededPG\"] + all_goals_conceded[\"AwayTeamGoalsConcededPG\"]) / 2\n",
    "\n",
    "    # Add to main dataset\n",
    "    season = season.merge(all_goals_conceded, left_on=\"HomeTeam\", right_index=True, how=\"left\")\n",
    "    season = season.merge(all_goals_conceded, left_on=\"AwayTeam\", right_index=True, \n",
    "                                      how=\"left\", suffixes=('_HomeTeam', '_AwayTeam'))  \n",
    "    season = season.drop(columns = [\"HomeTeamGoalsConcededPG_AwayTeam\", \"AwayTeamGoalsConcededPG_HomeTeam\"]\n",
    "                                     ).rename(columns = {\"HomeTeamGoalsConcededPG_HomeTeam\" : \"HomeTeamGoalsConcededPGAtHome\",\n",
    "                                                        \"AwayTeamGoalsConcededPG_AwayTeam\" : \"AwayTeamGoalsConcededPGOnAway\",\n",
    "                                                        \"OverallGoalsConcededPG_HomeTeam\" : \"HomeTeamGoalsConcededPGOverall\",\n",
    "                                                        \"OverallGoalsConcededPG_AwayTeam\" : \"AwayTeamGoalsConcededPGOverall\"})  \n",
    "    return season"
   ]
  },
  {
   "cell_type": "code",
   "execution_count": 8,
   "metadata": {},
   "outputs": [],
   "source": [
    "\"\"\"\n",
    "Goal difference per game for each team\n",
    "- Home team goal difference per game at home\n",
    "- Away team goal difference per game on away\n",
    "- Overall goal difference per game for both teams\n",
    "\n",
    "This feature may either be redundant, or render goals scored and goals conceded redundant. We will see.\n",
    "\"\"\"\n",
    "def calculate_goal_difference_for_season(season):\n",
    "    season[\"HomeTeamGoalDifferencePGAtHome\"] = season[\"HomeTeamGoalsScoredPGAtHome\"] - season[\"HomeTeamGoalsConcededPGAtHome\"]\n",
    "    season[\"AwayTeamGoalDifferencePGOnAway\"] = season[\"AwayTeamGoalsScoredPGOnAway\"] - season[\"AwayTeamGoalsConcededPGOnAway\"]\n",
    "    season[\"HomeTeamGoalDifferencePGOverall\"] = season[\"HomeTeamGoalsScoredPGOverall\"] - season[\"HomeTeamGoalsConcededPGOverall\"]\n",
    "    season[\"AwayTeamGoalDifferencePGOverall\"] = season[\"AwayTeamGoalsScoredPGOverall\"] - season[\"AwayTeamGoalsConcededPGOverall\"]\n",
    "    return season"
   ]
  },
  {
   "cell_type": "code",
   "execution_count": 9,
   "metadata": {},
   "outputs": [],
   "source": [
    "\"\"\"\n",
    "Shots per game for each team\n",
    "- Home team shots per game at home\n",
    "- Away team shots per game on away\n",
    "- Overall shots per game for both teams\n",
    "\n",
    "- Shots on target has a massive change from the 2013-14 season onward, hence I believe the way it was counted was changed.\n",
    "- Hence, I will not be using it as it's values are not consistent over the whole dataset.\n",
    "\"\"\"\n",
    "def calculate_shots_for_season(season):\n",
    "    home_shots = season.groupby(\"HomeTeam\").apply(\n",
    "        lambda x: x[\"HS\"].mean()\n",
    "    )\n",
    "    away_shots = season.groupby(\"AwayTeam\").apply(\n",
    "        lambda x: x[\"AS\"].mean()\n",
    "    )\n",
    "\n",
    "    all_shots = pd.concat([home_shots, away_shots], axis=1)\n",
    "    all_shots.columns = [\"HomeTeamShotsPG\", \"AwayTeamShotsPG\"]\n",
    "    all_shots[\"OverallShotsPG\"] = (all_shots[\"HomeTeamShotsPG\"] + all_shots[\"AwayTeamShotsPG\"]) / 2\n",
    "\n",
    "    # Add to main dataset\n",
    "    season = season.merge(all_shots, left_on=\"HomeTeam\", right_index=True, how=\"left\")\n",
    "    season = season.merge(all_shots, left_on=\"AwayTeam\", right_index=True, \n",
    "                                      how=\"left\", suffixes=('_HomeTeam', '_AwayTeam'))\n",
    "    season = season.drop(columns = [\"HomeTeamShotsPG_AwayTeam\", \"AwayTeamShotsPG_HomeTeam\"]\n",
    "                                     ).rename(columns = {\"HomeTeamShotsPG_HomeTeam\" : \"HomeTeamShotsPGAtHome\",\n",
    "                                                        \"AwayTeamShotsPG_AwayTeam\" : \"AwayTeamShotsPGOnAway\",\n",
    "                                                        \"OverallShotsPG_HomeTeam\" : \"HomeTeamShotsPGOverall\",\n",
    "                                                        \"OverallShotsPG_AwayTeam\" : \"AwayTeamShotsPGOverall\"})\n",
    "    return season\n"
   ]
  },
  {
   "cell_type": "code",
   "execution_count": 10,
   "metadata": {},
   "outputs": [],
   "source": [
    "\"\"\"\n",
    "Fouls per game for each team\n",
    "- Home team fouls per game at home\n",
    "- Away team fouls per game on away\n",
    "- Overall fouls per game for both teams\n",
    "\"\"\"\n",
    "def calculate_fouls_for_season(season):\n",
    "    home_fouls = season.groupby(\"HomeTeam\").apply(\n",
    "        lambda x: x[\"HF\"].mean()\n",
    "    )\n",
    "    away_fouls = season.groupby(\"AwayTeam\").apply(\n",
    "        lambda x: x[\"AF\"].mean()\n",
    "    )\n",
    "\n",
    "    all_fouls = pd.concat([home_fouls, away_fouls], axis=1)\n",
    "    all_fouls.columns = [\"HomeTeamFoulsPG\", \"AwayTeamFoulsPG\"]\n",
    "    all_fouls[\"OverallFoulsPG\"] = (all_fouls[\"HomeTeamFoulsPG\"] + all_fouls[\"AwayTeamFoulsPG\"]) / 2\n",
    "\n",
    "    # Add to main dataset\n",
    "    season = season.merge(all_fouls, left_on=\"HomeTeam\", right_index=True, how=\"left\")\n",
    "    season = season.merge(all_fouls, left_on=\"AwayTeam\", right_index=True, \n",
    "                                      how=\"left\", suffixes=('_HomeTeam', '_AwayTeam'))\n",
    "    season = season.drop(columns = [\"HomeTeamFoulsPG_AwayTeam\", \"AwayTeamFoulsPG_HomeTeam\"]\n",
    "                                     ).rename(columns = {\"HomeTeamFoulsPG_HomeTeam\" : \"HomeTeamFoulsPGAtHome\",\n",
    "                                                        \"AwayTeamFoulsPG_AwayTeam\" : \"AwayTeamFoulsPGOnAway\",\n",
    "                                                        \"OverallFoulsPG_HomeTeam\" : \"HomeTeamFoulsPGOverall\",\n",
    "                                                        \"OverallFoulsPG_AwayTeam\" : \"AwayTeamFoulsPGOverall\"})\n",
    "    return season"
   ]
  },
  {
   "cell_type": "code",
   "execution_count": 11,
   "metadata": {},
   "outputs": [],
   "source": [
    "\"\"\"\n",
    "Corners per game for each team\n",
    "- Home team corners per game at home\n",
    "- Away team corners per game on away\n",
    "- Overall corners per game for both teams\n",
    "\"\"\"\n",
    "def calculate_corners_for_season(season):\n",
    "    home_corners = season.groupby(\"HomeTeam\").apply(\n",
    "        lambda x: x[\"HC\"].mean()\n",
    "    )\n",
    "    away_corners = season.groupby(\"AwayTeam\").apply(\n",
    "        lambda x: x[\"AC\"].mean()\n",
    "    )\n",
    "\n",
    "    all_corners = pd.concat([home_corners, away_corners], axis=1)\n",
    "    all_corners.columns = [\"HomeTeamCornersPG\", \"AwayTeamCornersPG\"]\n",
    "    all_corners[\"OverallCornersPG\"] = (all_corners[\"HomeTeamCornersPG\"] + all_corners[\"AwayTeamCornersPG\"]) / 2\n",
    "\n",
    "    # Add to main dataset\n",
    "    season = season.merge(all_corners, left_on=\"HomeTeam\", right_index=True, how=\"left\")\n",
    "    season = season.merge(all_corners, left_on=\"AwayTeam\", right_index=True, \n",
    "                                      how=\"left\", suffixes=('_HomeTeam', '_AwayTeam'))\n",
    "    season = season.drop(columns = [\"HomeTeamCornersPG_AwayTeam\", \"AwayTeamCornersPG_HomeTeam\"]\n",
    "                                     ).rename(columns = {\"HomeTeamCornersPG_HomeTeam\" : \"HomeTeamCornersPGAtHome\",\n",
    "                                                        \"AwayTeamCornersPG_AwayTeam\" : \"AwayTeamCornersPGOnAway\",\n",
    "                                                        \"OverallCornersPG_HomeTeam\" : \"HomeTeamCornersPGOverall\",\n",
    "                                                        \"OverallCornersPG_AwayTeam\" : \"AwayTeamCornersPGOverall\"})\n",
    "    return season"
   ]
  },
  {
   "cell_type": "code",
   "execution_count": 12,
   "metadata": {},
   "outputs": [],
   "source": [
    "\"\"\"\n",
    "Yellow cards per game for each team\n",
    "- Home team yellow cards per game at home\n",
    "- Away team yellow cards per game on away\n",
    "- Overall yellow cards per game for both teams\n",
    "\"\"\"\n",
    "def calculate_yellow_cards_for_season(season):\n",
    "    home_yellow_cards = season.groupby(\"HomeTeam\").apply(\n",
    "        lambda x: x[\"HY\"].mean()\n",
    "    )\n",
    "    away_yellow_cards = season.groupby(\"AwayTeam\").apply(\n",
    "        lambda x: x[\"AY\"].mean()\n",
    "    )\n",
    "\n",
    "    all_yellow_cards = pd.concat([home_yellow_cards, away_yellow_cards], axis=1)\n",
    "    all_yellow_cards.columns = [\"HomeTeamYellowCardsPG\", \"AwayTeamYellowCardsPG\"]\n",
    "    all_yellow_cards[\"OverallYellowCardsPG\"] = (all_yellow_cards[\"HomeTeamYellowCardsPG\"] + all_yellow_cards[\"AwayTeamYellowCardsPG\"]) / 2\n",
    "\n",
    "    # Add to main dataset\n",
    "    season = season.merge(all_yellow_cards, left_on=\"HomeTeam\", right_index=True, how=\"left\")\n",
    "    season = season.merge(all_yellow_cards, left_on=\"AwayTeam\", right_index=True, \n",
    "                                      how=\"left\", suffixes=('_HomeTeam', '_AwayTeam'))\n",
    "    season = season.drop(columns = [\"HomeTeamYellowCardsPG_AwayTeam\", \"AwayTeamYellowCardsPG_HomeTeam\"]\n",
    "                                     ).rename(columns = {\"HomeTeamYellowCardsPG_HomeTeam\" : \"HomeTeamYellowCardsPGAtHome\",\n",
    "                                                        \"AwayTeamYellowCardsPG_AwayTeam\" : \"AwayTeamYellowCardsPGOnAway\",\n",
    "                                                        \"OverallYellowCardsPG_HomeTeam\" : \"HomeTeamYellowCardsPGOverall\",\n",
    "                                                        \"OverallYellowCardsPG_AwayTeam\" : \"AwayTeamYellowCardsPGOverall\"})\n",
    "    return season"
   ]
  },
  {
   "cell_type": "code",
   "execution_count": 13,
   "metadata": {},
   "outputs": [],
   "source": [
    "\"\"\"\n",
    "Red cards per game for each team\n",
    "- Home team red cards per game at home\n",
    "- Away team red cards per game on away\n",
    "- Overall red cards per game for both teams\n",
    "\"\"\"\n",
    "def calculate_red_cards_for_season(season):\n",
    "    home_red_cards = season.groupby(\"HomeTeam\").apply(\n",
    "        lambda x: x[\"HR\"].mean()\n",
    "    )\n",
    "    away_red_cards = season.groupby(\"AwayTeam\").apply(\n",
    "        lambda x: x[\"AR\"].mean()\n",
    "    )\n",
    "\n",
    "    all_red_cards = pd.concat([home_red_cards, away_red_cards], axis=1)\n",
    "    all_red_cards.columns = [\"HomeTeamRedCardsPG\", \"AwayTeamRedCardsPG\"]\n",
    "    all_red_cards[\"OverallRedCardsPG\"] = (all_red_cards[\"HomeTeamRedCardsPG\"] + all_red_cards[\"AwayTeamRedCardsPG\"]) / 2\n",
    "\n",
    "    # Add to main dataset\n",
    "    season = season.merge(all_red_cards, left_on=\"HomeTeam\", right_index=True, how=\"left\")\n",
    "    season = season.merge(all_red_cards, left_on=\"AwayTeam\", right_index=True, \n",
    "                                      how=\"left\", suffixes=('_HomeTeam', '_AwayTeam'))\n",
    "    season = season.drop(columns = [\"HomeTeamRedCardsPG_AwayTeam\", \"AwayTeamRedCardsPG_HomeTeam\"]\n",
    "                                     ).rename(columns = {\"HomeTeamRedCardsPG_HomeTeam\" : \"HomeTeamRedCardsPGAtHome\",\n",
    "                                                        \"AwayTeamRedCardsPG_AwayTeam\" : \"AwayTeamRedCardsPGOnAway\",\n",
    "                                                        \"OverallRedCardsPG_HomeTeam\" : \"HomeTeamRedCardsPGOverall\",\n",
    "                                                        \"OverallRedCardsPG_AwayTeam\" : \"AwayTeamRedCardsPGOverall\"})\n",
    "    return season\n"
   ]
  },
  {
   "cell_type": "markdown",
   "metadata": {},
   "source": [
    "---"
   ]
  },
  {
   "cell_type": "code",
   "execution_count": null,
   "metadata": {},
   "outputs": [],
   "source": [
    "test = epl_results.copy()\n",
    "\n",
    "test = test.groupby(\"Season\").apply(calculate_points_for_season).reset_index(drop = True)\n",
    "test = test.groupby(\"Season\").apply(calculate_goals_scored_for_season).reset_index(drop = True)\n",
    "test = test.groupby(\"Season\").apply(calculate_goals_conceded_for_season).reset_index(drop = True)\n",
    "test = test.groupby(\"Season\").apply(calculate_goal_difference_for_season).reset_index(drop = True)\n",
    "test = test.groupby(\"Season\").apply(calculate_shots_for_season).reset_index(drop = True)\n",
    "test = test.groupby(\"Season\").apply(calculate_fouls_for_season).reset_index(drop = True)\n",
    "test = test.groupby(\"Season\").apply(calculate_corners_for_season).reset_index(drop = True)\n",
    "test = test.groupby(\"Season\").apply(calculate_yellow_cards_for_season).reset_index(drop = True)\n",
    "test = test.groupby(\"Season\").apply(calculate_red_cards_for_season).reset_index(drop = True)"
   ]
  },
  {
   "cell_type": "markdown",
   "metadata": {},
   "source": [
    "---"
   ]
  },
  {
   "cell_type": "markdown",
   "metadata": {},
   "source": [
    "# Last 5 games between two teams\n",
    "\n",
    "Unfortunately, this will likely need to be done fixture by fixture."
   ]
  },
  {
   "cell_type": "code",
   "execution_count": null,
   "metadata": {},
   "outputs": [],
   "source": [
    "def get_last_5_games_stats(data, homeTeam, awayTeam, dateTime):\n",
    "    all_games_between_teams = data[(data[\"HomeTeam\"] == homeTeam) & (data[\"AwayTeam\"] == awayTeam) |\n",
    "                                    (data[\"HomeTeam\"] == awayTeam) & (data[\"AwayTeam\"] == homeTeam)]\n",
    "    all_games_between_teams_previous = all_games_between_teams[all_games_between_teams[\"DateTime\"] < dateTime].sort_values(by = \"DateTime\", ascending = True)\n",
    "    last_5_games = all_games_between_teams_previous.tail(5)\n",
    "\n",
    "    return last_5_games\n",
    "\n",
    "\n",
    "get_last_5_games_stats(test, \"Liverpool\", \"Man United\", \"2019-05-12 17:30:00\")"
   ]
  },
  {
   "cell_type": "code",
   "execution_count": 16,
   "metadata": {},
   "outputs": [],
   "source": [
    "\"\"\"Get points per game for last 5 games between two teams\"\"\"\n",
    "def get_points_per_game_for_last_5_games(fixture, data):\n",
    "\n",
    "    homeTeam = fixture[\"HomeTeam\"]\n",
    "    awayTeam = fixture[\"AwayTeam\"]\n",
    "    dateTime = fixture[\"DateTime\"]\n",
    "    \n",
    "    last_5_games = get_last_5_games_stats(data, homeTeam, awayTeam, dateTime)\n",
    "    def calculate_points(results):\n",
    "        return ((results == \"W\").sum() * 3 + (results == \"D\").sum() * 1) / len(results)\n",
    "    \n",
    "    home_points = last_5_games.groupby(\"HomeTeam\").apply(\n",
    "        lambda x: calculate_points(x[\"FTR\"].map({\"H\": \"W\", \"D\": \"D\", \"A\": \"L\"}))\n",
    "    )\n",
    "    away_points = last_5_games.groupby(\"AwayTeam\").apply(\n",
    "        lambda x: calculate_points(x[\"FTR\"].map({\"A\": \"W\", \"D\": \"D\", \"H\": \"L\"}))\n",
    "    )\n",
    "\n",
    "    all_points = pd.concat([home_points, away_points], axis=1)\n",
    "\n",
    "    try:\n",
    "        all_points.columns = [\"HomeTeamPointsPG\", \"AwayTeamPointsPG\"]\n",
    "        all_points[\"OverallPointsPG\"] = (all_points[\"HomeTeamPointsPG\"] + all_points[\"AwayTeamPointsPG\"]) / 2\n",
    "    except ValueError as e:\n",
    "        #print(e)\n",
    "        #print(all_points)\n",
    "        fixture[\"HomeTeamPointsPGAtHomeAgainstOpponent\"] = 0\n",
    "        fixture[\"AwayTeamPointsPGOnAwayAgainstOpponent\"] = 0\n",
    "        fixture[\"HomeTeamPointsPGOverallAgainstOpponent\"] = 0\n",
    "        fixture[\"AwayTeamPointsPGOverallAgainstOpponent\"] = 0\n",
    "        return fixture\n",
    "\n",
    "    fixture[\"HomeTeamPointsPGAtHomeAgainstOpponent\"] = all_points.loc[homeTeam, \"HomeTeamPointsPG\"]\n",
    "    fixture[\"AwayTeamPointsPGOnAwayAgainstOpponent\"] = all_points.loc[awayTeam, \"AwayTeamPointsPG\"]\n",
    "    fixture[\"HomeTeamPointsPGOverallAgainstOpponent\"] = all_points.loc[homeTeam, \"OverallPointsPG\"]\n",
    "    fixture[\"AwayTeamPointsPGOverallAgainstOpponent\"] = all_points.loc[awayTeam, \"OverallPointsPG\"]\n",
    "    return fixture\n"
   ]
  },
  {
   "cell_type": "code",
   "execution_count": 17,
   "metadata": {},
   "outputs": [],
   "source": [
    "def get_goals_scored_per_game_for_last_5_games(fixture, data):\n",
    "    homeTeam = fixture[\"HomeTeam\"]\n",
    "    awayTeam = fixture[\"AwayTeam\"]\n",
    "    dateTime = fixture[\"DateTime\"]\n",
    "    \n",
    "    last_5_games = get_last_5_games_stats(data, homeTeam, awayTeam, dateTime)\n",
    "    home_goals_scored = last_5_games.groupby(\"HomeTeam\").apply(\n",
    "        lambda x: x[\"FTHG\"].mean()\n",
    "    )\n",
    "    away_goals_scored = last_5_games.groupby(\"AwayTeam\").apply(\n",
    "        lambda x: x[\"FTAG\"].mean()\n",
    "    )\n",
    "\n",
    "    all_goals_scored = pd.concat([home_goals_scored, away_goals_scored], axis=1)\n",
    "    try:\n",
    "        all_goals_scored.columns = [\"HomeTeamGoalsScoredPG\", \"AwayTeamGoalsScoredPG\"]\n",
    "        all_goals_scored[\"OverallGoalsScoredPG\"] = (all_goals_scored[\"HomeTeamGoalsScoredPG\"] + all_goals_scored[\"AwayTeamGoalsScoredPG\"]) / 2\n",
    "\n",
    "    except ValueError as e:\n",
    "        fixture[\"HomeTeamGoalsScoredPGAtHomeAgainstOpponent\"] = 0\n",
    "        fixture[\"AwayTeamGoalsScoredPGOnAwayAgainstOpponent\"] = 0\n",
    "        fixture[\"HomeTeamGoalsScoredPGOverallAgainstOpponent\"] = 0\n",
    "        fixture[\"AwayTeamGoalsScoredPGOverallAgainstOpponent\"] = 0\n",
    "        return fixture\n",
    "\n",
    "    fixture[\"HomeTeamGoalsScoredPGAtHomeAgainstOpponent\"] = all_goals_scored.loc[homeTeam, \"HomeTeamGoalsScoredPG\"]\n",
    "    fixture[\"AwayTeamGoalsScoredPGOnAwayAgainstOpponent\"] = all_goals_scored.loc[awayTeam, \"AwayTeamGoalsScoredPG\"]\n",
    "    fixture[\"HomeTeamGoalsScoredPGOverallAgainstOpponent\"] = all_goals_scored.loc[homeTeam, \"OverallGoalsScoredPG\"]\n",
    "    fixture[\"AwayTeamGoalsScoredPGOverallAgainstOpponent\"] = all_goals_scored.loc[awayTeam, \"OverallGoalsScoredPG\"]\n",
    "    return fixture\n"
   ]
  },
  {
   "cell_type": "markdown",
   "metadata": {},
   "source": [
    "In this case goals conceded per game is just the opponent's goals scored per game, so this won't give us any new information."
   ]
  },
  {
   "cell_type": "code",
   "execution_count": 18,
   "metadata": {},
   "outputs": [],
   "source": [
    "def get_shots_per_game_for_last_5_games(fixture, data):\n",
    "    homeTeam = fixture[\"HomeTeam\"]\n",
    "    awayTeam = fixture[\"AwayTeam\"]\n",
    "    dateTime = fixture[\"DateTime\"]\n",
    "    \n",
    "    last_5_games = get_last_5_games_stats(data, homeTeam, awayTeam, dateTime)\n",
    "    home_shots = last_5_games.groupby(\"HomeTeam\").apply(\n",
    "        lambda x: x[\"HS\"].mean()\n",
    "    )\n",
    "    away_shots = last_5_games.groupby(\"AwayTeam\").apply(\n",
    "        lambda x: x[\"AS\"].mean()\n",
    "    )\n",
    "\n",
    "    all_shots = pd.concat([home_shots, away_shots], axis=1)\n",
    "    try:\n",
    "        all_shots.columns = [\"HomeTeamShotsPG\", \"AwayTeamShotsPG\"]\n",
    "        all_shots[\"OverallShotsPG\"] = (all_shots[\"HomeTeamShotsPG\"] + all_shots[\"AwayTeamShotsPG\"]) / 2\n",
    "    except ValueError as e:\n",
    "        fixture[\"HomeTeamShotsPGAtHomeAgainstOpponent\"] = 0\n",
    "        fixture[\"AwayTeamShotsPGOnAwayAgainstOpponent\"] = 0\n",
    "        fixture[\"HomeTeamShotsPGOverallAgainstOpponent\"] = 0\n",
    "        fixture[\"AwayTeamShotsPGOverallAgainstOpponent\"] = 0\n",
    "        return fixture\n",
    "\n",
    "    fixture[\"HomeTeamShotsPGAtHomeAgainstOpponent\"] = all_shots.loc[homeTeam, \"HomeTeamShotsPG\"]\n",
    "    fixture[\"AwayTeamShotsPGOnAwayAgainstOpponent\"] = all_shots.loc[awayTeam, \"AwayTeamShotsPG\"]\n",
    "    fixture[\"HomeTeamShotsPGOverallAgainstOpponent\"] = all_shots.loc[homeTeam, \"OverallShotsPG\"]\n",
    "    fixture[\"AwayTeamShotsPGOverallAgainstOpponent\"] = all_shots.loc[awayTeam, \"OverallShotsPG\"]\n",
    "    return fixture\n"
   ]
  },
  {
   "cell_type": "code",
   "execution_count": 19,
   "metadata": {},
   "outputs": [],
   "source": [
    "def get_fouls_per_game_for_last_5_games(fixture, data):\n",
    "    homeTeam = fixture[\"HomeTeam\"]\n",
    "    awayTeam = fixture[\"AwayTeam\"]\n",
    "    dateTime = fixture[\"DateTime\"]\n",
    "    \n",
    "    last_5_games = get_last_5_games_stats(data, homeTeam, awayTeam, dateTime)\n",
    "    home_fouls = last_5_games.groupby(\"HomeTeam\").apply(\n",
    "        lambda x: x[\"HF\"].mean()\n",
    "    )\n",
    "    away_fouls = last_5_games.groupby(\"AwayTeam\").apply(\n",
    "        lambda x: x[\"AF\"].mean()\n",
    "    )\n",
    "\n",
    "    all_fouls = pd.concat([home_fouls, away_fouls], axis=1)\n",
    "    try:\n",
    "        all_fouls.columns = [\"HomeTeamFoulsPG\", \"AwayTeamFoulsPG\"]\n",
    "        all_fouls[\"OverallFoulsPG\"] = (all_fouls[\"HomeTeamFoulsPG\"] + all_fouls[\"AwayTeamFoulsPG\"]) / 2\n",
    "    except ValueError as e:\n",
    "        fixture[\"HomeTeamFoulsPGAtHomeAgainstOpponent\"] = 0\n",
    "        fixture[\"AwayTeamFoulsPGOnAwayAgainstOpponent\"] = 0\n",
    "        fixture[\"HomeTeamFoulsPGOverallAgainstOpponent\"] = 0\n",
    "        fixture[\"AwayTeamFoulsPGOverallAgainstOpponent\"] = 0\n",
    "        return fixture\n",
    "\n",
    "    fixture[\"HomeTeamFoulsPGAtHomeAgainstOpponent\"] = all_fouls.loc[homeTeam, \"HomeTeamFoulsPG\"]\n",
    "    fixture[\"AwayTeamFoulsPGOnAwayAgainstOpponent\"] = all_fouls.loc[awayTeam, \"AwayTeamFoulsPG\"]\n",
    "    fixture[\"HomeTeamFoulsPGOverallAgainstOpponent\"] = all_fouls.loc[homeTeam, \"OverallFoulsPG\"]\n",
    "    fixture[\"AwayTeamFoulsPGOverallAgainstOpponent\"] = all_fouls.loc[awayTeam, \"OverallFoulsPG\"]\n",
    "    return fixture"
   ]
  },
  {
   "cell_type": "code",
   "execution_count": 20,
   "metadata": {},
   "outputs": [],
   "source": [
    "def get_corners_per_game_for_last_5_games(fixture, data):\n",
    "    homeTeam = fixture[\"HomeTeam\"]\n",
    "    awayTeam = fixture[\"AwayTeam\"]\n",
    "    dateTime = fixture[\"DateTime\"]\n",
    "    \n",
    "    last_5_games = get_last_5_games_stats(data, homeTeam, awayTeam, dateTime)\n",
    "    home_corners = last_5_games.groupby(\"HomeTeam\").apply(\n",
    "        lambda x: x[\"HC\"].mean()\n",
    "    )\n",
    "    away_corners = last_5_games.groupby(\"AwayTeam\").apply(\n",
    "        lambda x: x[\"AC\"].mean()\n",
    "    )\n",
    "\n",
    "    all_corners = pd.concat([home_corners, away_corners], axis=1)\n",
    "    try:\n",
    "        all_corners.columns = [\"HomeTeamCornersPG\", \"AwayTeamCornersPG\"]\n",
    "        all_corners[\"OverallCornersPG\"] = (all_corners[\"HomeTeamCornersPG\"] + all_corners[\"AwayTeamCornersPG\"]) / 2\n",
    "    except ValueError as e:\n",
    "        fixture[\"HomeTeamCornersPGAtHomeAgainstOpponent\"] = 0\n",
    "        fixture[\"AwayTeamCornersPGOnAwayAgainstOpponent\"] = 0\n",
    "        fixture[\"HomeTeamCornersPGOverallAgainstOpponent\"] = 0\n",
    "        fixture[\"AwayTeamCornersPGOverallAgainstOpponent\"] = 0\n",
    "        return fixture\n",
    "\n",
    "    fixture[\"HomeTeamCornersPGAtHomeAgainstOpponent\"] = all_corners.loc[homeTeam, \"HomeTeamCornersPG\"]\n",
    "    fixture[\"AwayTeamCornersPGOnAwayAgainstOpponent\"] = all_corners.loc[awayTeam, \"AwayTeamCornersPG\"]\n",
    "    fixture[\"HomeTeamCornersPGOverallAgainstOpponent\"] = all_corners.loc[homeTeam, \"OverallCornersPG\"]\n",
    "    fixture[\"AwayTeamCornersPGOverallAgainstOpponent\"] = all_corners.loc[awayTeam, \"OverallCornersPG\"]\n",
    "    return fixture"
   ]
  },
  {
   "cell_type": "code",
   "execution_count": 21,
   "metadata": {},
   "outputs": [],
   "source": [
    "def get_yellow_cards_per_game_for_last_5_games(fixture, data):\n",
    "    homeTeam = fixture[\"HomeTeam\"]\n",
    "    awayTeam = fixture[\"AwayTeam\"]\n",
    "    dateTime = fixture[\"DateTime\"]\n",
    "    \n",
    "    last_5_games = get_last_5_games_stats(data, homeTeam, awayTeam, dateTime)\n",
    "    home_yellow_cards = last_5_games.groupby(\"HomeTeam\").apply(\n",
    "        lambda x: x[\"HY\"].mean()\n",
    "    )\n",
    "    away_yellow_cards = last_5_games.groupby(\"AwayTeam\").apply(\n",
    "        lambda x: x[\"AY\"].mean()\n",
    "    )\n",
    "\n",
    "    all_yellow_cards = pd.concat([home_yellow_cards, away_yellow_cards], axis=1)\n",
    "    try:\n",
    "        all_yellow_cards.columns = [\"HomeTeamYellowCardsPG\", \"AwayTeamYellowCardsPG\"]\n",
    "        all_yellow_cards[\"OverallYellowCardsPG\"] = (all_yellow_cards[\"HomeTeamYellowCardsPG\"] + all_yellow_cards[\"AwayTeamYellowCardsPG\"]) / 2\n",
    "    except ValueError as e:\n",
    "        fixture[\"HomeTeamYellowCardsPGAtHomeAgainstOpponent\"] = 0\n",
    "        fixture[\"AwayTeamYellowCardsPGOnAwayAgainstOpponent\"] = 0\n",
    "        fixture[\"HomeTeamYellowCardsPGOverallAgainstOpponent\"] = 0\n",
    "        fixture[\"AwayTeamYellowCardsPGOverallAgainstOpponent\"] = 0\n",
    "        return fixture\n",
    "\n",
    "    fixture[\"HomeTeamYellowCardsPGAtHomeAgainstOpponent\"] = all_yellow_cards.loc[homeTeam, \"HomeTeamYellowCardsPG\"]\n",
    "    fixture[\"AwayTeamYellowCardsPGOnAwayAgainstOpponent\"] = all_yellow_cards.loc[awayTeam, \"AwayTeamYellowCardsPG\"]\n",
    "    fixture[\"HomeTeamYellowCardsPGOverallAgainstOpponent\"] = all_yellow_cards.loc[homeTeam, \"OverallYellowCardsPG\"]\n",
    "    fixture[\"AwayTeamYellowCardsPGOverallAgainstOpponent\"] = all_yellow_cards.loc[awayTeam, \"OverallYellowCardsPG\"]\n",
    "    return fixture"
   ]
  },
  {
   "cell_type": "code",
   "execution_count": 22,
   "metadata": {},
   "outputs": [],
   "source": [
    "def get_red_cards_per_game_for_last_5_games(fixture, data):\n",
    "    homeTeam = fixture[\"HomeTeam\"]\n",
    "    awayTeam = fixture[\"AwayTeam\"]\n",
    "    dateTime = fixture[\"DateTime\"]\n",
    "    \n",
    "    last_5_games = get_last_5_games_stats(data, homeTeam, awayTeam, dateTime)\n",
    "    home_red_cards = last_5_games.groupby(\"HomeTeam\").apply(\n",
    "        lambda x: x[\"HR\"].mean()\n",
    "    )\n",
    "    away_red_cards = last_5_games.groupby(\"AwayTeam\").apply(\n",
    "        lambda x: x[\"AR\"].mean()\n",
    "    )\n",
    "\n",
    "    all_red_cards = pd.concat([home_red_cards, away_red_cards], axis=1)\n",
    "    try:\n",
    "        all_red_cards.columns = [\"HomeTeamRedCardsPG\", \"AwayTeamRedCardsPG\"]\n",
    "        all_red_cards[\"OverallRedCardsPG\"] = (all_red_cards[\"HomeTeamRedCardsPG\"] + all_red_cards[\"AwayTeamRedCardsPG\"]) / 2\n",
    "    except ValueError as e:\n",
    "        fixture[\"HomeTeamRedCardsPGAtHomeAgainstOpponent\"] = 0\n",
    "        fixture[\"AwayTeamRedCardsPGOnAwayAgainstOpponent\"] = 0\n",
    "        fixture[\"HomeTeamRedCardsPGOverallAgainstOpponent\"] = 0\n",
    "        fixture[\"AwayTeamRedCardsPGOverallAgainstOpponent\"] = 0\n",
    "        return fixture\n",
    "\n",
    "    fixture[\"HomeTeamRedCardsPGAtHomeAgainstOpponent\"] = all_red_cards.loc[homeTeam, \"HomeTeamRedCardsPG\"]\n",
    "    fixture[\"AwayTeamRedCardsPGOnAwayAgainstOpponent\"] = all_red_cards.loc[awayTeam, \"AwayTeamRedCardsPG\"]\n",
    "    fixture[\"HomeTeamRedCardsPGOverallAgainstOpponent\"] = all_red_cards.loc[homeTeam, \"OverallRedCardsPG\"]\n",
    "    fixture[\"AwayTeamRedCardsPGOverallAgainstOpponent\"] = all_red_cards.loc[awayTeam, \"OverallRedCardsPG\"]\n",
    "    return fixture"
   ]
  },
  {
   "cell_type": "code",
   "execution_count": null,
   "metadata": {},
   "outputs": [],
   "source": [
    "test2 = test.copy()\n",
    "test2.loc[:, \"HomeTeamPointsPGAtHomeAgainstOpponent\"] = 0\n",
    "test2.loc[:, \"AwayTeamPointsPGOnAwayAgainstOpponent\"] = 0\n",
    "test2.loc[:, \"HomeTeamPointsPGOverallAgainstOpponent\"] = 0\n",
    "test2.loc[:, \"AwayTeamPointsPGOverallAgainstOpponent\"] = 0\n",
    "test2.loc[:, \"HomeTeamGoalsScoredPGAtHomeAgainstOpponent\"] = 0\n",
    "test2.loc[:, \"AwayTeamGoalsScoredPGOnAwayAgainstOpponent\"] = 0\n",
    "test2.loc[:, \"HomeTeamGoalsScoredPGOverallAgainstOpponent\"] = 0\n",
    "test2.loc[:, \"AwayTeamGoalsScoredPGOverallAgainstOpponent\"] = 0\n",
    "test2.loc[:, \"HomeTeamShotsPGAtHomeAgainstOpponent\"] = 0\n",
    "test2.loc[:, \"AwayTeamShotsPGOnAwayAgainstOpponent\"] = 0\n",
    "test2.loc[:, \"HomeTeamShotsPGOverallAgainstOpponent\"] = 0\n",
    "test2.loc[:, \"AwayTeamShotsPGOverallAgainstOpponent\"] = 0\n",
    "test2.loc[:, \"HomeTeamFoulsPGAtHomeAgainstOpponent\"] = 0\n",
    "test2.loc[:, \"AwayTeamFoulsPGOnAwayAgainstOpponent\"] = 0\n",
    "test2.loc[:, \"HomeTeamFoulsPGOverallAgainstOpponent\"] = 0\n",
    "test2.loc[:, \"AwayTeamFoulsPGOverallAgainstOpponent\"] = 0\n",
    "test2.loc[:, \"HomeTeamCornersPGAtHomeAgainstOpponent\"] = 0\n",
    "test2.loc[:, \"AwayTeamCornersPGOnAwayAgainstOpponent\"] = 0\n",
    "test2.loc[:, \"HomeTeamCornersPGOverallAgainstOpponent\"] = 0\n",
    "test2.loc[:, \"AwayTeamCornersPGOverallAgainstOpponent\"] = 0\n",
    "test2.loc[:, \"HomeTeamYellowCardsPGAtHomeAgainstOpponent\"] = 0\n",
    "test2.loc[:, \"AwayTeamYellowCardsPGOnAwayAgainstOpponent\"] = 0\n",
    "test2.loc[:, \"HomeTeamYellowCardsPGOverallAgainstOpponent\"] = 0\n",
    "test2.loc[:, \"AwayTeamYellowCardsPGOverallAgainstOpponent\"] = 0\n",
    "test2.loc[:, \"HomeTeamRedCardsPGAtHomeAgainstOpponent\"] = 0\n",
    "test2.loc[:, \"AwayTeamRedCardsPGOnAwayAgainstOpponent\"] = 0\n",
    "test2.loc[:, \"HomeTeamRedCardsPGOverallAgainstOpponent\"] = 0\n",
    "test2.loc[:, \"AwayTeamRedCardsPGOverallAgainstOpponent\"] = 0\n",
    "\n",
    "# Yuck... this is the slowest part of the code as it is looping through every row.\n",
    "# To be revisited in the future, even some basic optimisation should definitely help.\n",
    "test2 = test2.apply(lambda row: get_points_per_game_for_last_5_games(row, test2), axis = 1)\n",
    "test2 = test2.apply(lambda row: get_goals_scored_per_game_for_last_5_games(row, test2), axis = 1)\n",
    "test2 = test2.apply(lambda row: get_shots_per_game_for_last_5_games(row, test2), axis = 1)\n",
    "test2 = test2.apply(lambda row: get_fouls_per_game_for_last_5_games(row, test2), axis = 1)\n",
    "test2 = test2.apply(lambda row: get_corners_per_game_for_last_5_games(row, test2), axis = 1)\n",
    "test2 = test2.apply(lambda row: get_yellow_cards_per_game_for_last_5_games(row, test2), axis = 1)\n",
    "test2 = test2.apply(lambda row: get_red_cards_per_game_for_last_5_games(row, test2), axis = 1)"
   ]
  },
  {
   "cell_type": "code",
   "execution_count": null,
   "metadata": {},
   "outputs": [],
   "source": [
    "test2"
   ]
  },
  {
   "cell_type": "code",
   "execution_count": null,
   "metadata": {},
   "outputs": [],
   "source": [
    "test2.info()"
   ]
  },
  {
   "cell_type": "code",
   "execution_count": null,
   "metadata": {},
   "outputs": [],
   "source": [
    "test2.isna().sum()"
   ]
  },
  {
   "cell_type": "code",
   "execution_count": null,
   "metadata": {},
   "outputs": [],
   "source": [
    "test2.to_csv(\"data_investigation.csv\", index = False)\n"
   ]
  },
  {
   "cell_type": "code",
   "execution_count": 2,
   "metadata": {},
   "outputs": [],
   "source": [
    "test2 = pd.read_csv(\"../data/data_investigation.csv\")"
   ]
  },
  {
   "cell_type": "markdown",
   "metadata": {},
   "source": [
    "# Season finish"
   ]
  },
  {
   "cell_type": "code",
   "execution_count": 3,
   "metadata": {},
   "outputs": [
    {
     "name": "stderr",
     "output_type": "stream",
     "text": [
      "/var/folders/5b/kfhm4mss6sjdr7rf8618rz1w0000gq/T/ipykernel_31203/1902733512.py:16: DeprecationWarning: DataFrameGroupBy.apply operated on the grouping columns. This behavior is deprecated, and in a future version of pandas the grouping columns will be excluded from the operation. Either pass `include_groups=False` to exclude the groupings or explicitly select the grouping columns after groupby to silence this warning.\n",
      "  team_finishing_position = team_finishing_position.groupby(\"Season\").apply(lambda x: x.assign(FinishingPosition=x.sort_values([\"HomeTeamPointsPGOverall\", \"HomeTeamGoalDifferencePGOverall\"], ascending=[False, False]).reset_index(drop=True).index + 1)).reset_index(drop=True)\n"
     ]
    },
    {
     "data": {
      "text/html": [
       "<div>\n",
       "<style scoped>\n",
       "    .dataframe tbody tr th:only-of-type {\n",
       "        vertical-align: middle;\n",
       "    }\n",
       "\n",
       "    .dataframe tbody tr th {\n",
       "        vertical-align: top;\n",
       "    }\n",
       "\n",
       "    .dataframe thead th {\n",
       "        text-align: right;\n",
       "    }\n",
       "</style>\n",
       "<table border=\"1\" class=\"dataframe\">\n",
       "  <thead>\n",
       "    <tr style=\"text-align: right;\">\n",
       "      <th></th>\n",
       "      <th>Season</th>\n",
       "      <th>DateTime</th>\n",
       "      <th>HomeTeam</th>\n",
       "      <th>AwayTeam</th>\n",
       "      <th>FTHG</th>\n",
       "      <th>FTAG</th>\n",
       "      <th>FTR</th>\n",
       "      <th>HTHG</th>\n",
       "      <th>HTAG</th>\n",
       "      <th>HTR</th>\n",
       "      <th>...</th>\n",
       "      <th>HomeTeamYellowCardsPGAtHomeAgainstOpponent</th>\n",
       "      <th>AwayTeamYellowCardsPGOnAwayAgainstOpponent</th>\n",
       "      <th>HomeTeamYellowCardsPGOverallAgainstOpponent</th>\n",
       "      <th>AwayTeamYellowCardsPGOverallAgainstOpponent</th>\n",
       "      <th>HomeTeamRedCardsPGAtHomeAgainstOpponent</th>\n",
       "      <th>AwayTeamRedCardsPGOnAwayAgainstOpponent</th>\n",
       "      <th>HomeTeamRedCardsPGOverallAgainstOpponent</th>\n",
       "      <th>AwayTeamRedCardsPGOverallAgainstOpponent</th>\n",
       "      <th>HomeTeam_finish</th>\n",
       "      <th>AwayTeam_finish</th>\n",
       "    </tr>\n",
       "  </thead>\n",
       "  <tbody>\n",
       "    <tr>\n",
       "      <th>0</th>\n",
       "      <td>2000-01</td>\n",
       "      <td>2000-08-19T00:00:00Z</td>\n",
       "      <td>Charlton</td>\n",
       "      <td>Man City</td>\n",
       "      <td>4</td>\n",
       "      <td>0</td>\n",
       "      <td>H</td>\n",
       "      <td>2.0</td>\n",
       "      <td>0.0</td>\n",
       "      <td>H</td>\n",
       "      <td>...</td>\n",
       "      <td>0.0</td>\n",
       "      <td>0.0</td>\n",
       "      <td>0.000000</td>\n",
       "      <td>0.000000</td>\n",
       "      <td>0.0</td>\n",
       "      <td>0.0</td>\n",
       "      <td>0.0</td>\n",
       "      <td>0.0</td>\n",
       "      <td>9</td>\n",
       "      <td>18</td>\n",
       "    </tr>\n",
       "    <tr>\n",
       "      <th>1</th>\n",
       "      <td>2000-01</td>\n",
       "      <td>2000-08-19T00:00:00Z</td>\n",
       "      <td>Chelsea</td>\n",
       "      <td>West Ham</td>\n",
       "      <td>4</td>\n",
       "      <td>2</td>\n",
       "      <td>H</td>\n",
       "      <td>1.0</td>\n",
       "      <td>0.0</td>\n",
       "      <td>H</td>\n",
       "      <td>...</td>\n",
       "      <td>0.0</td>\n",
       "      <td>0.0</td>\n",
       "      <td>0.000000</td>\n",
       "      <td>0.000000</td>\n",
       "      <td>0.0</td>\n",
       "      <td>0.0</td>\n",
       "      <td>0.0</td>\n",
       "      <td>0.0</td>\n",
       "      <td>6</td>\n",
       "      <td>15</td>\n",
       "    </tr>\n",
       "    <tr>\n",
       "      <th>2</th>\n",
       "      <td>2000-01</td>\n",
       "      <td>2000-08-19T00:00:00Z</td>\n",
       "      <td>Coventry</td>\n",
       "      <td>Middlesbrough</td>\n",
       "      <td>1</td>\n",
       "      <td>3</td>\n",
       "      <td>A</td>\n",
       "      <td>1.0</td>\n",
       "      <td>1.0</td>\n",
       "      <td>D</td>\n",
       "      <td>...</td>\n",
       "      <td>0.0</td>\n",
       "      <td>0.0</td>\n",
       "      <td>0.000000</td>\n",
       "      <td>0.000000</td>\n",
       "      <td>0.0</td>\n",
       "      <td>0.0</td>\n",
       "      <td>0.0</td>\n",
       "      <td>0.0</td>\n",
       "      <td>19</td>\n",
       "      <td>14</td>\n",
       "    </tr>\n",
       "    <tr>\n",
       "      <th>3</th>\n",
       "      <td>2000-01</td>\n",
       "      <td>2000-08-19T00:00:00Z</td>\n",
       "      <td>Derby</td>\n",
       "      <td>Southampton</td>\n",
       "      <td>2</td>\n",
       "      <td>2</td>\n",
       "      <td>D</td>\n",
       "      <td>1.0</td>\n",
       "      <td>2.0</td>\n",
       "      <td>A</td>\n",
       "      <td>...</td>\n",
       "      <td>0.0</td>\n",
       "      <td>0.0</td>\n",
       "      <td>0.000000</td>\n",
       "      <td>0.000000</td>\n",
       "      <td>0.0</td>\n",
       "      <td>0.0</td>\n",
       "      <td>0.0</td>\n",
       "      <td>0.0</td>\n",
       "      <td>17</td>\n",
       "      <td>10</td>\n",
       "    </tr>\n",
       "    <tr>\n",
       "      <th>4</th>\n",
       "      <td>2000-01</td>\n",
       "      <td>2000-08-19T00:00:00Z</td>\n",
       "      <td>Leeds</td>\n",
       "      <td>Everton</td>\n",
       "      <td>2</td>\n",
       "      <td>0</td>\n",
       "      <td>H</td>\n",
       "      <td>2.0</td>\n",
       "      <td>0.0</td>\n",
       "      <td>H</td>\n",
       "      <td>...</td>\n",
       "      <td>0.0</td>\n",
       "      <td>0.0</td>\n",
       "      <td>0.000000</td>\n",
       "      <td>0.000000</td>\n",
       "      <td>0.0</td>\n",
       "      <td>0.0</td>\n",
       "      <td>0.0</td>\n",
       "      <td>0.0</td>\n",
       "      <td>4</td>\n",
       "      <td>16</td>\n",
       "    </tr>\n",
       "    <tr>\n",
       "      <th>...</th>\n",
       "      <td>...</td>\n",
       "      <td>...</td>\n",
       "      <td>...</td>\n",
       "      <td>...</td>\n",
       "      <td>...</td>\n",
       "      <td>...</td>\n",
       "      <td>...</td>\n",
       "      <td>...</td>\n",
       "      <td>...</td>\n",
       "      <td>...</td>\n",
       "      <td>...</td>\n",
       "      <td>...</td>\n",
       "      <td>...</td>\n",
       "      <td>...</td>\n",
       "      <td>...</td>\n",
       "      <td>...</td>\n",
       "      <td>...</td>\n",
       "      <td>...</td>\n",
       "      <td>...</td>\n",
       "      <td>...</td>\n",
       "      <td>...</td>\n",
       "    </tr>\n",
       "    <tr>\n",
       "      <th>8284</th>\n",
       "      <td>2021-22</td>\n",
       "      <td>2022-04-09T17:30:00Z</td>\n",
       "      <td>Aston Villa</td>\n",
       "      <td>Tottenham</td>\n",
       "      <td>0</td>\n",
       "      <td>4</td>\n",
       "      <td>A</td>\n",
       "      <td>0.0</td>\n",
       "      <td>1.0</td>\n",
       "      <td>A</td>\n",
       "      <td>...</td>\n",
       "      <td>2.5</td>\n",
       "      <td>1.0</td>\n",
       "      <td>1.583333</td>\n",
       "      <td>1.166667</td>\n",
       "      <td>0.0</td>\n",
       "      <td>0.0</td>\n",
       "      <td>0.0</td>\n",
       "      <td>0.0</td>\n",
       "      <td>12</td>\n",
       "      <td>4</td>\n",
       "    </tr>\n",
       "    <tr>\n",
       "      <th>8285</th>\n",
       "      <td>2021-22</td>\n",
       "      <td>2022-04-10T14:00:00Z</td>\n",
       "      <td>Brentford</td>\n",
       "      <td>West Ham</td>\n",
       "      <td>2</td>\n",
       "      <td>0</td>\n",
       "      <td>H</td>\n",
       "      <td>0.0</td>\n",
       "      <td>0.0</td>\n",
       "      <td>D</td>\n",
       "      <td>...</td>\n",
       "      <td>NaN</td>\n",
       "      <td>NaN</td>\n",
       "      <td>NaN</td>\n",
       "      <td>NaN</td>\n",
       "      <td>NaN</td>\n",
       "      <td>NaN</td>\n",
       "      <td>NaN</td>\n",
       "      <td>NaN</td>\n",
       "      <td>14</td>\n",
       "      <td>7</td>\n",
       "    </tr>\n",
       "    <tr>\n",
       "      <th>8286</th>\n",
       "      <td>2021-22</td>\n",
       "      <td>2022-04-10T14:00:00Z</td>\n",
       "      <td>Leicester</td>\n",
       "      <td>Crystal Palace</td>\n",
       "      <td>2</td>\n",
       "      <td>1</td>\n",
       "      <td>H</td>\n",
       "      <td>2.0</td>\n",
       "      <td>0.0</td>\n",
       "      <td>H</td>\n",
       "      <td>...</td>\n",
       "      <td>1.0</td>\n",
       "      <td>1.0</td>\n",
       "      <td>1.500000</td>\n",
       "      <td>1.166667</td>\n",
       "      <td>0.0</td>\n",
       "      <td>0.0</td>\n",
       "      <td>0.0</td>\n",
       "      <td>0.0</td>\n",
       "      <td>9</td>\n",
       "      <td>11</td>\n",
       "    </tr>\n",
       "    <tr>\n",
       "      <th>8287</th>\n",
       "      <td>2021-22</td>\n",
       "      <td>2022-04-10T14:00:00Z</td>\n",
       "      <td>Norwich</td>\n",
       "      <td>Burnley</td>\n",
       "      <td>2</td>\n",
       "      <td>0</td>\n",
       "      <td>H</td>\n",
       "      <td>1.0</td>\n",
       "      <td>0.0</td>\n",
       "      <td>H</td>\n",
       "      <td>...</td>\n",
       "      <td>0.0</td>\n",
       "      <td>0.0</td>\n",
       "      <td>0.750000</td>\n",
       "      <td>1.250000</td>\n",
       "      <td>2.0</td>\n",
       "      <td>0.0</td>\n",
       "      <td>1.0</td>\n",
       "      <td>0.0</td>\n",
       "      <td>20</td>\n",
       "      <td>18</td>\n",
       "    </tr>\n",
       "    <tr>\n",
       "      <th>8288</th>\n",
       "      <td>2021-22</td>\n",
       "      <td>2022-04-10T16:30:00Z</td>\n",
       "      <td>Man City</td>\n",
       "      <td>Liverpool</td>\n",
       "      <td>2</td>\n",
       "      <td>2</td>\n",
       "      <td>D</td>\n",
       "      <td>2.0</td>\n",
       "      <td>1.0</td>\n",
       "      <td>H</td>\n",
       "      <td>...</td>\n",
       "      <td>2.5</td>\n",
       "      <td>1.5</td>\n",
       "      <td>2.250000</td>\n",
       "      <td>1.583333</td>\n",
       "      <td>0.0</td>\n",
       "      <td>0.0</td>\n",
       "      <td>0.0</td>\n",
       "      <td>0.0</td>\n",
       "      <td>1</td>\n",
       "      <td>2</td>\n",
       "    </tr>\n",
       "  </tbody>\n",
       "</table>\n",
       "<p>8289 rows × 89 columns</p>\n",
       "</div>"
      ],
      "text/plain": [
       "       Season              DateTime     HomeTeam        AwayTeam  FTHG  FTAG  \\\n",
       "0     2000-01  2000-08-19T00:00:00Z     Charlton        Man City     4     0   \n",
       "1     2000-01  2000-08-19T00:00:00Z      Chelsea        West Ham     4     2   \n",
       "2     2000-01  2000-08-19T00:00:00Z     Coventry   Middlesbrough     1     3   \n",
       "3     2000-01  2000-08-19T00:00:00Z        Derby     Southampton     2     2   \n",
       "4     2000-01  2000-08-19T00:00:00Z        Leeds         Everton     2     0   \n",
       "...       ...                   ...          ...             ...   ...   ...   \n",
       "8284  2021-22  2022-04-09T17:30:00Z  Aston Villa       Tottenham     0     4   \n",
       "8285  2021-22  2022-04-10T14:00:00Z    Brentford        West Ham     2     0   \n",
       "8286  2021-22  2022-04-10T14:00:00Z    Leicester  Crystal Palace     2     1   \n",
       "8287  2021-22  2022-04-10T14:00:00Z      Norwich         Burnley     2     0   \n",
       "8288  2021-22  2022-04-10T16:30:00Z     Man City       Liverpool     2     2   \n",
       "\n",
       "     FTR  HTHG  HTAG HTR  ... HomeTeamYellowCardsPGAtHomeAgainstOpponent  \\\n",
       "0      H   2.0   0.0   H  ...                                        0.0   \n",
       "1      H   1.0   0.0   H  ...                                        0.0   \n",
       "2      A   1.0   1.0   D  ...                                        0.0   \n",
       "3      D   1.0   2.0   A  ...                                        0.0   \n",
       "4      H   2.0   0.0   H  ...                                        0.0   \n",
       "...   ..   ...   ...  ..  ...                                        ...   \n",
       "8284   A   0.0   1.0   A  ...                                        2.5   \n",
       "8285   H   0.0   0.0   D  ...                                        NaN   \n",
       "8286   H   2.0   0.0   H  ...                                        1.0   \n",
       "8287   H   1.0   0.0   H  ...                                        0.0   \n",
       "8288   D   2.0   1.0   H  ...                                        2.5   \n",
       "\n",
       "      AwayTeamYellowCardsPGOnAwayAgainstOpponent  \\\n",
       "0                                            0.0   \n",
       "1                                            0.0   \n",
       "2                                            0.0   \n",
       "3                                            0.0   \n",
       "4                                            0.0   \n",
       "...                                          ...   \n",
       "8284                                         1.0   \n",
       "8285                                         NaN   \n",
       "8286                                         1.0   \n",
       "8287                                         0.0   \n",
       "8288                                         1.5   \n",
       "\n",
       "      HomeTeamYellowCardsPGOverallAgainstOpponent  \\\n",
       "0                                        0.000000   \n",
       "1                                        0.000000   \n",
       "2                                        0.000000   \n",
       "3                                        0.000000   \n",
       "4                                        0.000000   \n",
       "...                                           ...   \n",
       "8284                                     1.583333   \n",
       "8285                                          NaN   \n",
       "8286                                     1.500000   \n",
       "8287                                     0.750000   \n",
       "8288                                     2.250000   \n",
       "\n",
       "      AwayTeamYellowCardsPGOverallAgainstOpponent  \\\n",
       "0                                        0.000000   \n",
       "1                                        0.000000   \n",
       "2                                        0.000000   \n",
       "3                                        0.000000   \n",
       "4                                        0.000000   \n",
       "...                                           ...   \n",
       "8284                                     1.166667   \n",
       "8285                                          NaN   \n",
       "8286                                     1.166667   \n",
       "8287                                     1.250000   \n",
       "8288                                     1.583333   \n",
       "\n",
       "      HomeTeamRedCardsPGAtHomeAgainstOpponent  \\\n",
       "0                                         0.0   \n",
       "1                                         0.0   \n",
       "2                                         0.0   \n",
       "3                                         0.0   \n",
       "4                                         0.0   \n",
       "...                                       ...   \n",
       "8284                                      0.0   \n",
       "8285                                      NaN   \n",
       "8286                                      0.0   \n",
       "8287                                      2.0   \n",
       "8288                                      0.0   \n",
       "\n",
       "      AwayTeamRedCardsPGOnAwayAgainstOpponent  \\\n",
       "0                                         0.0   \n",
       "1                                         0.0   \n",
       "2                                         0.0   \n",
       "3                                         0.0   \n",
       "4                                         0.0   \n",
       "...                                       ...   \n",
       "8284                                      0.0   \n",
       "8285                                      NaN   \n",
       "8286                                      0.0   \n",
       "8287                                      0.0   \n",
       "8288                                      0.0   \n",
       "\n",
       "      HomeTeamRedCardsPGOverallAgainstOpponent  \\\n",
       "0                                          0.0   \n",
       "1                                          0.0   \n",
       "2                                          0.0   \n",
       "3                                          0.0   \n",
       "4                                          0.0   \n",
       "...                                        ...   \n",
       "8284                                       0.0   \n",
       "8285                                       NaN   \n",
       "8286                                       0.0   \n",
       "8287                                       1.0   \n",
       "8288                                       0.0   \n",
       "\n",
       "      AwayTeamRedCardsPGOverallAgainstOpponent  HomeTeam_finish  \\\n",
       "0                                          0.0                9   \n",
       "1                                          0.0                6   \n",
       "2                                          0.0               19   \n",
       "3                                          0.0               17   \n",
       "4                                          0.0                4   \n",
       "...                                        ...              ...   \n",
       "8284                                       0.0               12   \n",
       "8285                                       NaN               14   \n",
       "8286                                       0.0                9   \n",
       "8287                                       0.0               20   \n",
       "8288                                       0.0                1   \n",
       "\n",
       "      AwayTeam_finish  \n",
       "0                  18  \n",
       "1                  15  \n",
       "2                  14  \n",
       "3                  10  \n",
       "4                  16  \n",
       "...               ...  \n",
       "8284                4  \n",
       "8285                7  \n",
       "8286               11  \n",
       "8287               18  \n",
       "8288                2  \n",
       "\n",
       "[8289 rows x 89 columns]"
      ]
     },
     "execution_count": 3,
     "metadata": {},
     "output_type": "execute_result"
    }
   ],
   "source": [
    "\"\"\"\n",
    "For each season, rank teams on PointsPGOverall\n",
    "\n",
    "Start by creating a datafame with each season and each team and their finishing position for the season.\n",
    "\n",
    "Columns:\n",
    "- Season\n",
    "- Team\n",
    "- PointsPGOverall\n",
    "- Finishing Position\n",
    "\"\"\"\n",
    "\n",
    "team_finishing_position = test2.groupby([\"Season\", \"HomeTeam\"])[[\"HomeTeamPointsPGOverall\", \"HomeTeamGoalDifferencePGOverall\"]].max().reset_index()\n",
    "team_finishing_position = team_finishing_position.rename(columns = {\"HomeTeam\" : \"Team\"})\n",
    "team_finishing_position = team_finishing_position.sort_values(by = [\"Season\", \"HomeTeamPointsPGOverall\", \"HomeTeamGoalDifferencePGOverall\"], ascending = False)\n",
    "team_finishing_position = team_finishing_position.groupby(\"Season\").apply(lambda x: x.assign(FinishingPosition=x.sort_values([\"HomeTeamPointsPGOverall\", \"HomeTeamGoalDifferencePGOverall\"], ascending=[False, False]).reset_index(drop=True).index + 1)).reset_index(drop=True)\n",
    "\n",
    "# Merge for HomeTeam\n",
    "test3 = test2.merge(team_finishing_position.drop(columns=[\"HomeTeamGoalDifferencePGOverall\", 'HomeTeamPointsPGOverall']), left_on=[\"Season\", \"HomeTeam\"], right_on=[\"Season\", \"Team\"], how=\"left\")\n",
    "test3 = test3.rename(columns={\"FinishingPosition\": \"HomeTeam_finish\"})\n",
    "\n",
    "# Merge for AwayTeam\n",
    "test3 = test3.merge(team_finishing_position.drop(columns=[\"HomeTeamGoalDifferencePGOverall\", 'HomeTeamPointsPGOverall']), left_on=[\"Season\", \"AwayTeam\"], right_on=[\"Season\", \"Team\"], how=\"left\")\n",
    "test3 = test3.rename(columns={\"FinishingPosition\": \"AwayTeam_finish\"})\n",
    "\n",
    "test3 = test3.drop(columns=[\"Team_x\", \"Team_y\"])\n",
    "test3\n"
   ]
  },
  {
   "cell_type": "code",
   "execution_count": 4,
   "metadata": {},
   "outputs": [
    {
     "data": {
      "text/html": [
       "<div>\n",
       "<style scoped>\n",
       "    .dataframe tbody tr th:only-of-type {\n",
       "        vertical-align: middle;\n",
       "    }\n",
       "\n",
       "    .dataframe tbody tr th {\n",
       "        vertical-align: top;\n",
       "    }\n",
       "\n",
       "    .dataframe thead th {\n",
       "        text-align: right;\n",
       "    }\n",
       "</style>\n",
       "<table border=\"1\" class=\"dataframe\">\n",
       "  <thead>\n",
       "    <tr style=\"text-align: right;\">\n",
       "      <th></th>\n",
       "      <th>Season</th>\n",
       "      <th>Team</th>\n",
       "      <th>HomeTeamPointsPGOverall</th>\n",
       "      <th>HomeTeamGoalDifferencePGOverall</th>\n",
       "      <th>FinishingPosition</th>\n",
       "    </tr>\n",
       "  </thead>\n",
       "  <tbody>\n",
       "    <tr>\n",
       "      <th>0</th>\n",
       "      <td>2000-01</td>\n",
       "      <td>Man United</td>\n",
       "      <td>2.105263</td>\n",
       "      <td>1.263158</td>\n",
       "      <td>1</td>\n",
       "    </tr>\n",
       "    <tr>\n",
       "      <th>1</th>\n",
       "      <td>2000-01</td>\n",
       "      <td>Arsenal</td>\n",
       "      <td>1.842105</td>\n",
       "      <td>0.657895</td>\n",
       "      <td>2</td>\n",
       "    </tr>\n",
       "    <tr>\n",
       "      <th>2</th>\n",
       "      <td>2000-01</td>\n",
       "      <td>Liverpool</td>\n",
       "      <td>1.815789</td>\n",
       "      <td>0.842105</td>\n",
       "      <td>3</td>\n",
       "    </tr>\n",
       "    <tr>\n",
       "      <th>3</th>\n",
       "      <td>2000-01</td>\n",
       "      <td>Leeds</td>\n",
       "      <td>1.789474</td>\n",
       "      <td>0.552632</td>\n",
       "      <td>4</td>\n",
       "    </tr>\n",
       "    <tr>\n",
       "      <th>4</th>\n",
       "      <td>2000-01</td>\n",
       "      <td>Ipswich</td>\n",
       "      <td>1.736842</td>\n",
       "      <td>0.394737</td>\n",
       "      <td>5</td>\n",
       "    </tr>\n",
       "    <tr>\n",
       "      <th>5</th>\n",
       "      <td>2000-01</td>\n",
       "      <td>Chelsea</td>\n",
       "      <td>1.605263</td>\n",
       "      <td>0.605263</td>\n",
       "      <td>6</td>\n",
       "    </tr>\n",
       "    <tr>\n",
       "      <th>6</th>\n",
       "      <td>2000-01</td>\n",
       "      <td>Sunderland</td>\n",
       "      <td>1.500000</td>\n",
       "      <td>0.131579</td>\n",
       "      <td>7</td>\n",
       "    </tr>\n",
       "    <tr>\n",
       "      <th>7</th>\n",
       "      <td>2000-01</td>\n",
       "      <td>Aston Villa</td>\n",
       "      <td>1.421053</td>\n",
       "      <td>0.078947</td>\n",
       "      <td>8</td>\n",
       "    </tr>\n",
       "    <tr>\n",
       "      <th>8</th>\n",
       "      <td>2000-01</td>\n",
       "      <td>Charlton</td>\n",
       "      <td>1.368421</td>\n",
       "      <td>-0.184211</td>\n",
       "      <td>9</td>\n",
       "    </tr>\n",
       "    <tr>\n",
       "      <th>9</th>\n",
       "      <td>2000-01</td>\n",
       "      <td>Southampton</td>\n",
       "      <td>1.368421</td>\n",
       "      <td>-0.210526</td>\n",
       "      <td>10</td>\n",
       "    </tr>\n",
       "    <tr>\n",
       "      <th>10</th>\n",
       "      <td>2000-01</td>\n",
       "      <td>Newcastle</td>\n",
       "      <td>1.342105</td>\n",
       "      <td>-0.157895</td>\n",
       "      <td>11</td>\n",
       "    </tr>\n",
       "    <tr>\n",
       "      <th>11</th>\n",
       "      <td>2000-01</td>\n",
       "      <td>Tottenham</td>\n",
       "      <td>1.289474</td>\n",
       "      <td>-0.184211</td>\n",
       "      <td>12</td>\n",
       "    </tr>\n",
       "    <tr>\n",
       "      <th>12</th>\n",
       "      <td>2000-01</td>\n",
       "      <td>Leicester</td>\n",
       "      <td>1.263158</td>\n",
       "      <td>-0.315789</td>\n",
       "      <td>13</td>\n",
       "    </tr>\n",
       "    <tr>\n",
       "      <th>13</th>\n",
       "      <td>2000-01</td>\n",
       "      <td>Middlesbrough</td>\n",
       "      <td>1.105263</td>\n",
       "      <td>0.000000</td>\n",
       "      <td>14</td>\n",
       "    </tr>\n",
       "    <tr>\n",
       "      <th>14</th>\n",
       "      <td>2000-01</td>\n",
       "      <td>West Ham</td>\n",
       "      <td>1.105263</td>\n",
       "      <td>-0.131579</td>\n",
       "      <td>15</td>\n",
       "    </tr>\n",
       "    <tr>\n",
       "      <th>15</th>\n",
       "      <td>2000-01</td>\n",
       "      <td>Everton</td>\n",
       "      <td>1.105263</td>\n",
       "      <td>-0.368421</td>\n",
       "      <td>16</td>\n",
       "    </tr>\n",
       "    <tr>\n",
       "      <th>16</th>\n",
       "      <td>2000-01</td>\n",
       "      <td>Derby</td>\n",
       "      <td>1.105263</td>\n",
       "      <td>-0.578947</td>\n",
       "      <td>17</td>\n",
       "    </tr>\n",
       "    <tr>\n",
       "      <th>17</th>\n",
       "      <td>2000-01</td>\n",
       "      <td>Man City</td>\n",
       "      <td>0.894737</td>\n",
       "      <td>-0.631579</td>\n",
       "      <td>18</td>\n",
       "    </tr>\n",
       "    <tr>\n",
       "      <th>18</th>\n",
       "      <td>2000-01</td>\n",
       "      <td>Coventry</td>\n",
       "      <td>0.894737</td>\n",
       "      <td>-0.710526</td>\n",
       "      <td>19</td>\n",
       "    </tr>\n",
       "    <tr>\n",
       "      <th>19</th>\n",
       "      <td>2000-01</td>\n",
       "      <td>Bradford</td>\n",
       "      <td>0.684211</td>\n",
       "      <td>-1.052632</td>\n",
       "      <td>20</td>\n",
       "    </tr>\n",
       "  </tbody>\n",
       "</table>\n",
       "</div>"
      ],
      "text/plain": [
       "     Season           Team  HomeTeamPointsPGOverall  \\\n",
       "0   2000-01     Man United                 2.105263   \n",
       "1   2000-01        Arsenal                 1.842105   \n",
       "2   2000-01      Liverpool                 1.815789   \n",
       "3   2000-01          Leeds                 1.789474   \n",
       "4   2000-01        Ipswich                 1.736842   \n",
       "5   2000-01        Chelsea                 1.605263   \n",
       "6   2000-01     Sunderland                 1.500000   \n",
       "7   2000-01    Aston Villa                 1.421053   \n",
       "8   2000-01       Charlton                 1.368421   \n",
       "9   2000-01    Southampton                 1.368421   \n",
       "10  2000-01      Newcastle                 1.342105   \n",
       "11  2000-01      Tottenham                 1.289474   \n",
       "12  2000-01      Leicester                 1.263158   \n",
       "13  2000-01  Middlesbrough                 1.105263   \n",
       "14  2000-01       West Ham                 1.105263   \n",
       "15  2000-01        Everton                 1.105263   \n",
       "16  2000-01          Derby                 1.105263   \n",
       "17  2000-01       Man City                 0.894737   \n",
       "18  2000-01       Coventry                 0.894737   \n",
       "19  2000-01       Bradford                 0.684211   \n",
       "\n",
       "    HomeTeamGoalDifferencePGOverall  FinishingPosition  \n",
       "0                          1.263158                  1  \n",
       "1                          0.657895                  2  \n",
       "2                          0.842105                  3  \n",
       "3                          0.552632                  4  \n",
       "4                          0.394737                  5  \n",
       "5                          0.605263                  6  \n",
       "6                          0.131579                  7  \n",
       "7                          0.078947                  8  \n",
       "8                         -0.184211                  9  \n",
       "9                         -0.210526                 10  \n",
       "10                        -0.157895                 11  \n",
       "11                        -0.184211                 12  \n",
       "12                        -0.315789                 13  \n",
       "13                         0.000000                 14  \n",
       "14                        -0.131579                 15  \n",
       "15                        -0.368421                 16  \n",
       "16                        -0.578947                 17  \n",
       "17                        -0.631579                 18  \n",
       "18                        -0.710526                 19  \n",
       "19                        -1.052632                 20  "
      ]
     },
     "execution_count": 4,
     "metadata": {},
     "output_type": "execute_result"
    }
   ],
   "source": [
    "team_finishing_position[team_finishing_position[\"Season\"] == \"2000-01\"]\n"
   ]
  },
  {
   "cell_type": "code",
   "execution_count": 5,
   "metadata": {},
   "outputs": [
    {
     "data": {
      "text/plain": [
       "Index(['Season', 'DateTime', 'HomeTeam', 'AwayTeam', 'FTHG', 'FTAG', 'FTR',\n",
       "       'HTHG', 'HTAG', 'HTR', 'Referee', 'HS', 'AS', 'HST', 'AST', 'HC', 'AC',\n",
       "       'HF', 'AF', 'HY', 'AY', 'HR', 'AR', 'HomeTeamPointsPGAtHome',\n",
       "       'HomeTeamPointsPGOverall', 'AwayTeamPointsPGOnAway',\n",
       "       'AwayTeamPointsPGOverall', 'HomeTeamGoalsScoredPGAtHome',\n",
       "       'HomeTeamGoalsScoredPGOverall', 'AwayTeamGoalsScoredPGOnAway',\n",
       "       'AwayTeamGoalsScoredPGOverall', 'HomeTeamGoalsConcededPGAtHome',\n",
       "       'HomeTeamGoalsConcededPGOverall', 'AwayTeamGoalsConcededPGOnAway',\n",
       "       'AwayTeamGoalsConcededPGOverall', 'HomeTeamGoalDifferencePGAtHome',\n",
       "       'AwayTeamGoalDifferencePGOnAway', 'HomeTeamGoalDifferencePGOverall',\n",
       "       'AwayTeamGoalDifferencePGOverall', 'HomeTeamShotsPGAtHome',\n",
       "       'HomeTeamShotsPGOverall', 'AwayTeamShotsPGOnAway',\n",
       "       'AwayTeamShotsPGOverall', 'HomeTeamFoulsPGAtHome',\n",
       "       'HomeTeamFoulsPGOverall', 'AwayTeamFoulsPGOnAway',\n",
       "       'AwayTeamFoulsPGOverall', 'HomeTeamCornersPGAtHome',\n",
       "       'HomeTeamCornersPGOverall', 'AwayTeamCornersPGOnAway',\n",
       "       'AwayTeamCornersPGOverall', 'HomeTeamYellowCardsPGAtHome',\n",
       "       'HomeTeamYellowCardsPGOverall', 'AwayTeamYellowCardsPGOnAway',\n",
       "       'AwayTeamYellowCardsPGOverall', 'HomeTeamRedCardsPGAtHome',\n",
       "       'HomeTeamRedCardsPGOverall', 'AwayTeamRedCardsPGOnAway',\n",
       "       'AwayTeamRedCardsPGOverall', 'HomeTeamPointsPGAtHomeAgainstOpponent',\n",
       "       'AwayTeamPointsPGOnAwayAgainstOpponent',\n",
       "       'HomeTeamPointsPGOverallAgainstOpponent',\n",
       "       'AwayTeamPointsPGOverallAgainstOpponent',\n",
       "       'HomeTeamGoalsScoredPGAtHomeAgainstOpponent',\n",
       "       'AwayTeamGoalsScoredPGOnAwayAgainstOpponent',\n",
       "       'HomeTeamGoalsScoredPGOverallAgainstOpponent',\n",
       "       'AwayTeamGoalsScoredPGOverallAgainstOpponent',\n",
       "       'HomeTeamShotsPGAtHomeAgainstOpponent',\n",
       "       'AwayTeamShotsPGOnAwayAgainstOpponent',\n",
       "       'HomeTeamShotsPGOverallAgainstOpponent',\n",
       "       'AwayTeamShotsPGOverallAgainstOpponent',\n",
       "       'HomeTeamFoulsPGAtHomeAgainstOpponent',\n",
       "       'AwayTeamFoulsPGOnAwayAgainstOpponent',\n",
       "       'HomeTeamFoulsPGOverallAgainstOpponent',\n",
       "       'AwayTeamFoulsPGOverallAgainstOpponent',\n",
       "       'HomeTeamCornersPGAtHomeAgainstOpponent',\n",
       "       'AwayTeamCornersPGOnAwayAgainstOpponent',\n",
       "       'HomeTeamCornersPGOverallAgainstOpponent',\n",
       "       'AwayTeamCornersPGOverallAgainstOpponent',\n",
       "       'HomeTeamYellowCardsPGAtHomeAgainstOpponent',\n",
       "       'AwayTeamYellowCardsPGOnAwayAgainstOpponent',\n",
       "       'HomeTeamYellowCardsPGOverallAgainstOpponent',\n",
       "       'AwayTeamYellowCardsPGOverallAgainstOpponent',\n",
       "       'HomeTeamRedCardsPGAtHomeAgainstOpponent',\n",
       "       'AwayTeamRedCardsPGOnAwayAgainstOpponent',\n",
       "       'HomeTeamRedCardsPGOverallAgainstOpponent',\n",
       "       'AwayTeamRedCardsPGOverallAgainstOpponent', 'HomeTeam_finish',\n",
       "       'AwayTeam_finish'],\n",
       "      dtype='object')"
      ]
     },
     "execution_count": 5,
     "metadata": {},
     "output_type": "execute_result"
    }
   ],
   "source": [
    "test3.columns"
   ]
  },
  {
   "cell_type": "markdown",
   "metadata": {},
   "source": [
    "# Handling promoted teams\n"
   ]
  },
  {
   "cell_type": "markdown",
   "metadata": {},
   "source": [
    "We have a set of issues with promoted teams. \n",
    "\n",
    "1. They have no historical data.\n",
    "2. Any \"stats from previous season\", \"stats against opponent\" will be NaN, as the data doesn't exist.\n",
    "\n",
    "We will need to either:\n",
    "\n",
    "1. Assume that we have no information on them, and default values to 0.\n",
    "2. Use the mean of the column for the teams that have been promoted in the past.\n",
    "3. Use other teams that have been promoted in the past as a proxy.\n",
    "\n",
    "However all of those will likely result in each promoted team going straight to the relegation zone, which is clearly not always the case.\n",
    "\n",
    "We could potentially use the mean if the bottom n teams in the league. This will in some cases result in teams being too strong, and in some cases too weak, but it may be good enough?"
   ]
  },
  {
   "cell_type": "markdown",
   "metadata": {},
   "source": [
    "# Promoted teams and their finishing positions over time"
   ]
  },
  {
   "cell_type": "code",
   "execution_count": 6,
   "metadata": {},
   "outputs": [],
   "source": [
    "def get_promoted_teams(team_finishing_position):\n",
    "    \"\"\"\n",
    "    Get the teams that have been promoted in the past.\n",
    "    A team has been promoted if they appear in one season and not the previous season.\n",
    "\n",
    "    We will get a dataframe of with collumns:\n",
    "    - Season\n",
    "    - Team\n",
    "    - Finishing Position\n",
    "\n",
    "    Containing the 17 teams with the best finishing positions for each season.\n",
    "    \"\"\"\n",
    "    # Get the top 17 teams for each season based on finishing position\n",
    "    teams_by_season = team_finishing_position.copy()\n",
    "    top_17_teams = teams_by_season.groupby(\"Season\").apply(lambda x: x.nsmallest(17, 'FinishingPosition')).reset_index(drop=True)\n",
    "\n",
    "    teams_series = teams_by_season.groupby('Season')['Team'].apply(list)\n",
    "    last_season_teams = top_17_teams.groupby(\"Season\")[\"Team\"].apply(list).shift(1)\n",
    "    \n",
    "    teams_series = teams_series[1:]\n",
    "    last_season_teams = last_season_teams[1:]\n",
    "\n",
    "    # Subtract teams from the previous season from the current season\n",
    "    # Should give the 3 teams that have been promoted\n",
    "    promoted_teams = teams_series.combine(last_season_teams, lambda x, y: list(set(x) - set(y)))\n",
    "\n",
    "    promoted_teams_df = pd.DataFrame({\"Season\" : promoted_teams.index, \"Team\" : promoted_teams.values})\n",
    "    promoted_teams_df = promoted_teams_df.explode(\"Team\")\n",
    "\n",
    "    # Get the points per game for the promoted teams\n",
    "    promoted_teams_df = promoted_teams_df.merge(team_finishing_position, on = [\"Season\", \"Team\"], how = \"left\")\n",
    "\n",
    "    return promoted_teams_df\n",
    "    \n"
   ]
  },
  {
   "cell_type": "code",
   "execution_count": 7,
   "metadata": {},
   "outputs": [
    {
     "name": "stderr",
     "output_type": "stream",
     "text": [
      "/var/folders/5b/kfhm4mss6sjdr7rf8618rz1w0000gq/T/ipykernel_31203/1115909234.py:15: DeprecationWarning: DataFrameGroupBy.apply operated on the grouping columns. This behavior is deprecated, and in a future version of pandas the grouping columns will be excluded from the operation. Either pass `include_groups=False` to exclude the groupings or explicitly select the grouping columns after groupby to silence this warning.\n",
      "  top_17_teams = teams_by_season.groupby(\"Season\").apply(lambda x: x.nsmallest(17, 'FinishingPosition')).reset_index(drop=True)\n"
     ]
    }
   ],
   "source": [
    "promoted_teams = get_promoted_teams(team_finishing_position)\n",
    "mean_finishing_positions = promoted_teams.groupby(\"Season\")[\"FinishingPosition\"].mean()"
   ]
  },
  {
   "cell_type": "code",
   "execution_count": 8,
   "metadata": {},
   "outputs": [
    {
     "data": {
      "text/plain": [
       "Index(['Season', 'Team', 'HomeTeamPointsPGOverall',\n",
       "       'HomeTeamGoalDifferencePGOverall', 'FinishingPosition'],\n",
       "      dtype='object')"
      ]
     },
     "execution_count": 8,
     "metadata": {},
     "output_type": "execute_result"
    }
   ],
   "source": [
    "promoted_teams.columns"
   ]
  },
  {
   "cell_type": "code",
   "execution_count": 9,
   "metadata": {},
   "outputs": [
    {
     "data": {
      "application/vnd.plotly.v1+json": {
       "config": {
        "plotlyServerURL": "https://plot.ly"
       },
       "data": [
        {
         "name": "Mean Finishing Position",
         "type": "scatter",
         "x": [
          "2001-02",
          "2002-03",
          "2003-04",
          "2004-05",
          "2005-06",
          "2006-07",
          "2007-08",
          "2008-09",
          "2009-10",
          "2010-11",
          "2011-12",
          "2012-13",
          "2013-14",
          "2014-15",
          "2015-16",
          "2016-17",
          "2017-18",
          "2018-19",
          "2019-20",
          "2020-21",
          "2021-22"
         ],
         "y": [
          13,
          13.666666666666666,
          17,
          18,
          13,
          15.333333333333334,
          18,
          16.333333333333332,
          14,
          14,
          13,
          14.333333333333334,
          15.666666666666666,
          17.666666666666668,
          16,
          17.666666666666668,
          13.666666666666666,
          14.666666666666666,
          15.333333333333334,
          15.333333333333334,
          17.666666666666668
         ]
        }
       ],
       "layout": {
        "annotations": [
         {
          "showarrow": false,
          "text": "Overall Mean: 15.40",
          "x": 1,
          "xanchor": "right",
          "xref": "x domain",
          "y": 15.396825396825395,
          "yanchor": "bottom",
          "yref": "y"
         }
        ],
        "shapes": [
         {
          "line": {
           "color": "red",
           "dash": "dash"
          },
          "type": "line",
          "x0": 0,
          "x1": 1,
          "xref": "x domain",
          "y0": 15.396825396825395,
          "y1": 15.396825396825395,
          "yref": "y"
         }
        ],
        "template": {
         "data": {
          "bar": [
           {
            "error_x": {
             "color": "#2a3f5f"
            },
            "error_y": {
             "color": "#2a3f5f"
            },
            "marker": {
             "line": {
              "color": "#E5ECF6",
              "width": 0.5
             },
             "pattern": {
              "fillmode": "overlay",
              "size": 10,
              "solidity": 0.2
             }
            },
            "type": "bar"
           }
          ],
          "barpolar": [
           {
            "marker": {
             "line": {
              "color": "#E5ECF6",
              "width": 0.5
             },
             "pattern": {
              "fillmode": "overlay",
              "size": 10,
              "solidity": 0.2
             }
            },
            "type": "barpolar"
           }
          ],
          "carpet": [
           {
            "aaxis": {
             "endlinecolor": "#2a3f5f",
             "gridcolor": "white",
             "linecolor": "white",
             "minorgridcolor": "white",
             "startlinecolor": "#2a3f5f"
            },
            "baxis": {
             "endlinecolor": "#2a3f5f",
             "gridcolor": "white",
             "linecolor": "white",
             "minorgridcolor": "white",
             "startlinecolor": "#2a3f5f"
            },
            "type": "carpet"
           }
          ],
          "choropleth": [
           {
            "colorbar": {
             "outlinewidth": 0,
             "ticks": ""
            },
            "type": "choropleth"
           }
          ],
          "contour": [
           {
            "colorbar": {
             "outlinewidth": 0,
             "ticks": ""
            },
            "colorscale": [
             [
              0,
              "#0d0887"
             ],
             [
              0.1111111111111111,
              "#46039f"
             ],
             [
              0.2222222222222222,
              "#7201a8"
             ],
             [
              0.3333333333333333,
              "#9c179e"
             ],
             [
              0.4444444444444444,
              "#bd3786"
             ],
             [
              0.5555555555555556,
              "#d8576b"
             ],
             [
              0.6666666666666666,
              "#ed7953"
             ],
             [
              0.7777777777777778,
              "#fb9f3a"
             ],
             [
              0.8888888888888888,
              "#fdca26"
             ],
             [
              1,
              "#f0f921"
             ]
            ],
            "type": "contour"
           }
          ],
          "contourcarpet": [
           {
            "colorbar": {
             "outlinewidth": 0,
             "ticks": ""
            },
            "type": "contourcarpet"
           }
          ],
          "heatmap": [
           {
            "colorbar": {
             "outlinewidth": 0,
             "ticks": ""
            },
            "colorscale": [
             [
              0,
              "#0d0887"
             ],
             [
              0.1111111111111111,
              "#46039f"
             ],
             [
              0.2222222222222222,
              "#7201a8"
             ],
             [
              0.3333333333333333,
              "#9c179e"
             ],
             [
              0.4444444444444444,
              "#bd3786"
             ],
             [
              0.5555555555555556,
              "#d8576b"
             ],
             [
              0.6666666666666666,
              "#ed7953"
             ],
             [
              0.7777777777777778,
              "#fb9f3a"
             ],
             [
              0.8888888888888888,
              "#fdca26"
             ],
             [
              1,
              "#f0f921"
             ]
            ],
            "type": "heatmap"
           }
          ],
          "heatmapgl": [
           {
            "colorbar": {
             "outlinewidth": 0,
             "ticks": ""
            },
            "colorscale": [
             [
              0,
              "#0d0887"
             ],
             [
              0.1111111111111111,
              "#46039f"
             ],
             [
              0.2222222222222222,
              "#7201a8"
             ],
             [
              0.3333333333333333,
              "#9c179e"
             ],
             [
              0.4444444444444444,
              "#bd3786"
             ],
             [
              0.5555555555555556,
              "#d8576b"
             ],
             [
              0.6666666666666666,
              "#ed7953"
             ],
             [
              0.7777777777777778,
              "#fb9f3a"
             ],
             [
              0.8888888888888888,
              "#fdca26"
             ],
             [
              1,
              "#f0f921"
             ]
            ],
            "type": "heatmapgl"
           }
          ],
          "histogram": [
           {
            "marker": {
             "pattern": {
              "fillmode": "overlay",
              "size": 10,
              "solidity": 0.2
             }
            },
            "type": "histogram"
           }
          ],
          "histogram2d": [
           {
            "colorbar": {
             "outlinewidth": 0,
             "ticks": ""
            },
            "colorscale": [
             [
              0,
              "#0d0887"
             ],
             [
              0.1111111111111111,
              "#46039f"
             ],
             [
              0.2222222222222222,
              "#7201a8"
             ],
             [
              0.3333333333333333,
              "#9c179e"
             ],
             [
              0.4444444444444444,
              "#bd3786"
             ],
             [
              0.5555555555555556,
              "#d8576b"
             ],
             [
              0.6666666666666666,
              "#ed7953"
             ],
             [
              0.7777777777777778,
              "#fb9f3a"
             ],
             [
              0.8888888888888888,
              "#fdca26"
             ],
             [
              1,
              "#f0f921"
             ]
            ],
            "type": "histogram2d"
           }
          ],
          "histogram2dcontour": [
           {
            "colorbar": {
             "outlinewidth": 0,
             "ticks": ""
            },
            "colorscale": [
             [
              0,
              "#0d0887"
             ],
             [
              0.1111111111111111,
              "#46039f"
             ],
             [
              0.2222222222222222,
              "#7201a8"
             ],
             [
              0.3333333333333333,
              "#9c179e"
             ],
             [
              0.4444444444444444,
              "#bd3786"
             ],
             [
              0.5555555555555556,
              "#d8576b"
             ],
             [
              0.6666666666666666,
              "#ed7953"
             ],
             [
              0.7777777777777778,
              "#fb9f3a"
             ],
             [
              0.8888888888888888,
              "#fdca26"
             ],
             [
              1,
              "#f0f921"
             ]
            ],
            "type": "histogram2dcontour"
           }
          ],
          "mesh3d": [
           {
            "colorbar": {
             "outlinewidth": 0,
             "ticks": ""
            },
            "type": "mesh3d"
           }
          ],
          "parcoords": [
           {
            "line": {
             "colorbar": {
              "outlinewidth": 0,
              "ticks": ""
             }
            },
            "type": "parcoords"
           }
          ],
          "pie": [
           {
            "automargin": true,
            "type": "pie"
           }
          ],
          "scatter": [
           {
            "fillpattern": {
             "fillmode": "overlay",
             "size": 10,
             "solidity": 0.2
            },
            "type": "scatter"
           }
          ],
          "scatter3d": [
           {
            "line": {
             "colorbar": {
              "outlinewidth": 0,
              "ticks": ""
             }
            },
            "marker": {
             "colorbar": {
              "outlinewidth": 0,
              "ticks": ""
             }
            },
            "type": "scatter3d"
           }
          ],
          "scattercarpet": [
           {
            "marker": {
             "colorbar": {
              "outlinewidth": 0,
              "ticks": ""
             }
            },
            "type": "scattercarpet"
           }
          ],
          "scattergeo": [
           {
            "marker": {
             "colorbar": {
              "outlinewidth": 0,
              "ticks": ""
             }
            },
            "type": "scattergeo"
           }
          ],
          "scattergl": [
           {
            "marker": {
             "colorbar": {
              "outlinewidth": 0,
              "ticks": ""
             }
            },
            "type": "scattergl"
           }
          ],
          "scattermapbox": [
           {
            "marker": {
             "colorbar": {
              "outlinewidth": 0,
              "ticks": ""
             }
            },
            "type": "scattermapbox"
           }
          ],
          "scatterpolar": [
           {
            "marker": {
             "colorbar": {
              "outlinewidth": 0,
              "ticks": ""
             }
            },
            "type": "scatterpolar"
           }
          ],
          "scatterpolargl": [
           {
            "marker": {
             "colorbar": {
              "outlinewidth": 0,
              "ticks": ""
             }
            },
            "type": "scatterpolargl"
           }
          ],
          "scatterternary": [
           {
            "marker": {
             "colorbar": {
              "outlinewidth": 0,
              "ticks": ""
             }
            },
            "type": "scatterternary"
           }
          ],
          "surface": [
           {
            "colorbar": {
             "outlinewidth": 0,
             "ticks": ""
            },
            "colorscale": [
             [
              0,
              "#0d0887"
             ],
             [
              0.1111111111111111,
              "#46039f"
             ],
             [
              0.2222222222222222,
              "#7201a8"
             ],
             [
              0.3333333333333333,
              "#9c179e"
             ],
             [
              0.4444444444444444,
              "#bd3786"
             ],
             [
              0.5555555555555556,
              "#d8576b"
             ],
             [
              0.6666666666666666,
              "#ed7953"
             ],
             [
              0.7777777777777778,
              "#fb9f3a"
             ],
             [
              0.8888888888888888,
              "#fdca26"
             ],
             [
              1,
              "#f0f921"
             ]
            ],
            "type": "surface"
           }
          ],
          "table": [
           {
            "cells": {
             "fill": {
              "color": "#EBF0F8"
             },
             "line": {
              "color": "white"
             }
            },
            "header": {
             "fill": {
              "color": "#C8D4E3"
             },
             "line": {
              "color": "white"
             }
            },
            "type": "table"
           }
          ]
         },
         "layout": {
          "annotationdefaults": {
           "arrowcolor": "#2a3f5f",
           "arrowhead": 0,
           "arrowwidth": 1
          },
          "autotypenumbers": "strict",
          "coloraxis": {
           "colorbar": {
            "outlinewidth": 0,
            "ticks": ""
           }
          },
          "colorscale": {
           "diverging": [
            [
             0,
             "#8e0152"
            ],
            [
             0.1,
             "#c51b7d"
            ],
            [
             0.2,
             "#de77ae"
            ],
            [
             0.3,
             "#f1b6da"
            ],
            [
             0.4,
             "#fde0ef"
            ],
            [
             0.5,
             "#f7f7f7"
            ],
            [
             0.6,
             "#e6f5d0"
            ],
            [
             0.7,
             "#b8e186"
            ],
            [
             0.8,
             "#7fbc41"
            ],
            [
             0.9,
             "#4d9221"
            ],
            [
             1,
             "#276419"
            ]
           ],
           "sequential": [
            [
             0,
             "#0d0887"
            ],
            [
             0.1111111111111111,
             "#46039f"
            ],
            [
             0.2222222222222222,
             "#7201a8"
            ],
            [
             0.3333333333333333,
             "#9c179e"
            ],
            [
             0.4444444444444444,
             "#bd3786"
            ],
            [
             0.5555555555555556,
             "#d8576b"
            ],
            [
             0.6666666666666666,
             "#ed7953"
            ],
            [
             0.7777777777777778,
             "#fb9f3a"
            ],
            [
             0.8888888888888888,
             "#fdca26"
            ],
            [
             1,
             "#f0f921"
            ]
           ],
           "sequentialminus": [
            [
             0,
             "#0d0887"
            ],
            [
             0.1111111111111111,
             "#46039f"
            ],
            [
             0.2222222222222222,
             "#7201a8"
            ],
            [
             0.3333333333333333,
             "#9c179e"
            ],
            [
             0.4444444444444444,
             "#bd3786"
            ],
            [
             0.5555555555555556,
             "#d8576b"
            ],
            [
             0.6666666666666666,
             "#ed7953"
            ],
            [
             0.7777777777777778,
             "#fb9f3a"
            ],
            [
             0.8888888888888888,
             "#fdca26"
            ],
            [
             1,
             "#f0f921"
            ]
           ]
          },
          "colorway": [
           "#636efa",
           "#EF553B",
           "#00cc96",
           "#ab63fa",
           "#FFA15A",
           "#19d3f3",
           "#FF6692",
           "#B6E880",
           "#FF97FF",
           "#FECB52"
          ],
          "font": {
           "color": "#2a3f5f"
          },
          "geo": {
           "bgcolor": "white",
           "lakecolor": "white",
           "landcolor": "#E5ECF6",
           "showlakes": true,
           "showland": true,
           "subunitcolor": "white"
          },
          "hoverlabel": {
           "align": "left"
          },
          "hovermode": "closest",
          "mapbox": {
           "style": "light"
          },
          "paper_bgcolor": "white",
          "plot_bgcolor": "#E5ECF6",
          "polar": {
           "angularaxis": {
            "gridcolor": "white",
            "linecolor": "white",
            "ticks": ""
           },
           "bgcolor": "#E5ECF6",
           "radialaxis": {
            "gridcolor": "white",
            "linecolor": "white",
            "ticks": ""
           }
          },
          "scene": {
           "xaxis": {
            "backgroundcolor": "#E5ECF6",
            "gridcolor": "white",
            "gridwidth": 2,
            "linecolor": "white",
            "showbackground": true,
            "ticks": "",
            "zerolinecolor": "white"
           },
           "yaxis": {
            "backgroundcolor": "#E5ECF6",
            "gridcolor": "white",
            "gridwidth": 2,
            "linecolor": "white",
            "showbackground": true,
            "ticks": "",
            "zerolinecolor": "white"
           },
           "zaxis": {
            "backgroundcolor": "#E5ECF6",
            "gridcolor": "white",
            "gridwidth": 2,
            "linecolor": "white",
            "showbackground": true,
            "ticks": "",
            "zerolinecolor": "white"
           }
          },
          "shapedefaults": {
           "line": {
            "color": "#2a3f5f"
           }
          },
          "ternary": {
           "aaxis": {
            "gridcolor": "white",
            "linecolor": "white",
            "ticks": ""
           },
           "baxis": {
            "gridcolor": "white",
            "linecolor": "white",
            "ticks": ""
           },
           "bgcolor": "#E5ECF6",
           "caxis": {
            "gridcolor": "white",
            "linecolor": "white",
            "ticks": ""
           }
          },
          "title": {
           "x": 0.05
          },
          "xaxis": {
           "automargin": true,
           "gridcolor": "white",
           "linecolor": "white",
           "ticks": "",
           "title": {
            "standoff": 15
           },
           "zerolinecolor": "white",
           "zerolinewidth": 2
          },
          "yaxis": {
           "automargin": true,
           "gridcolor": "white",
           "linecolor": "white",
           "ticks": "",
           "title": {
            "standoff": 15
           },
           "zerolinecolor": "white",
           "zerolinewidth": 2
          }
         }
        },
        "title": {
         "text": "Mean Finishing Position of Promoted Teams Over Time"
        },
        "xaxis": {
         "title": {
          "text": "Season"
         },
         "type": "category"
        },
        "yaxis": {
         "autorange": false,
         "dtick": 1,
         "range": [
          20,
          1
         ],
         "tick0": 1,
         "tickmode": "linear",
         "title": {
          "text": "Mean Finishing Position"
         }
        }
       }
      }
     },
     "metadata": {},
     "output_type": "display_data"
    }
   ],
   "source": [
    "fig = go.Figure()\n",
    "fig.add_trace(go.Scatter(x=mean_finishing_positions.index.astype(str), \n",
    "                     y=mean_finishing_positions.values, \n",
    "                     name=\"Mean Finishing Position\"))\n",
    "overall_mean = mean_finishing_positions.mean()\n",
    "\n",
    "fig.add_hline(y=overall_mean, line_dash=\"dash\", line_color=\"red\", annotation_text=f\"Overall Mean: {overall_mean:.2f}\", annotation_position=\"top right\")\n",
    "\n",
    "fig.update_xaxes(type='category')\n",
    "fig.update_layout(\n",
    "    title=\"Mean Finishing Position of Promoted Teams Over Time\",\n",
    "    xaxis_title=\"Season\",\n",
    "    yaxis_title=\"Mean Finishing Position\",\n",
    "    yaxis=dict(\n",
    "        range=[20, 1],\n",
    "        autorange=False,\n",
    "        tickmode='linear',\n",
    "        tick0=1,\n",
    "        dtick=1\n",
    "    )\n",
    ")\n",
    "fig.show()\n"
   ]
  },
  {
   "cell_type": "code",
   "execution_count": 10,
   "metadata": {},
   "outputs": [
    {
     "name": "stdout",
     "output_type": "stream",
     "text": [
      "Mean finishing position of promoted teams:                 15.396825396825395\n",
      "Standard deviation of finishing position of promoted teams 1.7563189017533478\n"
     ]
    }
   ],
   "source": [
    "print(f\"Mean finishing position of promoted teams:                 {overall_mean}\")\n",
    "print(f\"Standard deviation of finishing position of promoted teams {mean_finishing_positions.std()}\")"
   ]
  },
  {
   "cell_type": "markdown",
   "metadata": {},
   "source": [
    "So, we know the mean finishing position and standard deviation of finishing position of promoted teams. \n",
    "Lets also get the rest of the data for them.\n",
    "\n",
    "Since we will have no data for the single season after which a team has been promoted, we will use the mean of the columns for each of the promoted teams in the data, maybe also randomising according to the standard deviation as well.\n",
    "\n",
    "We need to add the columns (home, away, overall):\n",
    "- TeamPointsPG\n",
    "- TeamGoalsScoredPG\n",
    "- TeamGoalsConcededPG\n",
    "- TeamGoalDifferencePG\n",
    "- TeamShotsPG\n",
    "- TeamFoulsPG\n",
    "- TeamCornersPG\n",
    "- TeamYellowCardsPG\n",
    "- TeamRedCardsPG"
   ]
  },
  {
   "cell_type": "code",
   "execution_count": 11,
   "metadata": {},
   "outputs": [],
   "source": [
    "promoted_teams_2 = promoted_teams.copy()\n",
    "\n",
    "# We don't include PointsPGOverall or GoalDifferencePGOverall because we already have them in the finishing position.\n",
    "home_stats = test3.groupby(['Season', 'HomeTeam']).agg({\n",
    "    'HomeTeamPointsPGAtHome': 'first',\n",
    "    'HomeTeamGoalsScoredPGOverall': 'first',\n",
    "    'HomeTeamGoalsScoredPGAtHome': 'first',\n",
    "    'HomeTeamGoalsConcededPGOverall': 'first',\n",
    "    'HomeTeamGoalsConcededPGAtHome': 'first',\n",
    "    'HomeTeamGoalDifferencePGAtHome': 'first',\n",
    "    'HomeTeamShotsPGOverall': 'first',\n",
    "    'HomeTeamShotsPGAtHome': 'first',\n",
    "    'HomeTeamFoulsPGOverall': 'first',\n",
    "    'HomeTeamFoulsPGAtHome': 'first',\n",
    "    'HomeTeamCornersPGOverall': 'first',\n",
    "    'HomeTeamCornersPGAtHome': 'first',\n",
    "    'HomeTeamYellowCardsPGOverall': 'first',\n",
    "    'HomeTeamYellowCardsPGAtHome': 'first',\n",
    "    'HomeTeamRedCardsPGOverall': 'first',\n",
    "    'HomeTeamRedCardsPGAtHome': 'first'\n",
    "}).reset_index()\n",
    "away_stats = test3.groupby(['Season', 'AwayTeam']).agg({\n",
    "    'AwayTeamPointsPGOnAway': 'first',\n",
    "    'AwayTeamGoalsScoredPGOnAway': 'first',\n",
    "    'AwayTeamGoalsConcededPGOnAway': 'first',\n",
    "    'AwayTeamGoalDifferencePGOnAway': 'first',\n",
    "    'AwayTeamShotsPGOnAway': 'first',\n",
    "    'AwayTeamFoulsPGOnAway': 'first',\n",
    "    'AwayTeamCornersPGOnAway': 'first',\n",
    "    'AwayTeamYellowCardsPGOnAway': 'first',\n",
    "    'AwayTeamRedCardsPGOnAway': 'first'\n",
    "}).reset_index()\n",
    "\n",
    "\n",
    "promoted_teams_2 = promoted_teams_2.merge(\n",
    "    home_stats,\n",
    "    left_on=['Season', 'Team'],\n",
    "    right_on=['Season', 'HomeTeam'],\n",
    "    how='left'\n",
    ").drop(columns=['HomeTeam'])\n",
    "columns_to_rename = {\n",
    "    'HomeTeamPointsPGOverall': 'TeamPointsPGOverall',\n",
    "    'HomeTeamPointsPGAtHome': 'TeamPointsPGAtHome',\n",
    "    'HomeTeamGoalsScoredPGOverall': 'TeamGoalsScoredPGOverall',\n",
    "    'HomeTeamGoalsScoredPGAtHome': 'TeamGoalsScoredPGAtHome',\n",
    "    'HomeTeamGoalsConcededPGOverall': 'TeamGoalsConcededPGOverall',\n",
    "    'HomeTeamGoalsConcededPGAtHome': 'TeamGoalsConcededPGAtHome',\n",
    "    'HomeTeamGoalDifferencePGOverall': 'TeamGoalDifferencePGOverall',\n",
    "    'HomeTeamGoalDifferencePGAtHome': 'TeamGoalDifferencePGAtHome',\n",
    "    'HomeTeamShotsPGOverall': 'TeamShotsPGOverall',\n",
    "    'HomeTeamShotsPGAtHome': 'TeamShotsPGAtHome',\n",
    "    'HomeTeamFoulsPGOverall': 'TeamFoulsPGOverall',\n",
    "    'HomeTeamFoulsPGAtHome': 'TeamFoulsPGAtHome',\n",
    "    'HomeTeamCornersPGOverall': 'TeamCornersPGOverall',\n",
    "    'HomeTeamCornersPGAtHome': 'TeamCornersPGAtHome',\n",
    "    'HomeTeamYellowCardsPGOverall': 'TeamYellowCardsPGOverall',\n",
    "    'HomeTeamYellowCardsPGAtHome': 'TeamYellowCardsPGAtHome',\n",
    "    'HomeTeamRedCardsPGOverall': 'TeamRedCardsPGOverall',\n",
    "    'HomeTeamRedCardsPGAtHome': 'TeamRedCardsPGAtHome'\n",
    "}\n",
    "promoted_teams_2 = promoted_teams_2.rename(columns=columns_to_rename)\n",
    "\n",
    "\n",
    "promoted_teams_2 = promoted_teams_2.merge(\n",
    "    away_stats,\n",
    "    left_on=['Season', 'Team'],\n",
    "    right_on=['Season', 'AwayTeam'],\n",
    "    how='left'\n",
    ").drop(columns=['AwayTeam'])\n",
    "away_columns_to_rename = {\n",
    "    'AwayTeamPointsPGOnAway': 'TeamPointsPGOnAway',\n",
    "    'AwayTeamGoalsScoredPGOnAway': 'TeamGoalsScoredPGOnAway',\n",
    "    'AwayTeamGoalsConcededPGOnAway': 'TeamGoalsConcededPGOnAway',\n",
    "    'AwayTeamGoalDifferencePGOnAway': 'TeamGoalDifferencePGOnAway',\n",
    "    'AwayTeamShotsPGOnAway': 'TeamShotsPGOnAway',\n",
    "    'AwayTeamFoulsPGOnAway': 'TeamFoulsPGOnAway',\n",
    "    'AwayTeamCornersPGOnAway': 'TeamCornersPGOnAway',\n",
    "    'AwayTeamYellowCardsPGOnAway': 'TeamYellowCardsPGOnAway',\n",
    "    'AwayTeamRedCardsPGOnAway': 'TeamRedCardsPGOnAway'\n",
    "}\n",
    "promoted_teams_2 = promoted_teams_2.rename(columns=away_columns_to_rename)"
   ]
  },
  {
   "cell_type": "code",
   "execution_count": 12,
   "metadata": {},
   "outputs": [
    {
     "data": {
      "text/plain": [
       "Index(['Season', 'Team', 'TeamPointsPGOverall', 'TeamGoalDifferencePGOverall',\n",
       "       'FinishingPosition', 'TeamPointsPGAtHome', 'TeamGoalsScoredPGOverall',\n",
       "       'TeamGoalsScoredPGAtHome', 'TeamGoalsConcededPGOverall',\n",
       "       'TeamGoalsConcededPGAtHome', 'TeamGoalDifferencePGAtHome',\n",
       "       'TeamShotsPGOverall', 'TeamShotsPGAtHome', 'TeamFoulsPGOverall',\n",
       "       'TeamFoulsPGAtHome', 'TeamCornersPGOverall', 'TeamCornersPGAtHome',\n",
       "       'TeamYellowCardsPGOverall', 'TeamYellowCardsPGAtHome',\n",
       "       'TeamRedCardsPGOverall', 'TeamRedCardsPGAtHome', 'TeamPointsPGOnAway',\n",
       "       'TeamGoalsScoredPGOnAway', 'TeamGoalsConcededPGOnAway',\n",
       "       'TeamGoalDifferencePGOnAway', 'TeamShotsPGOnAway', 'TeamFoulsPGOnAway',\n",
       "       'TeamCornersPGOnAway', 'TeamYellowCardsPGOnAway',\n",
       "       'TeamRedCardsPGOnAway'],\n",
       "      dtype='object')"
      ]
     },
     "execution_count": 12,
     "metadata": {},
     "output_type": "execute_result"
    }
   ],
   "source": [
    "promoted_teams_2.columns"
   ]
  },
  {
   "cell_type": "markdown",
   "metadata": {},
   "source": [
    "So, for each promoted team and season we will use a random value between the mean +/- the standard deviation of said column for all the promoted teams in that season to fill in the missing values.\n",
    "\n",
    "First though we should check if there is any patterns over time, e.g. if promoted teams teams 20 years ago scored less than they do now."
   ]
  },
  {
   "cell_type": "code",
   "execution_count": 13,
   "metadata": {},
   "outputs": [
    {
     "data": {
      "application/vnd.plotly.v1+json": {
       "config": {
        "plotlyServerURL": "https://plot.ly"
       },
       "data": [
        {
         "name": "PointsPGAtHome",
         "type": "scatter",
         "x": [
          "2001-02",
          "2002-03",
          "2003-04",
          "2004-05",
          "2005-06",
          "2006-07",
          "2007-08",
          "2008-09",
          "2009-10",
          "2010-11",
          "2011-12",
          "2012-13",
          "2013-14",
          "2014-15",
          "2015-16",
          "2016-17",
          "2017-18",
          "2018-19",
          "2019-20",
          "2020-21",
          "2021-22"
         ],
         "xaxis": "x",
         "y": [
          1.4035087719298247,
          1.2631578947368423,
          1.3859649122807018,
          1.2631578947368423,
          1.0701754385964912,
          1.4035087719298245,
          1.1228070175438598,
          1.280701754385965,
          1.4035087719298247,
          1.3333333333333333,
          1.4736842105263157,
          1.368421052631579,
          1.263157894736842,
          1.1929824561403508,
          1.175438596491228,
          1.3859649122807018,
          1.4035087719298245,
          1.3157894736842106,
          1.2631578947368423,
          0.9473684210526315,
          0.8222222222222223
         ],
         "yaxis": "y"
        },
        {
         "name": "PointsPGOnAway",
         "type": "scatter",
         "x": [
          "2001-02",
          "2002-03",
          "2003-04",
          "2004-05",
          "2005-06",
          "2006-07",
          "2007-08",
          "2008-09",
          "2009-10",
          "2010-11",
          "2011-12",
          "2012-13",
          "2013-14",
          "2014-15",
          "2015-16",
          "2016-17",
          "2017-18",
          "2018-19",
          "2019-20",
          "2020-21",
          "2021-22"
         ],
         "xaxis": "x",
         "y": [
          0.8771929824561404,
          0.9298245614035089,
          0.5614035087719298,
          0.49122807017543857,
          1.0526315789473684,
          0.7192982456140351,
          0.3684210526315789,
          0.6842105263157894,
          0.6666666666666666,
          0.9824561403508772,
          0.8245614035087719,
          0.6491228070175438,
          0.7017543859649122,
          0.631578947368421,
          0.9473684210526315,
          0.40350877192982454,
          0.7192982456140351,
          0.7368421052631579,
          0.6666666666666666,
          1.0350877192982457,
          0.8458333333333333
         ],
         "yaxis": "y"
        },
        {
         "name": "PointsPGOverall",
         "type": "scatter",
         "x": [
          "2001-02",
          "2002-03",
          "2003-04",
          "2004-05",
          "2005-06",
          "2006-07",
          "2007-08",
          "2008-09",
          "2009-10",
          "2010-11",
          "2011-12",
          "2012-13",
          "2013-14",
          "2014-15",
          "2015-16",
          "2016-17",
          "2017-18",
          "2018-19",
          "2019-20",
          "2020-21",
          "2021-22"
         ],
         "xaxis": "x",
         "y": [
          1.1403508771929824,
          1.0964912280701753,
          0.9736842105263158,
          0.8771929824561404,
          1.0614035087719298,
          1.0614035087719298,
          0.7456140350877193,
          0.9824561403508771,
          1.0350877192982457,
          1.1578947368421053,
          1.1491228070175439,
          1.0087719298245614,
          0.9824561403508772,
          0.9122807017543861,
          1.0614035087719298,
          0.8947368421052632,
          1.0614035087719298,
          1.0263157894736843,
          0.9649122807017543,
          0.9912280701754387,
          0.8340277777777777
         ],
         "yaxis": "y"
        },
        {
         "name": "GoalsScoredPGAtHome",
         "type": "scatter",
         "x": [
          "2001-02",
          "2002-03",
          "2003-04",
          "2004-05",
          "2005-06",
          "2006-07",
          "2007-08",
          "2008-09",
          "2009-10",
          "2010-11",
          "2011-12",
          "2012-13",
          "2013-14",
          "2014-15",
          "2015-16",
          "2016-17",
          "2017-18",
          "2018-19",
          "2019-20",
          "2020-21",
          "2021-22"
         ],
         "xaxis": "x2",
         "y": [
          1.2982456140350878,
          1.2280701754385965,
          1.3508771929824561,
          1.1754385964912282,
          1.1578947368421053,
          1.2631578947368423,
          1.1403508771929827,
          1.1578947368421053,
          1,
          1.771929824561404,
          1.3859649122807014,
          1.4561403508771928,
          1.0175438596491226,
          1.1403508771929824,
          1.2105263157894737,
          1.2456140350877194,
          1.0701754385964912,
          1.2456140350877194,
          1.1403508771929824,
          0.9122807017543858,
          0.936111111111111
         ],
         "yaxis": "y2"
        },
        {
         "name": "GoalsScoredPGOnAway",
         "type": "scatter",
         "x": [
          "2001-02",
          "2002-03",
          "2003-04",
          "2004-05",
          "2005-06",
          "2006-07",
          "2007-08",
          "2008-09",
          "2009-10",
          "2010-11",
          "2011-12",
          "2012-13",
          "2013-14",
          "2014-15",
          "2015-16",
          "2016-17",
          "2017-18",
          "2018-19",
          "2019-20",
          "2020-21",
          "2021-22"
         ],
         "xaxis": "x2",
         "y": [
          1.0701754385964912,
          0.8245614035087719,
          0.9824561403508772,
          0.912280701754386,
          1,
          0.7192982456140351,
          0.6491228070175438,
          0.8245614035087719,
          0.9649122807017544,
          1.1578947368421053,
          1.0526315789473684,
          0.9473684210526315,
          0.7894736842105262,
          0.8947368421052632,
          0.9649122807017544,
          0.5614035087719298,
          0.7017543859649122,
          0.7719298245614036,
          0.7192982456140351,
          1.2631578947368423,
          0.9277777777777777
         ],
         "yaxis": "y2"
        },
        {
         "name": "GoalsScoredPGOverall",
         "type": "scatter",
         "x": [
          "2001-02",
          "2002-03",
          "2003-04",
          "2004-05",
          "2005-06",
          "2006-07",
          "2007-08",
          "2008-09",
          "2009-10",
          "2010-11",
          "2011-12",
          "2012-13",
          "2013-14",
          "2014-15",
          "2015-16",
          "2016-17",
          "2017-18",
          "2018-19",
          "2019-20",
          "2020-21",
          "2021-22"
         ],
         "xaxis": "x2",
         "y": [
          1.1842105263157896,
          1.0263157894736843,
          1.1666666666666667,
          1.0438596491228072,
          1.0789473684210524,
          0.9912280701754387,
          0.8947368421052632,
          0.9912280701754387,
          0.9824561403508772,
          1.4649122807017545,
          1.219298245614035,
          1.2017543859649122,
          0.9035087719298245,
          1.0175438596491226,
          1.087719298245614,
          0.9035087719298245,
          0.8859649122807017,
          1.0087719298245614,
          0.9298245614035089,
          1.087719298245614,
          0.9319444444444445
         ],
         "yaxis": "y2"
        },
        {
         "name": "GoalsConcededPGAtHome",
         "type": "scatter",
         "x": [
          "2001-02",
          "2002-03",
          "2003-04",
          "2004-05",
          "2005-06",
          "2006-07",
          "2007-08",
          "2008-09",
          "2009-10",
          "2010-11",
          "2011-12",
          "2012-13",
          "2013-14",
          "2014-15",
          "2015-16",
          "2016-17",
          "2017-18",
          "2018-19",
          "2019-20",
          "2020-21",
          "2021-22"
         ],
         "xaxis": "x3",
         "y": [
          1.175438596491228,
          1.4561403508771928,
          1.4385964912280702,
          1.3157894736842104,
          1.5438596491228072,
          1.1578947368421053,
          1.5263157894736843,
          1.4736842105263157,
          1.1403508771929827,
          1.6491228070175439,
          1.2807017543859651,
          1.3859649122807018,
          1.3859649122807018,
          1.175438596491228,
          1.4561403508771928,
          1.3684210526315788,
          1.1754385964912282,
          1.6666666666666667,
          1.4385964912280702,
          1.5438596491228072,
          1.863888888888889
         ],
         "yaxis": "y3"
        },
        {
         "name": "GoalsConcededPGOnAway",
         "type": "scatter",
         "x": [
          "2001-02",
          "2002-03",
          "2003-04",
          "2004-05",
          "2005-06",
          "2006-07",
          "2007-08",
          "2008-09",
          "2009-10",
          "2010-11",
          "2011-12",
          "2012-13",
          "2013-14",
          "2014-15",
          "2015-16",
          "2016-17",
          "2017-18",
          "2018-19",
          "2019-20",
          "2020-21",
          "2021-22"
         ],
         "xaxis": "x3",
         "y": [
          1.5789473684210524,
          1.4912280701754386,
          2,
          2.192982456140351,
          1.5438596491228072,
          1.6666666666666667,
          2.1578947368421053,
          1.7894736842105263,
          2.1052631578947367,
          1.9649122807017545,
          1.9298245614035088,
          1.8771929824561404,
          1.6842105263157894,
          2,
          1.7719298245614035,
          1.9298245614035088,
          1.6140350877192986,
          1.7719298245614035,
          1.7368421052631577,
          1.6666666666666667,
          1.7944444444444443
         ],
         "yaxis": "y3"
        },
        {
         "name": "GoalsConcededPGOverall",
         "type": "scatter",
         "x": [
          "2001-02",
          "2002-03",
          "2003-04",
          "2004-05",
          "2005-06",
          "2006-07",
          "2007-08",
          "2008-09",
          "2009-10",
          "2010-11",
          "2011-12",
          "2012-13",
          "2013-14",
          "2014-15",
          "2015-16",
          "2016-17",
          "2017-18",
          "2018-19",
          "2019-20",
          "2020-21",
          "2021-22"
         ],
         "xaxis": "x3",
         "y": [
          1.3771929824561404,
          1.4736842105263157,
          1.7192982456140349,
          1.7543859649122806,
          1.5438596491228072,
          1.4122807017543861,
          1.842105263157895,
          1.631578947368421,
          1.6228070175438596,
          1.8070175438596492,
          1.605263157894737,
          1.6315789473684212,
          1.5350877192982457,
          1.587719298245614,
          1.6140350877192982,
          1.6491228070175439,
          1.394736842105263,
          1.719298245614035,
          1.587719298245614,
          1.605263157894737,
          1.8291666666666666
         ],
         "yaxis": "y3"
        },
        {
         "name": "GoalDifferencePGAtHome",
         "type": "scatter",
         "x": [
          "2001-02",
          "2002-03",
          "2003-04",
          "2004-05",
          "2005-06",
          "2006-07",
          "2007-08",
          "2008-09",
          "2009-10",
          "2010-11",
          "2011-12",
          "2012-13",
          "2013-14",
          "2014-15",
          "2015-16",
          "2016-17",
          "2017-18",
          "2018-19",
          "2019-20",
          "2020-21",
          "2021-22"
         ],
         "xaxis": "x4",
         "y": [
          0.12280701754385971,
          -0.22807017543859653,
          -0.08771929824561402,
          -0.14035087719298234,
          -0.38596491228070184,
          0.10526315789473678,
          -0.3859649122807018,
          -0.31578947368421056,
          -0.14035087719298242,
          0.12280701754385966,
          0.1052631578947368,
          0.07017543859649121,
          -0.368421052631579,
          -0.03508771929824567,
          -0.2456140350877193,
          -0.12280701754385963,
          -0.10526315789473688,
          -0.42105263157894735,
          -0.29824561403508776,
          -0.6315789473684212,
          -0.9277777777777777
         ],
         "yaxis": "y4"
        },
        {
         "name": "GoalDifferencePGOnAway",
         "type": "scatter",
         "x": [
          "2001-02",
          "2002-03",
          "2003-04",
          "2004-05",
          "2005-06",
          "2006-07",
          "2007-08",
          "2008-09",
          "2009-10",
          "2010-11",
          "2011-12",
          "2012-13",
          "2013-14",
          "2014-15",
          "2015-16",
          "2016-17",
          "2017-18",
          "2018-19",
          "2019-20",
          "2020-21",
          "2021-22"
         ],
         "xaxis": "x4",
         "y": [
          -0.5087719298245613,
          -0.6666666666666666,
          -1.0175438596491229,
          -1.280701754385965,
          -0.543859649122807,
          -0.9473684210526315,
          -1.5087719298245617,
          -0.9649122807017543,
          -1.1403508771929824,
          -0.8070175438596491,
          -0.8771929824561404,
          -0.9298245614035087,
          -0.8947368421052633,
          -1.105263157894737,
          -0.8070175438596491,
          -1.368421052631579,
          -0.912280701754386,
          -1,
          -1.0175438596491226,
          -0.4035087719298247,
          -0.8666666666666667
         ],
         "yaxis": "y4"
        },
        {
         "name": "GoalDifferencePGOverall",
         "type": "scatter",
         "x": [
          "2001-02",
          "2002-03",
          "2003-04",
          "2004-05",
          "2005-06",
          "2006-07",
          "2007-08",
          "2008-09",
          "2009-10",
          "2010-11",
          "2011-12",
          "2012-13",
          "2013-14",
          "2014-15",
          "2015-16",
          "2016-17",
          "2017-18",
          "2018-19",
          "2019-20",
          "2020-21",
          "2021-22"
         ],
         "xaxis": "x4",
         "y": [
          -0.1929824561403508,
          -0.44736842105263147,
          -0.5526315789473684,
          -0.7105263157894736,
          -0.4649122807017545,
          -0.4210526315789475,
          -0.9473684210526315,
          -0.6403508771929823,
          -0.6403508771929826,
          -0.3421052631578947,
          -0.3859649122807018,
          -0.42982456140350883,
          -0.6315789473684211,
          -0.5701754385964913,
          -0.5263157894736842,
          -0.7456140350877192,
          -0.5087719298245614,
          -0.7105263157894736,
          -0.6578947368421052,
          -0.517543859649123,
          -0.8972222222222221
         ],
         "yaxis": "y4"
        },
        {
         "name": "ShotsPGAtHome",
         "type": "scatter",
         "x": [
          "2001-02",
          "2002-03",
          "2003-04",
          "2004-05",
          "2005-06",
          "2006-07",
          "2007-08",
          "2008-09",
          "2009-10",
          "2010-11",
          "2011-12",
          "2012-13",
          "2013-14",
          "2014-15",
          "2015-16",
          "2016-17",
          "2017-18",
          "2018-19",
          "2019-20",
          "2020-21",
          "2021-22"
         ],
         "xaxis": "x5",
         "y": [
          11.719298245614036,
          11.24561403508772,
          11.526315789473685,
          10.421052631578947,
          11.350877192982457,
          10.964912280701753,
          11.017543859649123,
          11,
          11.070175438596493,
          13.912280701754385,
          13.140350877192981,
          11.666666666666666,
          12.087719298245615,
          14.298245614035087,
          12.719298245614034,
          10.929824561403509,
          11.36842105263158,
          13.526315789473685,
          11.842105263157896,
          11.807017543859649,
          11.356944444444444
         ],
         "yaxis": "y5"
        },
        {
         "name": "ShotsPGOnAway",
         "type": "scatter",
         "x": [
          "2001-02",
          "2002-03",
          "2003-04",
          "2004-05",
          "2005-06",
          "2006-07",
          "2007-08",
          "2008-09",
          "2009-10",
          "2010-11",
          "2011-12",
          "2012-13",
          "2013-14",
          "2014-15",
          "2015-16",
          "2016-17",
          "2017-18",
          "2018-19",
          "2019-20",
          "2020-21",
          "2021-22"
         ],
         "xaxis": "x5",
         "y": [
          9.105263157894736,
          9.017543859649123,
          8.947368421052632,
          7.964912280701753,
          8.36842105263158,
          8.31578947368421,
          8.017543859649123,
          9.807017543859649,
          9.210526315789474,
          10.701754385964913,
          11.210526315789474,
          10.491228070175438,
          9.982456140350878,
          10.596491228070176,
          10.508771929824562,
          8.982456140350878,
          9.543859649122806,
          10.05263157894737,
          9.578947368421053,
          11.070175438596491,
          9.572222222222223
         ],
         "yaxis": "y5"
        },
        {
         "name": "ShotsPGOverall",
         "type": "scatter",
         "x": [
          "2001-02",
          "2002-03",
          "2003-04",
          "2004-05",
          "2005-06",
          "2006-07",
          "2007-08",
          "2008-09",
          "2009-10",
          "2010-11",
          "2011-12",
          "2012-13",
          "2013-14",
          "2014-15",
          "2015-16",
          "2016-17",
          "2017-18",
          "2018-19",
          "2019-20",
          "2020-21",
          "2021-22"
         ],
         "xaxis": "x5",
         "y": [
          10.412280701754385,
          10.131578947368421,
          10.236842105263158,
          9.192982456140351,
          9.859649122807019,
          9.640350877192981,
          9.517543859649123,
          10.403508771929824,
          10.140350877192983,
          12.307017543859649,
          12.175438596491228,
          11.078947368421053,
          11.035087719298247,
          12.44736842105263,
          11.614035087719296,
          9.956140350877194,
          10.456140350877194,
          11.789473684210527,
          10.710526315789473,
          11.438596491228068,
          10.464583333333334
         ],
         "yaxis": "y5"
        },
        {
         "name": "FoulsPGAtHome",
         "type": "scatter",
         "x": [
          "2001-02",
          "2002-03",
          "2003-04",
          "2004-05",
          "2005-06",
          "2006-07",
          "2007-08",
          "2008-09",
          "2009-10",
          "2010-11",
          "2011-12",
          "2012-13",
          "2013-14",
          "2014-15",
          "2015-16",
          "2016-17",
          "2017-18",
          "2018-19",
          "2019-20",
          "2020-21",
          "2021-22"
         ],
         "xaxis": "x6",
         "y": [
          13.192982456140351,
          12.736842105263158,
          12.947368421052632,
          13.43859649122807,
          12.877192982456139,
          12.05263157894737,
          12.526315789473685,
          12.280701754385966,
          10.929824561403509,
          11.087719298245615,
          9.280701754385966,
          10.210526315789474,
          10.017543859649122,
          11.56140350877193,
          10.280701754385964,
          11.175438596491228,
          10.263157894736842,
          10.385964912280704,
          10.578947368421053,
          11.736842105263158,
          10.502777777777778
         ],
         "yaxis": "y6"
        },
        {
         "name": "FoulsPGOnAway",
         "type": "scatter",
         "x": [
          "2001-02",
          "2002-03",
          "2003-04",
          "2004-05",
          "2005-06",
          "2006-07",
          "2007-08",
          "2008-09",
          "2009-10",
          "2010-11",
          "2011-12",
          "2012-13",
          "2013-14",
          "2014-15",
          "2015-16",
          "2016-17",
          "2017-18",
          "2018-19",
          "2019-20",
          "2020-21",
          "2021-22"
         ],
         "xaxis": "x6",
         "y": [
          14.31578947368421,
          12.824561403508772,
          13.982456140350877,
          13.736842105263158,
          13.929824561403509,
          12.842105263157896,
          13.31578947368421,
          13.035087719298247,
          12.31578947368421,
          10.56140350877193,
          9.701754385964913,
          10.596491228070176,
          10.456140350877194,
          11.421052631578947,
          11.456140350877194,
          11.75438596491228,
          11.105263157894738,
          10.94736842105263,
          10.894736842105262,
          11.333333333333334,
          10.488888888888889
         ],
         "yaxis": "y6"
        },
        {
         "name": "FoulsPGOverall",
         "type": "scatter",
         "x": [
          "2001-02",
          "2002-03",
          "2003-04",
          "2004-05",
          "2005-06",
          "2006-07",
          "2007-08",
          "2008-09",
          "2009-10",
          "2010-11",
          "2011-12",
          "2012-13",
          "2013-14",
          "2014-15",
          "2015-16",
          "2016-17",
          "2017-18",
          "2018-19",
          "2019-20",
          "2020-21",
          "2021-22"
         ],
         "xaxis": "x6",
         "y": [
          13.75438596491228,
          12.780701754385964,
          13.464912280701755,
          13.587719298245615,
          13.403508771929824,
          12.447368421052632,
          12.921052631578947,
          12.657894736842104,
          11.622807017543858,
          10.824561403508772,
          9.491228070175438,
          10.403508771929824,
          10.236842105263158,
          11.491228070175438,
          10.86842105263158,
          11.464912280701753,
          10.68421052631579,
          10.666666666666666,
          10.736842105263158,
          11.535087719298245,
          10.495833333333334
         ],
         "yaxis": "y6"
        },
        {
         "name": "CornersPGAtHome",
         "type": "scatter",
         "x": [
          "2001-02",
          "2002-03",
          "2003-04",
          "2004-05",
          "2005-06",
          "2006-07",
          "2007-08",
          "2008-09",
          "2009-10",
          "2010-11",
          "2011-12",
          "2012-13",
          "2013-14",
          "2014-15",
          "2015-16",
          "2016-17",
          "2017-18",
          "2018-19",
          "2019-20",
          "2020-21",
          "2021-22"
         ],
         "xaxis": "x7",
         "y": [
          6.035087719298246,
          6.035087719298246,
          5.807017543859648,
          5.421052631578948,
          5.245614035087719,
          6.666666666666667,
          5.385964912280702,
          5.631578947368421,
          5.315789473684211,
          5.280701754385965,
          5.087719298245614,
          5.964912280701754,
          5.298245614035088,
          5.333333333333333,
          5.824561403508771,
          4.298245614035087,
          4.824561403508771,
          5.368421052631579,
          5.87719298245614,
          5.385964912280702,
          4.673611111111111
         ],
         "yaxis": "y7"
        },
        {
         "name": "CornersPGOnAway",
         "type": "scatter",
         "x": [
          "2001-02",
          "2002-03",
          "2003-04",
          "2004-05",
          "2005-06",
          "2006-07",
          "2007-08",
          "2008-09",
          "2009-10",
          "2010-11",
          "2011-12",
          "2012-13",
          "2013-14",
          "2014-15",
          "2015-16",
          "2016-17",
          "2017-18",
          "2018-19",
          "2019-20",
          "2020-21",
          "2021-22"
         ],
         "xaxis": "x7",
         "y": [
          5.2105263157894735,
          4.473684210526316,
          4.350877192982456,
          4.491228070175438,
          4.43859649122807,
          5.035087719298246,
          4.087719298245614,
          4.842105263157895,
          4.771929824561403,
          4.859649122807017,
          4.842105263157895,
          4.754385964912281,
          3.9649122807017547,
          4.491228070175439,
          4.263157894736842,
          3.9298245614035086,
          3.8596491228070176,
          3.824561403508772,
          4.192982456140351,
          4.087719298245614,
          3.652777777777778
         ],
         "yaxis": "y7"
        },
        {
         "name": "CornersPGOverall",
         "type": "scatter",
         "x": [
          "2001-02",
          "2002-03",
          "2003-04",
          "2004-05",
          "2005-06",
          "2006-07",
          "2007-08",
          "2008-09",
          "2009-10",
          "2010-11",
          "2011-12",
          "2012-13",
          "2013-14",
          "2014-15",
          "2015-16",
          "2016-17",
          "2017-18",
          "2018-19",
          "2019-20",
          "2020-21",
          "2021-22"
         ],
         "xaxis": "x7",
         "y": [
          5.62280701754386,
          5.254385964912281,
          5.078947368421052,
          4.956140350877193,
          4.842105263157895,
          5.850877192982456,
          4.736842105263158,
          5.236842105263158,
          5.043859649122807,
          5.0701754385964914,
          4.964912280701754,
          5.359649122807017,
          4.631578947368421,
          4.912280701754386,
          5.043859649122807,
          4.114035087719298,
          4.342105263157895,
          4.5964912280701755,
          5.035087719298246,
          4.736842105263158,
          4.163194444444444
         ],
         "yaxis": "y7"
        },
        {
         "name": "YellowCardsPGAtHome",
         "type": "scatter",
         "x": [
          "2001-02",
          "2002-03",
          "2003-04",
          "2004-05",
          "2005-06",
          "2006-07",
          "2007-08",
          "2008-09",
          "2009-10",
          "2010-11",
          "2011-12",
          "2012-13",
          "2013-14",
          "2014-15",
          "2015-16",
          "2016-17",
          "2017-18",
          "2018-19",
          "2019-20",
          "2020-21",
          "2021-22"
         ],
         "xaxis": "x8",
         "y": [
          1.3333333333333333,
          1.3157894736842106,
          1.4210526315789476,
          1.1578947368421053,
          1.3333333333333333,
          1.2631578947368423,
          1.4912280701754386,
          1.8771929824561404,
          1.4035087719298245,
          1.4561403508771928,
          1.3333333333333333,
          1.2280701754385965,
          1.280701754385965,
          1.5614035087719298,
          1.6140350877192982,
          1.8421052631578947,
          1.5087719298245614,
          1.7543859649122808,
          1.6315789473684212,
          1.6666666666666667,
          1.6861111111111111
         ],
         "yaxis": "y8"
        },
        {
         "name": "YellowCardsPGOnAway",
         "type": "scatter",
         "x": [
          "2001-02",
          "2002-03",
          "2003-04",
          "2004-05",
          "2005-06",
          "2006-07",
          "2007-08",
          "2008-09",
          "2009-10",
          "2010-11",
          "2011-12",
          "2012-13",
          "2013-14",
          "2014-15",
          "2015-16",
          "2016-17",
          "2017-18",
          "2018-19",
          "2019-20",
          "2020-21",
          "2021-22"
         ],
         "xaxis": "x8",
         "y": [
          1.6491228070175439,
          1.807017543859649,
          1.8596491228070173,
          1.157894736842105,
          1.701754385964912,
          1.473684210526316,
          1.9824561403508774,
          1.8596491228070178,
          2.017543859649123,
          1.6315789473684212,
          1.4035087719298245,
          1.6140350877192982,
          1.5087719298245614,
          1.7368421052631582,
          1.6666666666666667,
          1.8070175438596492,
          1.4210526315789476,
          1.8421052631578947,
          1.807017543859649,
          1.4561403508771928,
          1.551388888888889
         ],
         "yaxis": "y8"
        },
        {
         "name": "YellowCardsPGOverall",
         "type": "scatter",
         "x": [
          "2001-02",
          "2002-03",
          "2003-04",
          "2004-05",
          "2005-06",
          "2006-07",
          "2007-08",
          "2008-09",
          "2009-10",
          "2010-11",
          "2011-12",
          "2012-13",
          "2013-14",
          "2014-15",
          "2015-16",
          "2016-17",
          "2017-18",
          "2018-19",
          "2019-20",
          "2020-21",
          "2021-22"
         ],
         "xaxis": "x8",
         "y": [
          1.4912280701754383,
          1.5614035087719298,
          1.6403508771929827,
          1.1578947368421053,
          1.5175438596491226,
          1.3684210526315788,
          1.7368421052631577,
          1.8684210526315788,
          1.7105263157894735,
          1.5438596491228072,
          1.368421052631579,
          1.4210526315789471,
          1.394736842105263,
          1.6491228070175439,
          1.6403508771929822,
          1.824561403508772,
          1.4649122807017543,
          1.798245614035088,
          1.719298245614035,
          1.5614035087719298,
          1.6187500000000001
         ],
         "yaxis": "y8"
        },
        {
         "name": "RedCardsPGAtHome",
         "type": "scatter",
         "x": [
          "2001-02",
          "2002-03",
          "2003-04",
          "2004-05",
          "2005-06",
          "2006-07",
          "2007-08",
          "2008-09",
          "2009-10",
          "2010-11",
          "2011-12",
          "2012-13",
          "2013-14",
          "2014-15",
          "2015-16",
          "2016-17",
          "2017-18",
          "2018-19",
          "2019-20",
          "2020-21",
          "2021-22"
         ],
         "xaxis": "x9",
         "y": [
          0.15789473684210523,
          0.0701754385964912,
          0.0526315789473684,
          0.08771929824561399,
          0.0701754385964912,
          0.0350877192982456,
          0.0701754385964912,
          0.1052631578947368,
          0.0350877192982456,
          0.0701754385964912,
          0.14035087719298242,
          0.0701754385964912,
          0.0175438596491228,
          0.0526315789473684,
          0.0350877192982456,
          0.0350877192982456,
          0.08771929824561399,
          0.0175438596491228,
          0.0701754385964912,
          0.0701754385964912,
          0.043055555555555534
         ],
         "yaxis": "y9"
        },
        {
         "name": "RedCardsPGOnAway",
         "type": "scatter",
         "x": [
          "2001-02",
          "2002-03",
          "2003-04",
          "2004-05",
          "2005-06",
          "2006-07",
          "2007-08",
          "2008-09",
          "2009-10",
          "2010-11",
          "2011-12",
          "2012-13",
          "2013-14",
          "2014-15",
          "2015-16",
          "2016-17",
          "2017-18",
          "2018-19",
          "2019-20",
          "2020-21",
          "2021-22"
         ],
         "xaxis": "x9",
         "y": [
          0.0701754385964912,
          0.1929824561403508,
          0.15789473684210523,
          0.08771929824561399,
          0.1052631578947368,
          0.08771929824561399,
          0.0701754385964912,
          0.0526315789473684,
          0.08771929824561399,
          0.12280701754385959,
          0.1052631578947368,
          0,
          0.1052631578947368,
          0.1052631578947368,
          0.08771929824561399,
          0.1052631578947368,
          0.0350877192982456,
          0.0526315789473684,
          0.0350877192982456,
          0.0701754385964912,
          0.0861111111111111
         ],
         "yaxis": "y9"
        },
        {
         "name": "RedCardsPGOverall",
         "type": "scatter",
         "x": [
          "2001-02",
          "2002-03",
          "2003-04",
          "2004-05",
          "2005-06",
          "2006-07",
          "2007-08",
          "2008-09",
          "2009-10",
          "2010-11",
          "2011-12",
          "2012-13",
          "2013-14",
          "2014-15",
          "2015-16",
          "2016-17",
          "2017-18",
          "2018-19",
          "2019-20",
          "2020-21",
          "2021-22"
         ],
         "xaxis": "x9",
         "y": [
          0.1140350877192982,
          0.131578947368421,
          0.1052631578947368,
          0.08771929824561399,
          0.08771929824561399,
          0.06140350877192979,
          0.0701754385964912,
          0.0789473684210526,
          0.06140350877192979,
          0.0964912280701754,
          0.12280701754385959,
          0.0350877192982456,
          0.06140350877192979,
          0.0789473684210526,
          0.06140350877192979,
          0.0701754385964912,
          0.06140350877192979,
          0.0350877192982456,
          0.0526315789473684,
          0.0701754385964912,
          0.0645833333333333
         ],
         "yaxis": "y9"
        }
       ],
       "layout": {
        "annotations": [
         {
          "font": {
           "size": 16
          },
          "showarrow": false,
          "text": "PointsPG",
          "x": 0.5,
          "xanchor": "center",
          "xref": "paper",
          "y": 1,
          "yanchor": "bottom",
          "yref": "paper"
         },
         {
          "font": {
           "size": 16
          },
          "showarrow": false,
          "text": "GoalsScoredPG",
          "x": 0.5,
          "xanchor": "center",
          "xref": "paper",
          "y": 0.8827160493827161,
          "yanchor": "bottom",
          "yref": "paper"
         },
         {
          "font": {
           "size": 16
          },
          "showarrow": false,
          "text": "GoalsConcededPG",
          "x": 0.5,
          "xanchor": "center",
          "xref": "paper",
          "y": 0.7654320987654322,
          "yanchor": "bottom",
          "yref": "paper"
         },
         {
          "font": {
           "size": 16
          },
          "showarrow": false,
          "text": "GoalDifferencePG",
          "x": 0.5,
          "xanchor": "center",
          "xref": "paper",
          "y": 0.6481481481481483,
          "yanchor": "bottom",
          "yref": "paper"
         },
         {
          "font": {
           "size": 16
          },
          "showarrow": false,
          "text": "ShotsPG",
          "x": 0.5,
          "xanchor": "center",
          "xref": "paper",
          "y": 0.5308641975308642,
          "yanchor": "bottom",
          "yref": "paper"
         },
         {
          "font": {
           "size": 16
          },
          "showarrow": false,
          "text": "FoulsPG",
          "x": 0.5,
          "xanchor": "center",
          "xref": "paper",
          "y": 0.41358024691358025,
          "yanchor": "bottom",
          "yref": "paper"
         },
         {
          "font": {
           "size": 16
          },
          "showarrow": false,
          "text": "CornersPG",
          "x": 0.5,
          "xanchor": "center",
          "xref": "paper",
          "y": 0.2962962962962963,
          "yanchor": "bottom",
          "yref": "paper"
         },
         {
          "font": {
           "size": 16
          },
          "showarrow": false,
          "text": "YellowCardsPG",
          "x": 0.5,
          "xanchor": "center",
          "xref": "paper",
          "y": 0.17901234567901234,
          "yanchor": "bottom",
          "yref": "paper"
         },
         {
          "font": {
           "size": 16
          },
          "showarrow": false,
          "text": "RedCardsPG",
          "x": 0.5,
          "xanchor": "center",
          "xref": "paper",
          "y": 0.0617283950617284,
          "yanchor": "bottom",
          "yref": "paper"
         }
        ],
        "height": 900,
        "shapes": [
         {
          "line": {
           "color": "red",
           "dash": "dash"
          },
          "type": "line",
          "x0": 0,
          "x1": 1,
          "xref": "x domain",
          "y0": 1.000868490671122,
          "y1": 1.000868490671122,
          "yref": "y"
         },
         {
          "line": {
           "color": "red",
           "dash": "dash"
          },
          "type": "line",
          "x0": 0,
          "x1": 1,
          "xref": "x2 domain",
          "y0": 1.0477199944305209,
          "y1": 1.0477199944305209,
          "yref": "y2"
         },
         {
          "line": {
           "color": "red",
           "dash": "dash"
          },
          "type": "line",
          "x0": 0,
          "x1": 1,
          "xref": "x3 domain",
          "y0": 1.616342940685046,
          "y1": 1.616342940685046,
          "yref": "y3"
         },
         {
          "line": {
           "color": "red",
           "dash": "dash"
          },
          "type": "line",
          "x0": 0,
          "x1": 1,
          "xref": "x4 domain",
          "y0": -0.5686229462545253,
          "y1": -0.5686229462545253,
          "yref": "y4"
         },
         {
          "line": {
           "color": "red",
           "dash": "dash"
          },
          "type": "line",
          "x0": 0,
          "x1": 1,
          "xref": "x5 domain",
          "y0": 10.714687761069339,
          "y1": 10.714687761069339,
          "yref": "y5"
         },
         {
          "line": {
           "color": "red",
           "dash": "dash"
          },
          "type": "line",
          "x0": 0,
          "x1": 1,
          "xref": "x6 domain",
          "y0": 11.69236633249791,
          "y1": 11.69236633249791,
          "yref": "y6"
         },
         {
          "line": {
           "color": "red",
           "dash": "dash"
          },
          "type": "line",
          "x0": 0,
          "x1": 1,
          "xref": "x7 domain",
          "y0": 4.9330009050403785,
          "y1": 4.9330009050403785,
          "yref": "y7"
         },
         {
          "line": {
           "color": "red",
           "dash": "dash"
          },
          "type": "line",
          "x0": 0,
          "x1": 1,
          "xref": "x8 domain",
          "y0": 1.574159356725146,
          "y1": 1.574159356725146,
          "yref": "y8"
         },
         {
          "line": {
           "color": "red",
           "dash": "dash"
          },
          "type": "line",
          "x0": 0,
          "x1": 1,
          "xref": "x9 domain",
          "y0": 0.07659252297410188,
          "y1": 0.07659252297410188,
          "yref": "y9"
         }
        ],
        "template": {
         "data": {
          "bar": [
           {
            "error_x": {
             "color": "#2a3f5f"
            },
            "error_y": {
             "color": "#2a3f5f"
            },
            "marker": {
             "line": {
              "color": "#E5ECF6",
              "width": 0.5
             },
             "pattern": {
              "fillmode": "overlay",
              "size": 10,
              "solidity": 0.2
             }
            },
            "type": "bar"
           }
          ],
          "barpolar": [
           {
            "marker": {
             "line": {
              "color": "#E5ECF6",
              "width": 0.5
             },
             "pattern": {
              "fillmode": "overlay",
              "size": 10,
              "solidity": 0.2
             }
            },
            "type": "barpolar"
           }
          ],
          "carpet": [
           {
            "aaxis": {
             "endlinecolor": "#2a3f5f",
             "gridcolor": "white",
             "linecolor": "white",
             "minorgridcolor": "white",
             "startlinecolor": "#2a3f5f"
            },
            "baxis": {
             "endlinecolor": "#2a3f5f",
             "gridcolor": "white",
             "linecolor": "white",
             "minorgridcolor": "white",
             "startlinecolor": "#2a3f5f"
            },
            "type": "carpet"
           }
          ],
          "choropleth": [
           {
            "colorbar": {
             "outlinewidth": 0,
             "ticks": ""
            },
            "type": "choropleth"
           }
          ],
          "contour": [
           {
            "colorbar": {
             "outlinewidth": 0,
             "ticks": ""
            },
            "colorscale": [
             [
              0,
              "#0d0887"
             ],
             [
              0.1111111111111111,
              "#46039f"
             ],
             [
              0.2222222222222222,
              "#7201a8"
             ],
             [
              0.3333333333333333,
              "#9c179e"
             ],
             [
              0.4444444444444444,
              "#bd3786"
             ],
             [
              0.5555555555555556,
              "#d8576b"
             ],
             [
              0.6666666666666666,
              "#ed7953"
             ],
             [
              0.7777777777777778,
              "#fb9f3a"
             ],
             [
              0.8888888888888888,
              "#fdca26"
             ],
             [
              1,
              "#f0f921"
             ]
            ],
            "type": "contour"
           }
          ],
          "contourcarpet": [
           {
            "colorbar": {
             "outlinewidth": 0,
             "ticks": ""
            },
            "type": "contourcarpet"
           }
          ],
          "heatmap": [
           {
            "colorbar": {
             "outlinewidth": 0,
             "ticks": ""
            },
            "colorscale": [
             [
              0,
              "#0d0887"
             ],
             [
              0.1111111111111111,
              "#46039f"
             ],
             [
              0.2222222222222222,
              "#7201a8"
             ],
             [
              0.3333333333333333,
              "#9c179e"
             ],
             [
              0.4444444444444444,
              "#bd3786"
             ],
             [
              0.5555555555555556,
              "#d8576b"
             ],
             [
              0.6666666666666666,
              "#ed7953"
             ],
             [
              0.7777777777777778,
              "#fb9f3a"
             ],
             [
              0.8888888888888888,
              "#fdca26"
             ],
             [
              1,
              "#f0f921"
             ]
            ],
            "type": "heatmap"
           }
          ],
          "heatmapgl": [
           {
            "colorbar": {
             "outlinewidth": 0,
             "ticks": ""
            },
            "colorscale": [
             [
              0,
              "#0d0887"
             ],
             [
              0.1111111111111111,
              "#46039f"
             ],
             [
              0.2222222222222222,
              "#7201a8"
             ],
             [
              0.3333333333333333,
              "#9c179e"
             ],
             [
              0.4444444444444444,
              "#bd3786"
             ],
             [
              0.5555555555555556,
              "#d8576b"
             ],
             [
              0.6666666666666666,
              "#ed7953"
             ],
             [
              0.7777777777777778,
              "#fb9f3a"
             ],
             [
              0.8888888888888888,
              "#fdca26"
             ],
             [
              1,
              "#f0f921"
             ]
            ],
            "type": "heatmapgl"
           }
          ],
          "histogram": [
           {
            "marker": {
             "pattern": {
              "fillmode": "overlay",
              "size": 10,
              "solidity": 0.2
             }
            },
            "type": "histogram"
           }
          ],
          "histogram2d": [
           {
            "colorbar": {
             "outlinewidth": 0,
             "ticks": ""
            },
            "colorscale": [
             [
              0,
              "#0d0887"
             ],
             [
              0.1111111111111111,
              "#46039f"
             ],
             [
              0.2222222222222222,
              "#7201a8"
             ],
             [
              0.3333333333333333,
              "#9c179e"
             ],
             [
              0.4444444444444444,
              "#bd3786"
             ],
             [
              0.5555555555555556,
              "#d8576b"
             ],
             [
              0.6666666666666666,
              "#ed7953"
             ],
             [
              0.7777777777777778,
              "#fb9f3a"
             ],
             [
              0.8888888888888888,
              "#fdca26"
             ],
             [
              1,
              "#f0f921"
             ]
            ],
            "type": "histogram2d"
           }
          ],
          "histogram2dcontour": [
           {
            "colorbar": {
             "outlinewidth": 0,
             "ticks": ""
            },
            "colorscale": [
             [
              0,
              "#0d0887"
             ],
             [
              0.1111111111111111,
              "#46039f"
             ],
             [
              0.2222222222222222,
              "#7201a8"
             ],
             [
              0.3333333333333333,
              "#9c179e"
             ],
             [
              0.4444444444444444,
              "#bd3786"
             ],
             [
              0.5555555555555556,
              "#d8576b"
             ],
             [
              0.6666666666666666,
              "#ed7953"
             ],
             [
              0.7777777777777778,
              "#fb9f3a"
             ],
             [
              0.8888888888888888,
              "#fdca26"
             ],
             [
              1,
              "#f0f921"
             ]
            ],
            "type": "histogram2dcontour"
           }
          ],
          "mesh3d": [
           {
            "colorbar": {
             "outlinewidth": 0,
             "ticks": ""
            },
            "type": "mesh3d"
           }
          ],
          "parcoords": [
           {
            "line": {
             "colorbar": {
              "outlinewidth": 0,
              "ticks": ""
             }
            },
            "type": "parcoords"
           }
          ],
          "pie": [
           {
            "automargin": true,
            "type": "pie"
           }
          ],
          "scatter": [
           {
            "fillpattern": {
             "fillmode": "overlay",
             "size": 10,
             "solidity": 0.2
            },
            "type": "scatter"
           }
          ],
          "scatter3d": [
           {
            "line": {
             "colorbar": {
              "outlinewidth": 0,
              "ticks": ""
             }
            },
            "marker": {
             "colorbar": {
              "outlinewidth": 0,
              "ticks": ""
             }
            },
            "type": "scatter3d"
           }
          ],
          "scattercarpet": [
           {
            "marker": {
             "colorbar": {
              "outlinewidth": 0,
              "ticks": ""
             }
            },
            "type": "scattercarpet"
           }
          ],
          "scattergeo": [
           {
            "marker": {
             "colorbar": {
              "outlinewidth": 0,
              "ticks": ""
             }
            },
            "type": "scattergeo"
           }
          ],
          "scattergl": [
           {
            "marker": {
             "colorbar": {
              "outlinewidth": 0,
              "ticks": ""
             }
            },
            "type": "scattergl"
           }
          ],
          "scattermapbox": [
           {
            "marker": {
             "colorbar": {
              "outlinewidth": 0,
              "ticks": ""
             }
            },
            "type": "scattermapbox"
           }
          ],
          "scatterpolar": [
           {
            "marker": {
             "colorbar": {
              "outlinewidth": 0,
              "ticks": ""
             }
            },
            "type": "scatterpolar"
           }
          ],
          "scatterpolargl": [
           {
            "marker": {
             "colorbar": {
              "outlinewidth": 0,
              "ticks": ""
             }
            },
            "type": "scatterpolargl"
           }
          ],
          "scatterternary": [
           {
            "marker": {
             "colorbar": {
              "outlinewidth": 0,
              "ticks": ""
             }
            },
            "type": "scatterternary"
           }
          ],
          "surface": [
           {
            "colorbar": {
             "outlinewidth": 0,
             "ticks": ""
            },
            "colorscale": [
             [
              0,
              "#0d0887"
             ],
             [
              0.1111111111111111,
              "#46039f"
             ],
             [
              0.2222222222222222,
              "#7201a8"
             ],
             [
              0.3333333333333333,
              "#9c179e"
             ],
             [
              0.4444444444444444,
              "#bd3786"
             ],
             [
              0.5555555555555556,
              "#d8576b"
             ],
             [
              0.6666666666666666,
              "#ed7953"
             ],
             [
              0.7777777777777778,
              "#fb9f3a"
             ],
             [
              0.8888888888888888,
              "#fdca26"
             ],
             [
              1,
              "#f0f921"
             ]
            ],
            "type": "surface"
           }
          ],
          "table": [
           {
            "cells": {
             "fill": {
              "color": "#EBF0F8"
             },
             "line": {
              "color": "white"
             }
            },
            "header": {
             "fill": {
              "color": "#C8D4E3"
             },
             "line": {
              "color": "white"
             }
            },
            "type": "table"
           }
          ]
         },
         "layout": {
          "annotationdefaults": {
           "arrowcolor": "#2a3f5f",
           "arrowhead": 0,
           "arrowwidth": 1
          },
          "autotypenumbers": "strict",
          "coloraxis": {
           "colorbar": {
            "outlinewidth": 0,
            "ticks": ""
           }
          },
          "colorscale": {
           "diverging": [
            [
             0,
             "#8e0152"
            ],
            [
             0.1,
             "#c51b7d"
            ],
            [
             0.2,
             "#de77ae"
            ],
            [
             0.3,
             "#f1b6da"
            ],
            [
             0.4,
             "#fde0ef"
            ],
            [
             0.5,
             "#f7f7f7"
            ],
            [
             0.6,
             "#e6f5d0"
            ],
            [
             0.7,
             "#b8e186"
            ],
            [
             0.8,
             "#7fbc41"
            ],
            [
             0.9,
             "#4d9221"
            ],
            [
             1,
             "#276419"
            ]
           ],
           "sequential": [
            [
             0,
             "#0d0887"
            ],
            [
             0.1111111111111111,
             "#46039f"
            ],
            [
             0.2222222222222222,
             "#7201a8"
            ],
            [
             0.3333333333333333,
             "#9c179e"
            ],
            [
             0.4444444444444444,
             "#bd3786"
            ],
            [
             0.5555555555555556,
             "#d8576b"
            ],
            [
             0.6666666666666666,
             "#ed7953"
            ],
            [
             0.7777777777777778,
             "#fb9f3a"
            ],
            [
             0.8888888888888888,
             "#fdca26"
            ],
            [
             1,
             "#f0f921"
            ]
           ],
           "sequentialminus": [
            [
             0,
             "#0d0887"
            ],
            [
             0.1111111111111111,
             "#46039f"
            ],
            [
             0.2222222222222222,
             "#7201a8"
            ],
            [
             0.3333333333333333,
             "#9c179e"
            ],
            [
             0.4444444444444444,
             "#bd3786"
            ],
            [
             0.5555555555555556,
             "#d8576b"
            ],
            [
             0.6666666666666666,
             "#ed7953"
            ],
            [
             0.7777777777777778,
             "#fb9f3a"
            ],
            [
             0.8888888888888888,
             "#fdca26"
            ],
            [
             1,
             "#f0f921"
            ]
           ]
          },
          "colorway": [
           "#636efa",
           "#EF553B",
           "#00cc96",
           "#ab63fa",
           "#FFA15A",
           "#19d3f3",
           "#FF6692",
           "#B6E880",
           "#FF97FF",
           "#FECB52"
          ],
          "font": {
           "color": "#2a3f5f"
          },
          "geo": {
           "bgcolor": "white",
           "lakecolor": "white",
           "landcolor": "#E5ECF6",
           "showlakes": true,
           "showland": true,
           "subunitcolor": "white"
          },
          "hoverlabel": {
           "align": "left"
          },
          "hovermode": "closest",
          "mapbox": {
           "style": "light"
          },
          "paper_bgcolor": "white",
          "plot_bgcolor": "#E5ECF6",
          "polar": {
           "angularaxis": {
            "gridcolor": "white",
            "linecolor": "white",
            "ticks": ""
           },
           "bgcolor": "#E5ECF6",
           "radialaxis": {
            "gridcolor": "white",
            "linecolor": "white",
            "ticks": ""
           }
          },
          "scene": {
           "xaxis": {
            "backgroundcolor": "#E5ECF6",
            "gridcolor": "white",
            "gridwidth": 2,
            "linecolor": "white",
            "showbackground": true,
            "ticks": "",
            "zerolinecolor": "white"
           },
           "yaxis": {
            "backgroundcolor": "#E5ECF6",
            "gridcolor": "white",
            "gridwidth": 2,
            "linecolor": "white",
            "showbackground": true,
            "ticks": "",
            "zerolinecolor": "white"
           },
           "zaxis": {
            "backgroundcolor": "#E5ECF6",
            "gridcolor": "white",
            "gridwidth": 2,
            "linecolor": "white",
            "showbackground": true,
            "ticks": "",
            "zerolinecolor": "white"
           }
          },
          "shapedefaults": {
           "line": {
            "color": "#2a3f5f"
           }
          },
          "ternary": {
           "aaxis": {
            "gridcolor": "white",
            "linecolor": "white",
            "ticks": ""
           },
           "baxis": {
            "gridcolor": "white",
            "linecolor": "white",
            "ticks": ""
           },
           "bgcolor": "#E5ECF6",
           "caxis": {
            "gridcolor": "white",
            "linecolor": "white",
            "ticks": ""
           }
          },
          "title": {
           "x": 0.05
          },
          "xaxis": {
           "automargin": true,
           "gridcolor": "white",
           "linecolor": "white",
           "ticks": "",
           "title": {
            "standoff": 15
           },
           "zerolinecolor": "white",
           "zerolinewidth": 2
          },
          "yaxis": {
           "automargin": true,
           "gridcolor": "white",
           "linecolor": "white",
           "ticks": "",
           "title": {
            "standoff": 15
           },
           "zerolinecolor": "white",
           "zerolinewidth": 2
          }
         }
        },
        "title": {
         "text": "Promoted Teams Stats Over Time"
        },
        "width": 800,
        "xaxis": {
         "anchor": "y",
         "domain": [
          0,
          1
         ],
         "matches": "x9",
         "showticklabels": false,
         "title": {
          "text": "Season"
         },
         "type": "category"
        },
        "xaxis2": {
         "anchor": "y2",
         "domain": [
          0,
          1
         ],
         "matches": "x9",
         "showticklabels": false,
         "title": {
          "text": "Season"
         },
         "type": "category"
        },
        "xaxis3": {
         "anchor": "y3",
         "domain": [
          0,
          1
         ],
         "matches": "x9",
         "showticklabels": false,
         "title": {
          "text": "Season"
         },
         "type": "category"
        },
        "xaxis4": {
         "anchor": "y4",
         "domain": [
          0,
          1
         ],
         "matches": "x9",
         "showticklabels": false,
         "title": {
          "text": "Season"
         },
         "type": "category"
        },
        "xaxis5": {
         "anchor": "y5",
         "domain": [
          0,
          1
         ],
         "matches": "x9",
         "showticklabels": false,
         "title": {
          "text": "Season"
         },
         "type": "category"
        },
        "xaxis6": {
         "anchor": "y6",
         "domain": [
          0,
          1
         ],
         "matches": "x9",
         "showticklabels": false,
         "title": {
          "text": "Season"
         },
         "type": "category"
        },
        "xaxis7": {
         "anchor": "y7",
         "domain": [
          0,
          1
         ],
         "matches": "x9",
         "showticklabels": false,
         "title": {
          "text": "Season"
         },
         "type": "category"
        },
        "xaxis8": {
         "anchor": "y8",
         "domain": [
          0,
          1
         ],
         "matches": "x9",
         "showticklabels": false,
         "title": {
          "text": "Season"
         },
         "type": "category"
        },
        "xaxis9": {
         "anchor": "y9",
         "domain": [
          0,
          1
         ],
         "title": {
          "text": "Season"
         },
         "type": "category"
        },
        "yaxis": {
         "anchor": "x",
         "domain": [
          0.9382716049382716,
          1
         ]
        },
        "yaxis2": {
         "anchor": "x2",
         "domain": [
          0.8209876543209876,
          0.8827160493827161
         ]
        },
        "yaxis3": {
         "anchor": "x3",
         "domain": [
          0.7037037037037037,
          0.7654320987654322
         ]
        },
        "yaxis4": {
         "anchor": "x4",
         "domain": [
          0.5864197530864198,
          0.6481481481481483
         ]
        },
        "yaxis5": {
         "anchor": "x5",
         "domain": [
          0.4691358024691358,
          0.5308641975308642
         ]
        },
        "yaxis6": {
         "anchor": "x6",
         "domain": [
          0.35185185185185186,
          0.41358024691358025
         ]
        },
        "yaxis7": {
         "anchor": "x7",
         "domain": [
          0.2345679012345679,
          0.2962962962962963
         ]
        },
        "yaxis8": {
         "anchor": "x8",
         "domain": [
          0.11728395061728394,
          0.17901234567901234
         ]
        },
        "yaxis9": {
         "anchor": "x9",
         "domain": [
          0,
          0.0617283950617284
         ]
        }
       }
      }
     },
     "metadata": {},
     "output_type": "display_data"
    }
   ],
   "source": [
    "fig = make_subplots(9,1, shared_xaxes=True, subplot_titles=(\"PointsPG\", \"GoalsScoredPG\", \"GoalsConcededPG\", \"GoalDifferencePG\", \"ShotsPG\", \"FoulsPG\", \"CornersPG\", \"YellowCardsPG\", \"RedCardsPG\"))\n",
    "fig.add_trace(go.Scatter(x = promoted_teams_2.groupby(\"Season\")[\"TeamPointsPGAtHome\"].mean().index.astype(str), y = promoted_teams_2.groupby(\"Season\")[\"TeamPointsPGAtHome\"].mean().values, name = \"PointsPGAtHome\"), row = 1, col = 1)\n",
    "fig.add_trace(go.Scatter(x = promoted_teams_2.groupby(\"Season\")[\"TeamPointsPGOnAway\"].mean().index.astype(str), y = promoted_teams_2.groupby(\"Season\")[\"TeamPointsPGOnAway\"].mean().values, name = \"PointsPGOnAway\"), row = 1, col = 1)\n",
    "fig.add_trace(go.Scatter(x = promoted_teams_2.groupby(\"Season\")[\"TeamPointsPGOverall\"].mean().index.astype(str), y = promoted_teams_2.groupby(\"Season\")[\"TeamPointsPGOverall\"].mean().values, name = \"PointsPGOverall\"), row = 1, col = 1)\n",
    "fig.add_hline(y = promoted_teams_2.groupby(\"Season\")[\"TeamPointsPGOverall\"].mean().values.mean(), line_dash=\"dash\", line_color=\"red\", row = 1, col = 1)\n",
    "\n",
    "fig.add_trace(go.Scatter(x = promoted_teams_2.groupby(\"Season\")[\"TeamGoalsScoredPGAtHome\"].mean().index.astype(str), y = promoted_teams_2.groupby(\"Season\")[\"TeamGoalsScoredPGAtHome\"].mean().values, name = \"GoalsScoredPGAtHome\"), row = 2, col = 1)\n",
    "fig.add_trace(go.Scatter(x = promoted_teams_2.groupby(\"Season\")[\"TeamGoalsScoredPGOnAway\"].mean().index.astype(str), y = promoted_teams_2.groupby(\"Season\")[\"TeamGoalsScoredPGOnAway\"].mean().values, name = \"GoalsScoredPGOnAway\"), row = 2, col = 1)\n",
    "fig.add_trace(go.Scatter(x = promoted_teams_2.groupby(\"Season\")[\"TeamGoalsScoredPGOverall\"].mean().index.astype(str), y = promoted_teams_2.groupby(\"Season\")[\"TeamGoalsScoredPGOverall\"].mean().values, name = \"GoalsScoredPGOverall\"), row = 2, col = 1)\n",
    "fig.add_hline(y=promoted_teams_2.groupby(\"Season\")[\"TeamGoalsScoredPGOverall\"].mean().values.mean(), line_dash=\"dash\", line_color=\"red\", row = 2, col = 1)\n",
    "\n",
    "fig.add_trace(go.Scatter(x = promoted_teams_2.groupby(\"Season\")[\"TeamGoalsConcededPGAtHome\"].mean().index.astype(str), y = promoted_teams_2.groupby(\"Season\")[\"TeamGoalsConcededPGAtHome\"].mean().values, name = \"GoalsConcededPGAtHome\"), row = 3, col = 1)\n",
    "fig.add_trace(go.Scatter(x = promoted_teams_2.groupby(\"Season\")[\"TeamGoalsConcededPGOnAway\"].mean().index.astype(str), y = promoted_teams_2.groupby(\"Season\")[\"TeamGoalsConcededPGOnAway\"].mean().values, name = \"GoalsConcededPGOnAway\"), row = 3, col = 1)\n",
    "fig.add_trace(go.Scatter(x = promoted_teams_2.groupby(\"Season\")[\"TeamGoalsConcededPGOverall\"].mean().index.astype(str), y = promoted_teams_2.groupby(\"Season\")[\"TeamGoalsConcededPGOverall\"].mean().values, name = \"GoalsConcededPGOverall\"), row = 3, col = 1)\n",
    "fig.add_hline(y=promoted_teams_2.groupby(\"Season\")[\"TeamGoalsConcededPGOverall\"].mean().values.mean(), line_dash=\"dash\", line_color=\"red\", row = 3, col = 1)\n",
    "\n",
    "fig.add_trace(go.Scatter(x = promoted_teams_2.groupby(\"Season\")[\"TeamGoalDifferencePGAtHome\"].mean().index.astype(str), y = promoted_teams_2.groupby(\"Season\")[\"TeamGoalDifferencePGAtHome\"].mean().values, name = \"GoalDifferencePGAtHome\"), row = 4, col = 1)\n",
    "fig.add_trace(go.Scatter(x = promoted_teams_2.groupby(\"Season\")[\"TeamGoalDifferencePGOnAway\"].mean().index.astype(str), y = promoted_teams_2.groupby(\"Season\")[\"TeamGoalDifferencePGOnAway\"].mean().values, name = \"GoalDifferencePGOnAway\"), row = 4, col = 1)\n",
    "fig.add_trace(go.Scatter(x = promoted_teams_2.groupby(\"Season\")[\"TeamGoalDifferencePGOverall\"].mean().index.astype(str), y = promoted_teams_2.groupby(\"Season\")[\"TeamGoalDifferencePGOverall\"].mean().values, name = \"GoalDifferencePGOverall\"), row = 4, col = 1)\n",
    "fig.add_hline(y=promoted_teams_2.groupby(\"Season\")[\"TeamGoalDifferencePGOverall\"].mean().values.mean(), line_dash=\"dash\", line_color=\"red\", row = 4, col = 1)\n",
    "\n",
    "fig.add_trace(go.Scatter(x = promoted_teams_2.groupby(\"Season\")[\"TeamShotsPGAtHome\"].mean().index.astype(str), y = promoted_teams_2.groupby(\"Season\")[\"TeamShotsPGAtHome\"].mean().values, name = \"ShotsPGAtHome\"), row = 5, col = 1)\n",
    "fig.add_trace(go.Scatter(x = promoted_teams_2.groupby(\"Season\")[\"TeamShotsPGOnAway\"].mean().index.astype(str), y = promoted_teams_2.groupby(\"Season\")[\"TeamShotsPGOnAway\"].mean().values, name = \"ShotsPGOnAway\"), row = 5, col = 1)\n",
    "fig.add_trace(go.Scatter(x = promoted_teams_2.groupby(\"Season\")[\"TeamShotsPGOverall\"].mean().index.astype(str), y = promoted_teams_2.groupby(\"Season\")[\"TeamShotsPGOverall\"].mean().values, name = \"ShotsPGOverall\"), row = 5, col = 1)\n",
    "fig.add_hline(y=promoted_teams_2.groupby(\"Season\")[\"TeamShotsPGOverall\"].mean().values.mean(), line_dash=\"dash\", line_color=\"red\", row = 5, col = 1)\n",
    "\n",
    "fig.add_trace(go.Scatter(x = promoted_teams_2.groupby(\"Season\")[\"TeamFoulsPGAtHome\"].mean().index.astype(str), y = promoted_teams_2.groupby(\"Season\")[\"TeamFoulsPGAtHome\"].mean().values, name = \"FoulsPGAtHome\"), row = 6, col = 1)\n",
    "fig.add_trace(go.Scatter(x = promoted_teams_2.groupby(\"Season\")[\"TeamFoulsPGOnAway\"].mean().index.astype(str), y = promoted_teams_2.groupby(\"Season\")[\"TeamFoulsPGOnAway\"].mean().values, name = \"FoulsPGOnAway\"), row = 6, col = 1)\n",
    "fig.add_trace(go.Scatter(x = promoted_teams_2.groupby(\"Season\")[\"TeamFoulsPGOverall\"].mean().index.astype(str), y = promoted_teams_2.groupby(\"Season\")[\"TeamFoulsPGOverall\"].mean().values, name = \"FoulsPGOverall\"), row = 6, col = 1)\n",
    "fig.add_hline(y=promoted_teams_2.groupby(\"Season\")[\"TeamFoulsPGOverall\"].mean().values.mean(), line_dash=\"dash\", line_color=\"red\", row = 6, col = 1)\n",
    "\n",
    "fig.add_trace(go.Scatter(x = promoted_teams_2.groupby(\"Season\")[\"TeamCornersPGAtHome\"].mean().index.astype(str), y = promoted_teams_2.groupby(\"Season\")[\"TeamCornersPGAtHome\"].mean().values, name = \"CornersPGAtHome\"), row = 7, col = 1)\n",
    "fig.add_trace(go.Scatter(x = promoted_teams_2.groupby(\"Season\")[\"TeamCornersPGOnAway\"].mean().index.astype(str), y = promoted_teams_2.groupby(\"Season\")[\"TeamCornersPGOnAway\"].mean().values, name = \"CornersPGOnAway\"), row = 7, col = 1)\n",
    "fig.add_trace(go.Scatter(x = promoted_teams_2.groupby(\"Season\")[\"TeamCornersPGOverall\"].mean().index.astype(str), y = promoted_teams_2.groupby(\"Season\")[\"TeamCornersPGOverall\"].mean().values, name = \"CornersPGOverall\"), row = 7, col = 1)\n",
    "fig.add_hline(y=promoted_teams_2.groupby(\"Season\")[\"TeamCornersPGOverall\"].mean().values.mean(), line_dash=\"dash\", line_color=\"red\", row = 7, col = 1)\n",
    "\n",
    "fig.add_trace(go.Scatter(x = promoted_teams_2.groupby(\"Season\")[\"TeamYellowCardsPGAtHome\"].mean().index.astype(str), y = promoted_teams_2.groupby(\"Season\")[\"TeamYellowCardsPGAtHome\"].mean().values, name = \"YellowCardsPGAtHome\"), row = 8, col = 1)\n",
    "fig.add_trace(go.Scatter(x = promoted_teams_2.groupby(\"Season\")[\"TeamYellowCardsPGOnAway\"].mean().index.astype(str), y = promoted_teams_2.groupby(\"Season\")[\"TeamYellowCardsPGOnAway\"].mean().values, name = \"YellowCardsPGOnAway\"), row = 8, col = 1)\n",
    "fig.add_trace(go.Scatter(x = promoted_teams_2.groupby(\"Season\")[\"TeamYellowCardsPGOverall\"].mean().index.astype(str), y = promoted_teams_2.groupby(\"Season\")[\"TeamYellowCardsPGOverall\"].mean().values, name = \"YellowCardsPGOverall\"), row = 8, col = 1)\n",
    "fig.add_hline(y=promoted_teams_2.groupby(\"Season\")[\"TeamYellowCardsPGOverall\"].mean().values.mean(), line_dash=\"dash\", line_color=\"red\", row = 8, col = 1)\n",
    "\n",
    "fig.add_trace(go.Scatter(x = promoted_teams_2.groupby(\"Season\")[\"TeamRedCardsPGAtHome\"].mean().index.astype(str), y = promoted_teams_2.groupby(\"Season\")[\"TeamRedCardsPGAtHome\"].mean().values, name = \"RedCardsPGAtHome\"), row = 9, col = 1)\n",
    "fig.add_trace(go.Scatter(x = promoted_teams_2.groupby(\"Season\")[\"TeamRedCardsPGOnAway\"].mean().index.astype(str), y = promoted_teams_2.groupby(\"Season\")[\"TeamRedCardsPGOnAway\"].mean().values, name = \"RedCardsPGOnAway\"), row = 9, col = 1)\n",
    "fig.add_trace(go.Scatter(x = promoted_teams_2.groupby(\"Season\")[\"TeamRedCardsPGOverall\"].mean().index.astype(str), y = promoted_teams_2.groupby(\"Season\")[\"TeamRedCardsPGOverall\"].mean().values, name = \"RedCardsPGOverall\"), row = 9, col = 1)\n",
    "fig.add_hline(y=promoted_teams_2.groupby(\"Season\")[\"TeamRedCardsPGOverall\"].mean().values.mean(), line_dash=\"dash\", line_color=\"red\", row = 9, col = 1)\n",
    "\n",
    "fig.update_layout(height = 900, width = 800, title_text = \"Promoted Teams Stats Over Time\")\n",
    "fig.update_xaxes(title_text = \"Season\", type='category')\n",
    "fig.show()"
   ]
  },
  {
   "cell_type": "markdown",
   "metadata": {},
   "source": [
    "Over time I feel like the majority of the metrics (maybe barring fouls) have not had any significant trend. I will probably just leave it as it rather than trying to do it per time period."
   ]
  },
  {
   "cell_type": "code",
   "execution_count": 14,
   "metadata": {},
   "outputs": [],
   "source": [
    "promoted_teams_stats = {\n",
    "    \"PointsPGAtHome\" : {\n",
    "        \"Mean\" : promoted_teams_2.groupby(\"Season\")[\"TeamPointsPGAtHome\"].mean().values.mean(),\n",
    "        \"SD\"   : promoted_teams_2.groupby(\"Season\")[\"TeamPointsPGAtHome\"].std().values.mean()\n",
    "    },\n",
    "    \"PointsPGOnAway\" : {\n",
    "        \"Mean\" : promoted_teams_2.groupby(\"Season\")[\"TeamPointsPGOnAway\"].mean().values.mean(),\n",
    "        \"SD\"   : promoted_teams_2.groupby(\"Season\")[\"TeamPointsPGOnAway\"].std().values.mean()\n",
    "    },\n",
    "    \"PointsPGOverall\" : {\n",
    "        \"Mean\" : promoted_teams_2.groupby(\"Season\")[\"TeamPointsPGOverall\"].mean().values.mean(),\n",
    "        \"SD\"   : promoted_teams_2.groupby(\"Season\")[\"TeamPointsPGOverall\"].std().values.mean()\n",
    "    },\n",
    "    \"GoalsScoredPGAtHome\" : {\n",
    "        \"Mean\" : promoted_teams_2.groupby(\"Season\")[\"TeamGoalsScoredPGAtHome\"].mean().values.mean(),\n",
    "        \"SD\"   : promoted_teams_2.groupby(\"Season\")[\"TeamGoalsScoredPGAtHome\"].std().values.mean()\n",
    "    },\n",
    "    \"GoalsScoredPGOnAway\" : {\n",
    "        \"Mean\" : promoted_teams_2.groupby(\"Season\")[\"TeamGoalsScoredPGOnAway\"].mean().values.mean(),\n",
    "        \"SD\"   : promoted_teams_2.groupby(\"Season\")[\"TeamGoalsScoredPGOnAway\"].std().values.mean()\n",
    "    },\n",
    "    \"GoalsScoredPGOverall\" : {\n",
    "        \"Mean\" : promoted_teams_2.groupby(\"Season\")[\"TeamGoalsScoredPGOverall\"].mean().values.mean(),\n",
    "        \"SD\"   : promoted_teams_2.groupby(\"Season\")[\"TeamGoalsScoredPGOverall\"].std().values.mean()\n",
    "    },\n",
    "    \"GoalsConcededPGAtHome\" : {\n",
    "        \"Mean\" : promoted_teams_2.groupby(\"Season\")[\"TeamGoalsConcededPGAtHome\"].mean().values.mean(),\n",
    "        \"SD\"   : promoted_teams_2.groupby(\"Season\")[\"TeamGoalsConcededPGAtHome\"].std().values.mean()\n",
    "    },\n",
    "    \"GoalsConcededPGOnAway\" : {\n",
    "        \"Mean\" : promoted_teams_2.groupby(\"Season\")[\"TeamGoalsConcededPGOnAway\"].mean().values.mean(),\n",
    "        \"SD\"   : promoted_teams_2.groupby(\"Season\")[\"TeamGoalsConcededPGOnAway\"].std().values.mean()\n",
    "    },\n",
    "    \"GoalsConcededPGOverall\" : {\n",
    "        \"Mean\" : promoted_teams_2.groupby(\"Season\")[\"TeamGoalsConcededPGOverall\"].mean().values.mean(),\n",
    "        \"SD\"   : promoted_teams_2.groupby(\"Season\")[\"TeamGoalsConcededPGOverall\"].std().values.mean()\n",
    "    },\n",
    "    \"GoalDifferencePGAtHome\" : {\n",
    "        \"Mean\" : promoted_teams_2.groupby(\"Season\")[\"TeamGoalDifferencePGAtHome\"].mean().values.mean(),\n",
    "        \"SD\"   : promoted_teams_2.groupby(\"Season\")[\"TeamGoalDifferencePGAtHome\"].std().values.mean()\n",
    "    },\n",
    "    \"GoalDifferencePGOnAway\" : {\n",
    "        \"Mean\" : promoted_teams_2.groupby(\"Season\")[\"TeamGoalDifferencePGOnAway\"].mean().values.mean(),\n",
    "        \"SD\"   : promoted_teams_2.groupby(\"Season\")[\"TeamGoalDifferencePGOnAway\"].std().values.mean()\n",
    "    },\n",
    "    \"GoalDifferencePGOverall\" : {\n",
    "        \"Mean\" : promoted_teams_2.groupby(\"Season\")[\"TeamGoalDifferencePGOverall\"].mean().values.mean(),\n",
    "        \"SD\"   : promoted_teams_2.groupby(\"Season\")[\"TeamGoalDifferencePGOverall\"].std().values.mean()\n",
    "    },\n",
    "    \"ShotsPGAtHome\" : {\n",
    "        \"Mean\" : promoted_teams_2.groupby(\"Season\")[\"TeamShotsPGAtHome\"].mean().values.mean(),\n",
    "        \"SD\"   : promoted_teams_2.groupby(\"Season\")[\"TeamShotsPGAtHome\"].std().values.mean()\n",
    "    },\n",
    "    \"ShotsPGOnAway\" : {\n",
    "        \"Mean\" : promoted_teams_2.groupby(\"Season\")[\"TeamShotsPGOnAway\"].mean().values.mean(),\n",
    "        \"SD\"   : promoted_teams_2.groupby(\"Season\")[\"TeamShotsPGOnAway\"].std().values.mean()\n",
    "    },\n",
    "    \"ShotsPGOverall\" : {\n",
    "        \"Mean\" : promoted_teams_2.groupby(\"Season\")[\"TeamShotsPGOverall\"].mean().values.mean(),\n",
    "        \"SD\"   : promoted_teams_2.groupby(\"Season\")[\"TeamShotsPGOverall\"].std().values.mean()\n",
    "    },\n",
    "    \"FoulsPGAtHome\" : {\n",
    "        \"Mean\" : promoted_teams_2.groupby(\"Season\")[\"TeamFoulsPGAtHome\"].mean().values.mean(),\n",
    "        \"SD\"   : promoted_teams_2.groupby(\"Season\")[\"TeamFoulsPGAtHome\"].std().values.mean()\n",
    "    },\n",
    "    \"FoulsPGOnAway\" : {\n",
    "        \"Mean\" : promoted_teams_2.groupby(\"Season\")[\"TeamFoulsPGOnAway\"].mean().values.mean(),\n",
    "        \"SD\"   : promoted_teams_2.groupby(\"Season\")[\"TeamFoulsPGOnAway\"].std().values.mean()\n",
    "    },\n",
    "    \"FoulsPGOverall\" : {\n",
    "        \"Mean\" : promoted_teams_2.groupby(\"Season\")[\"TeamFoulsPGOverall\"].mean().values.mean(),\n",
    "        \"SD\"   : promoted_teams_2.groupby(\"Season\")[\"TeamFoulsPGOverall\"].std().values.mean()\n",
    "    },\n",
    "    \"CornersPGAtHome\" : {\n",
    "        \"Mean\" : promoted_teams_2.groupby(\"Season\")[\"TeamCornersPGAtHome\"].mean().values.mean(),\n",
    "        \"SD\"   : promoted_teams_2.groupby(\"Season\")[\"TeamCornersPGAtHome\"].std().values.mean()\n",
    "    },\n",
    "    \"CornersPGOnAway\" : {\n",
    "        \"Mean\" : promoted_teams_2.groupby(\"Season\")[\"TeamCornersPGOnAway\"].mean().values.mean(),\n",
    "        \"SD\"   : promoted_teams_2.groupby(\"Season\")[\"TeamCornersPGOnAway\"].std().values.mean()\n",
    "    },\n",
    "    \"CornersPGOverall\" : {\n",
    "        \"Mean\" : promoted_teams_2.groupby(\"Season\")[\"TeamCornersPGOverall\"].mean().values.mean(),\n",
    "        \"SD\"   : promoted_teams_2.groupby(\"Season\")[\"TeamCornersPGOverall\"].std().values.mean()\n",
    "    },\n",
    "    \"YellowCardsPGAtHome\" : {\n",
    "        \"Mean\" : promoted_teams_2.groupby(\"Season\")[\"TeamYellowCardsPGAtHome\"].mean().values.mean(),\n",
    "        \"SD\"   : promoted_teams_2.groupby(\"Season\")[\"TeamYellowCardsPGAtHome\"].std().values.mean()\n",
    "    },\n",
    "    \"YellowCardsPGOnAway\" : {\n",
    "        \"Mean\" : promoted_teams_2.groupby(\"Season\")[\"TeamYellowCardsPGOnAway\"].mean().values.mean(),\n",
    "        \"SD\"   : promoted_teams_2.groupby(\"Season\")[\"TeamYellowCardsPGOnAway\"].std().values.mean()\n",
    "    },\n",
    "    \"YellowCardsPGOverall\" : {\n",
    "        \"Mean\" : promoted_teams_2.groupby(\"Season\")[\"TeamYellowCardsPGOverall\"].mean().values.mean(),\n",
    "        \"SD\"   : promoted_teams_2.groupby(\"Season\")[\"TeamYellowCardsPGOverall\"].std().values.mean()\n",
    "    },\n",
    "    \"RedCardsPGAtHome\" : {\n",
    "        \"Mean\" : promoted_teams_2.groupby(\"Season\")[\"TeamRedCardsPGAtHome\"].mean().values.mean(),\n",
    "        \"SD\"   : promoted_teams_2.groupby(\"Season\")[\"TeamRedCardsPGAtHome\"].std().values.mean()\n",
    "    },\n",
    "    \"RedCardsPGOnAway\" : {\n",
    "        \"Mean\" : promoted_teams_2.groupby(\"Season\")[\"TeamRedCardsPGOnAway\"].mean().values.mean(),\n",
    "        \"SD\"   : promoted_teams_2.groupby(\"Season\")[\"TeamRedCardsPGOnAway\"].std().values.mean()\n",
    "    },\n",
    "    \"RedCardsPGOverall\" : {\n",
    "        \"Mean\" : promoted_teams_2.groupby(\"Season\")[\"TeamRedCardsPGOverall\"].mean().values.mean(),\n",
    "        \"SD\"   : promoted_teams_2.groupby(\"Season\")[\"TeamRedCardsPGOverall\"].std().values.mean()\n",
    "    }\n",
    "}"
   ]
  },
  {
   "cell_type": "markdown",
   "metadata": {},
   "source": [
    "# Moving Stats to last-season's data\n",
    "\n",
    "Currently stats are for a given season. We need \"historical data\" (or data for last season). We therefore need to move all the per season stats up by one season."
   ]
  },
  {
   "cell_type": "code",
   "execution_count": 15,
   "metadata": {},
   "outputs": [],
   "source": [
    "home_team_stats = test3.groupby(['Season', 'HomeTeam']).agg({\n",
    "    'HomeTeamPointsPGAtHome': 'first',\n",
    "    'HomeTeamPointsPGOverall': 'first',\n",
    "    'HomeTeamGoalsScoredPGAtHome': 'first',\n",
    "    'HomeTeamGoalsScoredPGOverall': 'first',\n",
    "    'HomeTeamGoalsConcededPGAtHome': 'first',\n",
    "    'HomeTeamGoalsConcededPGOverall': 'first',\n",
    "    'HomeTeamGoalDifferencePGAtHome': 'first',\n",
    "    'HomeTeamGoalDifferencePGOverall': 'first',\n",
    "    'HomeTeamShotsPGAtHome': 'first',\n",
    "    'HomeTeamShotsPGOverall': 'first',\n",
    "    'HomeTeamFoulsPGAtHome': 'first',\n",
    "    'HomeTeamFoulsPGOverall': 'first',\n",
    "    'HomeTeamCornersPGAtHome': 'first',\n",
    "    'HomeTeamCornersPGOverall': 'first',\n",
    "    'HomeTeamYellowCardsPGAtHome': 'first',\n",
    "    'HomeTeamYellowCardsPGOverall': 'first',\n",
    "    'HomeTeamRedCardsPGAtHome': 'first',\n",
    "    'HomeTeamRedCardsPGOverall': 'first',\n",
    "    'HomeTeam_finish': 'first'\n",
    "})\n",
    "\n",
    "away_team_stats = test3.groupby(['Season', 'AwayTeam']).agg({\n",
    "    'AwayTeamPointsPGOnAway': 'first',\n",
    "    'AwayTeamPointsPGOverall': 'first',\n",
    "    'AwayTeamGoalsScoredPGOnAway': 'first',\n",
    "    'AwayTeamGoalsScoredPGOverall': 'first',\n",
    "    'AwayTeamGoalsConcededPGOnAway': 'first',\n",
    "    'AwayTeamGoalsConcededPGOverall': 'first',\n",
    "    'AwayTeamGoalDifferencePGOnAway': 'first',\n",
    "    'AwayTeamGoalDifferencePGOverall': 'first',\n",
    "    'AwayTeamShotsPGOnAway': 'first',\n",
    "    'AwayTeamShotsPGOverall': 'first',\n",
    "    'AwayTeamFoulsPGOnAway': 'first',\n",
    "    'AwayTeamFoulsPGOverall': 'first',\n",
    "    'AwayTeamCornersPGOnAway': 'first',\n",
    "    'AwayTeamCornersPGOverall': 'first',\n",
    "    'AwayTeamYellowCardsPGOnAway': 'first',\n",
    "    'AwayTeamYellowCardsPGOverall': 'first',\n",
    "    'AwayTeamRedCardsPGOnAway': 'first',\n",
    "    'AwayTeamRedCardsPGOverall': 'first',\n",
    "    'AwayTeam_finish': 'first'\n",
    "})"
   ]
  },
  {
   "cell_type": "code",
   "execution_count": 16,
   "metadata": {},
   "outputs": [],
   "source": [
    "final_team_dataframe = test3[[\n",
    "    'Season', \n",
    "    'HomeTeam', \n",
    "    'AwayTeam', \n",
    "    'FTR', \n",
    "    'HomeTeamPointsPGAtHomeAgainstOpponent',\n",
    "    'AwayTeamPointsPGOnAwayAgainstOpponent',\n",
    "    'HomeTeamPointsPGOverallAgainstOpponent',\n",
    "    'AwayTeamPointsPGOverallAgainstOpponent',\n",
    "    'HomeTeamGoalsScoredPGAtHomeAgainstOpponent',\n",
    "    'AwayTeamGoalsScoredPGOnAwayAgainstOpponent',\n",
    "    'HomeTeamGoalsScoredPGOverallAgainstOpponent',\n",
    "    'AwayTeamGoalsScoredPGOverallAgainstOpponent',\n",
    "    'HomeTeamShotsPGAtHomeAgainstOpponent',\n",
    "    'AwayTeamShotsPGOnAwayAgainstOpponent',\n",
    "    'HomeTeamShotsPGOverallAgainstOpponent',\n",
    "    'AwayTeamShotsPGOverallAgainstOpponent',\n",
    "    'HomeTeamFoulsPGAtHomeAgainstOpponent',\n",
    "    'AwayTeamFoulsPGOnAwayAgainstOpponent',\n",
    "    'HomeTeamFoulsPGOverallAgainstOpponent',\n",
    "    'AwayTeamFoulsPGOverallAgainstOpponent',\n",
    "    'HomeTeamCornersPGAtHomeAgainstOpponent',\n",
    "    'AwayTeamCornersPGOnAwayAgainstOpponent',\n",
    "    'HomeTeamCornersPGOverallAgainstOpponent',\n",
    "    'AwayTeamCornersPGOverallAgainstOpponent',\n",
    "    'HomeTeamYellowCardsPGAtHomeAgainstOpponent',\n",
    "    'AwayTeamYellowCardsPGOnAwayAgainstOpponent',\n",
    "    'HomeTeamYellowCardsPGOverallAgainstOpponent',\n",
    "    'AwayTeamYellowCardsPGOverallAgainstOpponent',\n",
    "    'HomeTeamRedCardsPGAtHomeAgainstOpponent',\n",
    "    'AwayTeamRedCardsPGOnAwayAgainstOpponent',\n",
    "    'HomeTeamRedCardsPGOverallAgainstOpponent',\n",
    "    'AwayTeamRedCardsPGOverallAgainstOpponent',\n",
    "]]\n",
    "\n",
    "home_team_previous_season_stats = home_team_stats.groupby(level=1).shift(1)\n",
    "away_team_previous_season_stats = away_team_stats.groupby(level=1).shift(1)\n",
    "\n",
    "final_team_dataframe = final_team_dataframe.merge(home_team_previous_season_stats, left_on=[\"Season\", \"HomeTeam\"], right_on=[\"Season\", \"HomeTeam\"], how=\"left\")\n",
    "final_team_dataframe = final_team_dataframe.merge(away_team_previous_season_stats, left_on=[\"Season\", \"AwayTeam\"], right_on=[\"Season\", \"AwayTeam\"], how=\"left\")\n",
    "final_team_dataframe = final_team_dataframe[final_team_dataframe[\"Season\"] != \"2000-01\"] # Wont have previous season stats"
   ]
  },
  {
   "cell_type": "markdown",
   "metadata": {},
   "source": [
    "Finally, we need to fill in the missing values for promoted teams.\n",
    "\n",
    "For goals for and against specific oponents, we will fill them in with 0. FOr previous season stats we will use the mean +- 1 std for the promoted teams."
   ]
  },
  {
   "cell_type": "code",
   "execution_count": 17,
   "metadata": {},
   "outputs": [],
   "source": [
    "against_opponent_columns = [\n",
    "    'HomeTeamPointsPGAtHomeAgainstOpponent',\n",
    "    'AwayTeamPointsPGOnAwayAgainstOpponent',\n",
    "    'HomeTeamPointsPGOverallAgainstOpponent',\n",
    "    'AwayTeamPointsPGOverallAgainstOpponent',\n",
    "    'HomeTeamGoalsScoredPGAtHomeAgainstOpponent',\n",
    "    'AwayTeamGoalsScoredPGOnAwayAgainstOpponent',\n",
    "    'HomeTeamGoalsScoredPGOverallAgainstOpponent',\n",
    "    'AwayTeamGoalsScoredPGOverallAgainstOpponent',\n",
    "    'HomeTeamShotsPGAtHomeAgainstOpponent',\n",
    "    'AwayTeamShotsPGOnAwayAgainstOpponent',\n",
    "    'HomeTeamShotsPGOverallAgainstOpponent',\n",
    "    'AwayTeamShotsPGOverallAgainstOpponent',\n",
    "    'HomeTeamFoulsPGAtHomeAgainstOpponent',\n",
    "    'AwayTeamFoulsPGOnAwayAgainstOpponent',\n",
    "    'HomeTeamFoulsPGOverallAgainstOpponent',\n",
    "    'AwayTeamFoulsPGOverallAgainstOpponent',\n",
    "    'HomeTeamCornersPGAtHomeAgainstOpponent',\n",
    "    'AwayTeamCornersPGOnAwayAgainstOpponent',\n",
    "    'HomeTeamCornersPGOverallAgainstOpponent',\n",
    "    'AwayTeamCornersPGOverallAgainstOpponent',\n",
    "    'HomeTeamYellowCardsPGAtHomeAgainstOpponent',\n",
    "    'AwayTeamYellowCardsPGOnAwayAgainstOpponent',\n",
    "    'HomeTeamYellowCardsPGOverallAgainstOpponent',\n",
    "    'AwayTeamYellowCardsPGOverallAgainstOpponent',\n",
    "    'HomeTeamRedCardsPGAtHomeAgainstOpponent',\n",
    "    'AwayTeamRedCardsPGOnAwayAgainstOpponent',\n",
    "    'HomeTeamRedCardsPGOverallAgainstOpponent',\n",
    "    'AwayTeamRedCardsPGOverallAgainstOpponent'\n",
    "]\n",
    "\n",
    "final_team_dataframe[against_opponent_columns] = final_team_dataframe[against_opponent_columns].fillna(0)"
   ]
  },
  {
   "cell_type": "code",
   "execution_count": 18,
   "metadata": {},
   "outputs": [
    {
     "data": {
      "text/plain": [
       "{'PointsPGAtHome': {'Mean': np.float64(1.2638819270398218),\n",
       "  'SD': np.float64(0.3489468965574057)},\n",
       " 'PointsPGOnAway': {'Mean': np.float64(0.7378550543024226),\n",
       "  'SD': np.float64(0.2641953304161131)},\n",
       " 'PointsPGOverall': {'Mean': np.float64(1.000868490671122),\n",
       "  'SD': np.float64(0.25121652433419894)},\n",
       " 'GoalsScoredPGAtHome': {'Mean': np.float64(1.2049777220829851),\n",
       "  'SD': np.float64(0.289330730724517)},\n",
       " 'GoalsScoredPGOnAway': {'Mean': np.float64(0.8904622667780564),\n",
       "  'SD': np.float64(0.257824779018998)},\n",
       " 'GoalsScoredPGOverall': {'Mean': np.float64(1.0477199944305209),\n",
       "  'SD': np.float64(0.19347943079510502)},\n",
       " 'GoalsConcededPGAtHome': {'Mean': np.float64(1.4103940406571984),\n",
       "  'SD': np.float64(0.3950461318186559)},\n",
       " 'GoalsConcededPGOnAway': {'Mean': np.float64(1.8222918407128934),\n",
       "  'SD': np.float64(0.2879227667704417)},\n",
       " 'GoalsConcededPGOverall': {'Mean': np.float64(1.616342940685046),\n",
       "  'SD': np.float64(0.2997858988802647)},\n",
       " 'GoalDifferencePGAtHome': {'Mean': np.float64(-0.20541631857421333),\n",
       "  'SD': np.float64(0.5678496793647153)},\n",
       " 'GoalDifferencePGOnAway': {'Mean': np.float64(-0.9318295739348372),\n",
       "  'SD': np.float64(0.4191796859566101)},\n",
       " 'GoalDifferencePGOverall': {'Mean': np.float64(-0.5686229462545253),\n",
       "  'SD': np.float64(0.41467208007298917)},\n",
       " 'ShotsPGAtHome': {'Mean': np.float64(11.855760930103035),\n",
       "  'SD': np.float64(1.2355688023586697)},\n",
       " 'ShotsPGOnAway': {'Mean': np.float64(9.573614592035645),\n",
       "  'SD': np.float64(1.1290329795841008)},\n",
       " 'ShotsPGOverall': {'Mean': np.float64(10.714687761069339),\n",
       "  'SD': np.float64(1.0537904927977275)},\n",
       " 'FoulsPGAtHome': {'Mean': np.float64(11.43162768031189),\n",
       "  'SD': np.float64(0.8960711945396819)},\n",
       " 'FoulsPGOnAway': {'Mean': np.float64(11.953104984683932),\n",
       "  'SD': np.float64(1.2940130419572657)},\n",
       " 'FoulsPGOverall': {'Mean': np.float64(11.69236633249791),\n",
       "  'SD': np.float64(0.9784021129491579)},\n",
       " 'CornersPGAtHome': {'Mean': np.float64(5.464825257588414),\n",
       "  'SD': np.float64(0.6315195603744798)},\n",
       " 'CornersPGOnAway': {'Mean': np.float64(4.401176552492341),\n",
       "  'SD': np.float64(0.710313635780331)},\n",
       " 'CornersPGOverall': {'Mean': np.float64(4.9330009050403785),\n",
       "  'SD': np.float64(0.544893689718005)},\n",
       " 'YellowCardsPGAtHome': {'Mean': np.float64(1.48379977722083),\n",
       "  'SD': np.float64(0.2370571424788)},\n",
       " 'YellowCardsPGOnAway': {'Mean': np.float64(1.6645189362294623),\n",
       "  'SD': np.float64(0.2930407901779517)},\n",
       " 'YellowCardsPGOverall': {'Mean': np.float64(1.574159356725146),\n",
       "  'SD': np.float64(0.20877868058837104)},\n",
       " 'RedCardsPGAtHome': {'Mean': np.float64(0.0663777499303815),\n",
       "  'SD': np.float64(0.05686633536162585)},\n",
       " 'RedCardsPGOnAway': {'Mean': np.float64(0.08680729601782229),\n",
       "  'SD': np.float64(0.050562775710435694)},\n",
       " 'RedCardsPGOverall': {'Mean': np.float64(0.07659252297410188),\n",
       "  'SD': np.float64(0.039163300765095256)}}"
      ]
     },
     "execution_count": 18,
     "metadata": {},
     "output_type": "execute_result"
    }
   ],
   "source": [
    "promoted_teams_stats"
   ]
  },
  {
   "cell_type": "code",
   "execution_count": 19,
   "metadata": {},
   "outputs": [
    {
     "name": "stdout",
     "output_type": "stream",
     "text": [
      "<class 'pandas.core.frame.DataFrame'>\n",
      "Index: 7909 entries, 380 to 8288\n",
      "Data columns (total 70 columns):\n",
      " #   Column                                       Non-Null Count  Dtype  \n",
      "---  ------                                       --------------  -----  \n",
      " 0   Season                                       7909 non-null   object \n",
      " 1   HomeTeam                                     7909 non-null   object \n",
      " 2   AwayTeam                                     7909 non-null   object \n",
      " 3   FTR                                          7909 non-null   object \n",
      " 4   HomeTeamPointsPGAtHomeAgainstOpponent        7909 non-null   float64\n",
      " 5   AwayTeamPointsPGOnAwayAgainstOpponent        7909 non-null   float64\n",
      " 6   HomeTeamPointsPGOverallAgainstOpponent       7909 non-null   float64\n",
      " 7   AwayTeamPointsPGOverallAgainstOpponent       7909 non-null   float64\n",
      " 8   HomeTeamGoalsScoredPGAtHomeAgainstOpponent   7909 non-null   float64\n",
      " 9   AwayTeamGoalsScoredPGOnAwayAgainstOpponent   7909 non-null   float64\n",
      " 10  HomeTeamGoalsScoredPGOverallAgainstOpponent  7909 non-null   float64\n",
      " 11  AwayTeamGoalsScoredPGOverallAgainstOpponent  7909 non-null   float64\n",
      " 12  HomeTeamShotsPGAtHomeAgainstOpponent         7909 non-null   float64\n",
      " 13  AwayTeamShotsPGOnAwayAgainstOpponent         7909 non-null   float64\n",
      " 14  HomeTeamShotsPGOverallAgainstOpponent        7909 non-null   float64\n",
      " 15  AwayTeamShotsPGOverallAgainstOpponent        7909 non-null   float64\n",
      " 16  HomeTeamFoulsPGAtHomeAgainstOpponent         7909 non-null   float64\n",
      " 17  AwayTeamFoulsPGOnAwayAgainstOpponent         7909 non-null   float64\n",
      " 18  HomeTeamFoulsPGOverallAgainstOpponent        7909 non-null   float64\n",
      " 19  AwayTeamFoulsPGOverallAgainstOpponent        7909 non-null   float64\n",
      " 20  HomeTeamCornersPGAtHomeAgainstOpponent       7909 non-null   float64\n",
      " 21  AwayTeamCornersPGOnAwayAgainstOpponent       7909 non-null   float64\n",
      " 22  HomeTeamCornersPGOverallAgainstOpponent      7909 non-null   float64\n",
      " 23  AwayTeamCornersPGOverallAgainstOpponent      7909 non-null   float64\n",
      " 24  HomeTeamYellowCardsPGAtHomeAgainstOpponent   7909 non-null   float64\n",
      " 25  AwayTeamYellowCardsPGOnAwayAgainstOpponent   7909 non-null   float64\n",
      " 26  HomeTeamYellowCardsPGOverallAgainstOpponent  7909 non-null   float64\n",
      " 27  AwayTeamYellowCardsPGOverallAgainstOpponent  7909 non-null   float64\n",
      " 28  HomeTeamRedCardsPGAtHomeAgainstOpponent      7909 non-null   float64\n",
      " 29  AwayTeamRedCardsPGOnAwayAgainstOpponent      7909 non-null   float64\n",
      " 30  HomeTeamRedCardsPGOverallAgainstOpponent     7909 non-null   float64\n",
      " 31  AwayTeamRedCardsPGOverallAgainstOpponent     7909 non-null   float64\n",
      " 32  HomeTeamPointsPGAtHome                       7909 non-null   float64\n",
      " 33  HomeTeamPointsPGOverall                      7909 non-null   float64\n",
      " 34  HomeTeamGoalsScoredPGAtHome                  7909 non-null   float64\n",
      " 35  HomeTeamGoalsScoredPGOverall                 7909 non-null   float64\n",
      " 36  HomeTeamGoalsConcededPGAtHome                7909 non-null   float64\n",
      " 37  HomeTeamGoalsConcededPGOverall               7909 non-null   float64\n",
      " 38  HomeTeamGoalDifferencePGAtHome               7909 non-null   float64\n",
      " 39  HomeTeamGoalDifferencePGOverall              7909 non-null   float64\n",
      " 40  HomeTeamShotsPGAtHome                        7909 non-null   float64\n",
      " 41  HomeTeamShotsPGOverall                       7909 non-null   float64\n",
      " 42  HomeTeamFoulsPGAtHome                        7909 non-null   float64\n",
      " 43  HomeTeamFoulsPGOverall                       7909 non-null   float64\n",
      " 44  HomeTeamCornersPGAtHome                      7909 non-null   float64\n",
      " 45  HomeTeamCornersPGOverall                     7909 non-null   float64\n",
      " 46  HomeTeamYellowCardsPGAtHome                  7909 non-null   float64\n",
      " 47  HomeTeamYellowCardsPGOverall                 7909 non-null   float64\n",
      " 48  HomeTeamRedCardsPGAtHome                     7909 non-null   float64\n",
      " 49  HomeTeamRedCardsPGOverall                    7909 non-null   float64\n",
      " 50  HomeTeam_finish                              7456 non-null   float64\n",
      " 51  AwayTeamPointsPGOnAway                       7909 non-null   float64\n",
      " 52  AwayTeamPointsPGOverall                      7909 non-null   float64\n",
      " 53  AwayTeamGoalsScoredPGOnAway                  7909 non-null   float64\n",
      " 54  AwayTeamGoalsScoredPGOverall                 7909 non-null   float64\n",
      " 55  AwayTeamGoalsConcededPGOnAway                7909 non-null   float64\n",
      " 56  AwayTeamGoalsConcededPGOverall               7909 non-null   float64\n",
      " 57  AwayTeamGoalDifferencePGOnAway               7909 non-null   float64\n",
      " 58  AwayTeamGoalDifferencePGOverall              7909 non-null   float64\n",
      " 59  AwayTeamShotsPGOnAway                        7909 non-null   float64\n",
      " 60  AwayTeamShotsPGOverall                       7909 non-null   float64\n",
      " 61  AwayTeamFoulsPGOnAway                        7909 non-null   float64\n",
      " 62  AwayTeamFoulsPGOverall                       7909 non-null   float64\n",
      " 63  AwayTeamCornersPGOnAway                      7909 non-null   float64\n",
      " 64  AwayTeamCornersPGOverall                     7909 non-null   float64\n",
      " 65  AwayTeamYellowCardsPGOnAway                  7909 non-null   float64\n",
      " 66  AwayTeamYellowCardsPGOverall                 7909 non-null   float64\n",
      " 67  AwayTeamRedCardsPGOnAway                     7909 non-null   float64\n",
      " 68  AwayTeamRedCardsPGOverall                    7909 non-null   float64\n",
      " 69  AwayTeam_finish                              7456 non-null   float64\n",
      "dtypes: float64(66), object(4)\n",
      "memory usage: 4.3+ MB\n"
     ]
    }
   ],
   "source": [
    "final_team_dataframe_2 = final_team_dataframe.copy()\n",
    "\n",
    "for entry in promoted_teams_stats:\n",
    "    min_val = promoted_teams_stats[entry][\"Mean\"] - promoted_teams_stats[entry][\"SD\"]\n",
    "    max_val = promoted_teams_stats[entry][\"Mean\"] + promoted_teams_stats[entry][\"SD\"]\n",
    "    for _, row in promoted_teams.iterrows():\n",
    "        if \"Home\" in entry:\n",
    "            final_team_dataframe_2.loc[(final_team_dataframe_2[\"Season\"] == row[\"Season\"]) & (final_team_dataframe_2[\"HomeTeam\"] == row[\"Team\"]), \"HomeTeam\" + entry] = np.random.uniform(min_val, max_val)\n",
    "        elif \"Away\" in entry:\n",
    "            final_team_dataframe_2.loc[(final_team_dataframe_2[\"Season\"] == row[\"Season\"]) & (final_team_dataframe_2[\"AwayTeam\"] == row[\"Team\"]), \"AwayTeam\" + entry] = np.random.uniform(min_val, max_val)\n",
    "        else:\n",
    "            final_team_dataframe_2.loc[(final_team_dataframe_2[\"Season\"] == row[\"Season\"]) & (final_team_dataframe_2[\"HomeTeam\"] == row[\"Team\"]), \"HomeTeam\" + entry] = np.random.uniform(min_val, max_val)\n",
    "            final_team_dataframe_2.loc[(final_team_dataframe_2[\"Season\"] == row[\"Season\"]) & (final_team_dataframe_2[\"AwayTeam\"] == row[\"Team\"]), \"AwayTeam\" + entry] = np.random.uniform(min_val, max_val)\n",
    "final_team_dataframe_2.info()"
   ]
  },
  {
   "cell_type": "code",
   "execution_count": 20,
   "metadata": {},
   "outputs": [],
   "source": [
    "# Mean finishing position of promoted teams\n",
    "final_team_dataframe_2[\"HomeTeam_finish\"] = final_team_dataframe_2[\"HomeTeam_finish\"].fillna(15)\n",
    "final_team_dataframe_2[\"AwayTeam_finish\"] = final_team_dataframe_2[\"AwayTeam_finish\"].fillna(15)"
   ]
  },
  {
   "cell_type": "code",
   "execution_count": 21,
   "metadata": {},
   "outputs": [],
   "source": [
    "final_team_dataframe_2.to_csv(\"../data/extracted_features_dataset.csv\", index = False)"
   ]
  },
  {
   "cell_type": "code",
   "execution_count": 27,
   "metadata": {},
   "outputs": [],
   "source": [
    "promoted_team_names = promoted_teams[[\"Season\", \"Team\"]]\n",
    "promoted_team_names.to_csv(\"../data/promoted_teams.csv\", index = False)"
   ]
  }
 ],
 "metadata": {
  "kernelspec": {
   "display_name": "Python 3",
   "language": "python",
   "name": "python3"
  },
  "language_info": {
   "codemirror_mode": {
    "name": "ipython",
    "version": 3
   },
   "file_extension": ".py",
   "mimetype": "text/x-python",
   "name": "python",
   "nbconvert_exporter": "python",
   "pygments_lexer": "ipython3",
   "version": "3.12.5"
  }
 },
 "nbformat": 4,
 "nbformat_minor": 2
}
